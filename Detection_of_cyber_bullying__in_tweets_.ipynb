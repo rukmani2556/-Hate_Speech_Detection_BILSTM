{
  "metadata": {
    "kernelspec": {
      "language": "python",
      "display_name": "Python 3",
      "name": "python3"
    },
    "language_info": {
      "name": "python",
      "version": "3.7.12",
      "mimetype": "text/x-python",
      "codemirror_mode": {
        "name": "ipython",
        "version": 3
      },
      "pygments_lexer": "ipython3",
      "nbconvert_exporter": "python",
      "file_extension": ".py"
    },
    "colab": {
      "name": "Copy of Detection_of_cyber_bullying _in_tweets .ipynb",
      "provenance": [],
      "collapsed_sections": [
        "u9wTHjTcc1D7",
        "28_q8-FP4OHp",
        "DGmYrF4d5QsP",
        "3aVlYw644OHq",
        "PLwRaYcQ4OHs",
        "fmN9566u5QsX",
        "kx0IFdyO4OHv",
        "ELMGaiE-F7yn",
        "A0d0lSX0GbNS",
        "Geqa3e3zGUNL",
        "jCD4XitS4OHx",
        "A2mww5GA4OHz",
        "QZpta6PbBONf",
        "oTbzqr0u4OH1",
        "DWSPpkgh4OH2",
        "JD2NQRAU4OH4",
        "Sjv7lTKd4OH4",
        "5qQDp2AP4OH5",
        "t4w9sai14OH6",
        "mLM3-5xc4OH7",
        "5KFtmJsu4OH7",
        "Z66k9C034OH8",
        "ZEFCOhDN4OH-",
        "Pvt7ohKD4OH-",
        "LWnd8w1e4OH_",
        "Lr21JZWi4OIA",
        "Rt4OEfQl4OIB"
      ],
      "include_colab_link": true
    }
  },
  "nbformat_minor": 0,
  "nbformat": 4,
  "cells": [
    {
      "cell_type": "markdown",
      "metadata": {
        "id": "view-in-github",
        "colab_type": "text"
      },
      "source": [
        "<a href=\"https://colab.research.google.com/github/rukmani2556/-Hate_Speech_Detection_BILSTM/blob/main/Detection_of_cyber_bullying__in_tweets_.ipynb\" target=\"_parent\"><img src=\"https://colab.research.google.com/assets/colab-badge.svg\" alt=\"Open In Colab\"/></a>"
      ]
    },
    {
      "cell_type": "markdown",
      "source": [
        "# Detecting bullying Tweets with PyTorch Bidirectional LSTM and BERT Transformer Project"
      ],
      "metadata": {
        "id": "JiIg_5F_5Qr9"
      }
    },
    {
      "cell_type": "markdown",
      "source": [
        "This project is about the analysis of tweets about cyberbullying, with the goal of performing a Sentiment Analysis using Bidirectional LSTM and BERT on PyTorch to predict if a tweet is about cyberbullying or not. <br>\n",
        "In particular, bullying tweets are divided in 4 categories: religion, age, race and gender.<br>\n",
        "The project is divided in the following sections:\n",
        "- Data Import\n",
        "- Text cleaning with custom defined functions\n",
        "- Naive Bayes baseline model Classifier\n",
        "- Data preparation for LSTM RNN: Tokenization\n",
        "- PyTorch LSTM RNN Classifier\n",
        "- Data preparation for BERT: Tokenization\n",
        "- PyTorch BERT Classifier\n",
        "- Results summary\n",
        "\n",
        "Similar NLP notebooks I made:\n",
        "- Twitter Sentiment Analysis with BERT + RoBERTa on COVID related tweets:<br>\n",
        "    https://www.kaggle.com/ludovicocuoghi/twitter-sentiment-analysis-with-bert-roberta\n",
        "\n",
        "- Twitter Sentiment Analysis with non-labeled tweets about Omicron with using Vader, NLTK, TextBLOB and Flair:<br>\n",
        "    https://www.kaggle.com/ludovicocuoghi/how-are-people-reacting-to-omicron-on-twitter"
      ],
      "metadata": {
        "id": "AiabNLkT5QsB"
      }
    },
    {
      "cell_type": "markdown",
      "source": [
        "# Main results summary:"
      ],
      "metadata": {
        "id": "J7bRgtas5QsC"
      }
    },
    {
      "cell_type": "markdown",
      "source": [
        "<img src=\"https://i.imgur.com/TU74srO.png\">"
      ],
      "metadata": {
        "execution": {
          "iopub.status.busy": "2022-01-23T16:13:11.109304Z",
          "iopub.execute_input": "2022-01-23T16:13:11.110016Z",
          "iopub.status.idle": "2022-01-23T16:13:11.118664Z",
          "shell.execute_reply.started": "2022-01-23T16:13:11.109967Z",
          "shell.execute_reply": "2022-01-23T16:13:11.117293Z"
        },
        "id": "gPuJHD1W4OHh"
      }
    },
    {
      "cell_type": "markdown",
      "source": [
        "<img src=\"https://i.imgur.com/sgQVKxv.png\">"
      ],
      "metadata": {
        "execution": {
          "iopub.status.busy": "2022-01-23T16:13:11.831378Z",
          "iopub.execute_input": "2022-01-23T16:13:11.831681Z",
          "iopub.status.idle": "2022-01-23T16:13:11.837312Z",
          "shell.execute_reply.started": "2022-01-23T16:13:11.831647Z",
          "shell.execute_reply": "2022-01-23T16:13:11.83616Z"
        },
        "id": "ggQICmP64OHi"
      }
    },
    {
      "cell_type": "markdown",
      "source": [
        "**Naive Bayes baseline classifier performed quite well on the dataset, with an overall accuracy of 85% among all the classes.<br>\n",
        "On the other hand, the custom Bidirectional LSTM RNN by PyTorch achieved an accuracy of 94%, where some classes have F1 score over 95%.**<br>\n",
        "**Finally, BERT performed the best, with an overall accuracy around 95% and F1 scores over 96%.**<br>\n",
        "Overall, the algorithms could properly distinguish the different topics of the bullying tweets, and had little **more troubles** with the **less populated class \"not cyberbullying\" and the \"gender\" class (achieving lower precision and recall compared to other classes)**.<br>\n",
        "For this reason, it could be a good idea to **collect more data of this classes** and aim to achieve higher accuracy and F1 score."
      ],
      "metadata": {
        "id": "UZ4S9NRX4OHi"
      }
    },
    {
      "cell_type": "code",
      "source": [
        "import os\n",
        "for dirname, _, filenames in os.walk('/kaggle/input'):\n",
        "    for filename in filenames:\n",
        "        print(os.path.join(dirname, filename))"
      ],
      "metadata": {
        "_uuid": "8f2839f25d086af736a60e9eeb907d3b93b6e0e5",
        "_cell_guid": "b1076dfc-b9ad-4769-8c92-a6c4dae69d19",
        "id": "pChhxDsk5QsD",
        "_kg_hide-input": true,
        "execution": {
          "iopub.status.busy": "2022-03-15T11:06:42.365194Z",
          "iopub.execute_input": "2022-03-15T11:06:42.365494Z",
          "iopub.status.idle": "2022-03-15T11:06:42.383649Z",
          "shell.execute_reply.started": "2022-03-15T11:06:42.365409Z",
          "shell.execute_reply": "2022-03-15T11:06:42.382792Z"
        },
        "trusted": true
      },
      "execution_count": null,
      "outputs": []
    },
    {
      "cell_type": "markdown",
      "source": [
        "## Custom functions definition:"
      ],
      "metadata": {
        "id": "4FTuTnsT4OHk"
      }
    },
    {
      "cell_type": "code",
      "source": [
        "def conf_matrix(y, y_pred, title, labels):\n",
        "    fig, ax =plt.subplots(figsize=(7.5,7.5))\n",
        "    ax=sns.heatmap(confusion_matrix(y, y_pred), annot=True, cmap=\"Purples\", fmt='g', cbar=False, annot_kws={\"size\":30})\n",
        "    plt.title(title, fontsize=25)\n",
        "    ax.xaxis.set_ticklabels(labels, fontsize=16) \n",
        "    ax.yaxis.set_ticklabels(labels, fontsize=14.5)\n",
        "    ax.set_ylabel('Test', fontsize=25)\n",
        "    ax.set_xlabel('Predicted', fontsize=25)\n",
        "    plt.show()"
      ],
      "metadata": {
        "_kg_hide-input": true,
        "execution": {
          "iopub.status.busy": "2022-03-15T11:06:42.385045Z",
          "iopub.execute_input": "2022-03-15T11:06:42.385341Z",
          "iopub.status.idle": "2022-03-15T11:06:42.392660Z",
          "shell.execute_reply.started": "2022-03-15T11:06:42.385304Z",
          "shell.execute_reply": "2022-03-15T11:06:42.391640Z"
        },
        "trusted": true,
        "id": "v5ijsQnQ4OHk"
      },
      "execution_count": null,
      "outputs": []
    },
    {
      "cell_type": "markdown",
      "source": [
        "## Import libraries"
      ],
      "metadata": {
        "id": "OWkg5i9_4OHl"
      }
    },
    {
      "cell_type": "code",
      "source": [
        "#Libraries for general purpose\n",
        "import pandas as pd\n",
        "import numpy as np\n",
        "import matplotlib.pyplot as plt\n",
        "import seaborn as sns\n",
        "\n",
        "#Text cleaning\n",
        "import re, string\n",
        "!pip install emoji\n",
        "import emoji\n",
        "import nltk\n",
        "nltk.download('stopwords')\n",
        "nltk.download('punkt')\n",
        "from nltk.stem import WordNetLemmatizer,PorterStemmer\n",
        "from nltk.corpus import stopwords\n",
        "stop_words = set(stopwords.words('english'))\n",
        "\n",
        "#Data preprocessing\n",
        "from sklearn import preprocessing\n",
        "from sklearn.model_selection import train_test_split\n",
        "from imblearn.over_sampling import RandomOverSampler\n",
        "\n",
        "#Naive Bayes\n",
        "from sklearn.feature_extraction.text import CountVectorizer\n",
        "from sklearn.feature_extraction.text import TfidfTransformer\n",
        "from sklearn.naive_bayes import MultinomialNB\n",
        "\n",
        "\n",
        "#PyTorch LSTM\n",
        "import torch\n",
        "import torch.nn as nn\n",
        "import torch.nn.functional as F\n",
        "from torch.utils.data import TensorDataset, DataLoader, RandomSampler, SequentialSampler\n",
        "\n",
        "#Tokenization for LSTM\n",
        "from collections import Counter\n",
        "from gensim.models import Word2Vec\n",
        "\n",
        "#Transformers library for BERT\n",
        "!pip install transformers\n",
        "import transformers\n",
        "from transformers import BertModel\n",
        "from transformers import BertTokenizer\n",
        "from transformers import AdamW, get_linear_schedule_with_warmup\n",
        "\n",
        "from sklearn.metrics import classification_report, confusion_matrix\n",
        "\n",
        "#Seed for reproducibility\n",
        "import random\n",
        "\n",
        "seed_value=42\n",
        "random.seed(seed_value)\n",
        "np.random.seed(seed_value)\n",
        "torch.manual_seed(seed_value)\n",
        "torch.cuda.manual_seed_all(seed_value)\n",
        "\n",
        "import time\n",
        "\n",
        "#set style for plots\n",
        "sns.set_style(\"whitegrid\")\n",
        "sns.despine()\n",
        "plt.style.use(\"seaborn-whitegrid\")\n",
        "plt.rc(\"figure\", autolayout=True)\n",
        "plt.rc(\"axes\", labelweight=\"bold\", labelsize=\"large\", titleweight=\"bold\", titlepad=10)\n",
        "%matplotlib inline\n",
        "!pip install gensim\n",
        "import warnings\n",
        "warnings.filterwarnings(action = 'ignore')\n",
        "import gensim\n",
        "from gensim.models import Word2Vec\n"
      ],
      "metadata": {
        "id": "D0GOzHmK5QsH",
        "outputId": "42a954fc-0f47-4383-95e2-8f30c7daa546",
        "execution": {
          "iopub.status.busy": "2022-03-15T11:06:42.394161Z",
          "iopub.execute_input": "2022-03-15T11:06:42.394589Z",
          "iopub.status.idle": "2022-03-15T11:06:45.309727Z",
          "shell.execute_reply.started": "2022-03-15T11:06:42.394553Z",
          "shell.execute_reply": "2022-03-15T11:06:45.308901Z"
        },
        "trusted": true,
        "colab": {
          "base_uri": "https://localhost:8080/"
        }
      },
      "execution_count": null,
      "outputs": [
        {
          "output_type": "stream",
          "name": "stdout",
          "text": [
            "Requirement already satisfied: emoji in /usr/local/lib/python3.7/dist-packages (1.7.0)\n",
            "[nltk_data] Downloading package stopwords to /root/nltk_data...\n",
            "[nltk_data]   Package stopwords is already up-to-date!\n",
            "[nltk_data] Downloading package punkt to /root/nltk_data...\n",
            "[nltk_data]   Package punkt is already up-to-date!\n",
            "Requirement already satisfied: transformers in /usr/local/lib/python3.7/dist-packages (4.18.0)\n",
            "Requirement already satisfied: importlib-metadata in /usr/local/lib/python3.7/dist-packages (from transformers) (4.11.3)\n",
            "Requirement already satisfied: tokenizers!=0.11.3,<0.13,>=0.11.1 in /usr/local/lib/python3.7/dist-packages (from transformers) (0.12.1)\n",
            "Requirement already satisfied: numpy>=1.17 in /usr/local/lib/python3.7/dist-packages (from transformers) (1.21.5)\n",
            "Requirement already satisfied: sacremoses in /usr/local/lib/python3.7/dist-packages (from transformers) (0.0.49)\n",
            "Requirement already satisfied: filelock in /usr/local/lib/python3.7/dist-packages (from transformers) (3.6.0)\n",
            "Requirement already satisfied: pyyaml>=5.1 in /usr/local/lib/python3.7/dist-packages (from transformers) (6.0)\n",
            "Requirement already satisfied: packaging>=20.0 in /usr/local/lib/python3.7/dist-packages (from transformers) (21.3)\n",
            "Requirement already satisfied: regex!=2019.12.17 in /usr/local/lib/python3.7/dist-packages (from transformers) (2019.12.20)\n",
            "Requirement already satisfied: tqdm>=4.27 in /usr/local/lib/python3.7/dist-packages (from transformers) (4.64.0)\n",
            "Requirement already satisfied: requests in /usr/local/lib/python3.7/dist-packages (from transformers) (2.23.0)\n",
            "Requirement already satisfied: huggingface-hub<1.0,>=0.1.0 in /usr/local/lib/python3.7/dist-packages (from transformers) (0.5.1)\n",
            "Requirement already satisfied: typing-extensions>=3.7.4.3 in /usr/local/lib/python3.7/dist-packages (from huggingface-hub<1.0,>=0.1.0->transformers) (4.1.1)\n",
            "Requirement already satisfied: pyparsing!=3.0.5,>=2.0.2 in /usr/local/lib/python3.7/dist-packages (from packaging>=20.0->transformers) (3.0.8)\n",
            "Requirement already satisfied: zipp>=0.5 in /usr/local/lib/python3.7/dist-packages (from importlib-metadata->transformers) (3.8.0)\n",
            "Requirement already satisfied: certifi>=2017.4.17 in /usr/local/lib/python3.7/dist-packages (from requests->transformers) (2021.10.8)\n",
            "Requirement already satisfied: chardet<4,>=3.0.2 in /usr/local/lib/python3.7/dist-packages (from requests->transformers) (3.0.4)\n",
            "Requirement already satisfied: idna<3,>=2.5 in /usr/local/lib/python3.7/dist-packages (from requests->transformers) (2.10)\n",
            "Requirement already satisfied: urllib3!=1.25.0,!=1.25.1,<1.26,>=1.21.1 in /usr/local/lib/python3.7/dist-packages (from requests->transformers) (1.24.3)\n",
            "Requirement already satisfied: six in /usr/local/lib/python3.7/dist-packages (from sacremoses->transformers) (1.15.0)\n",
            "Requirement already satisfied: click in /usr/local/lib/python3.7/dist-packages (from sacremoses->transformers) (7.1.2)\n",
            "Requirement already satisfied: joblib in /usr/local/lib/python3.7/dist-packages (from sacremoses->transformers) (1.1.0)\n",
            "Requirement already satisfied: gensim in /usr/local/lib/python3.7/dist-packages (3.6.0)\n",
            "Requirement already satisfied: smart-open>=1.2.1 in /usr/local/lib/python3.7/dist-packages (from gensim) (5.2.1)\n",
            "Requirement already satisfied: numpy>=1.11.3 in /usr/local/lib/python3.7/dist-packages (from gensim) (1.21.5)\n",
            "Requirement already satisfied: scipy>=0.18.1 in /usr/local/lib/python3.7/dist-packages (from gensim) (1.4.1)\n",
            "Requirement already satisfied: six>=1.5.0 in /usr/local/lib/python3.7/dist-packages (from gensim) (1.15.0)\n"
          ]
        }
      ]
    },
    {
      "cell_type": "markdown",
      "source": [
        "## Data Import"
      ],
      "metadata": {
        "id": "qGfeyYaH4OHm"
      }
    },
    {
      "cell_type": "code",
      "source": [
        "df = pd.read_csv(\"cyberbullying_tweets.csv\")"
      ],
      "metadata": {
        "id": "aCVJ1XJi5QsI",
        "execution": {
          "iopub.status.busy": "2022-03-15T11:06:45.313239Z",
          "iopub.execute_input": "2022-03-15T11:06:45.314007Z",
          "iopub.status.idle": "2022-03-15T11:06:45.427226Z",
          "shell.execute_reply.started": "2022-03-15T11:06:45.313964Z",
          "shell.execute_reply": "2022-03-15T11:06:45.426478Z"
        },
        "trusted": true
      },
      "execution_count": null,
      "outputs": []
    },
    {
      "cell_type": "code",
      "source": [
        "df.head()"
      ],
      "metadata": {
        "id": "NPhe4rM35QsJ",
        "outputId": "af96c916-52c8-431b-a85c-bb72d1ce6bce",
        "execution": {
          "iopub.status.busy": "2022-03-15T11:06:45.430350Z",
          "iopub.execute_input": "2022-03-15T11:06:45.430571Z",
          "iopub.status.idle": "2022-03-15T11:06:45.442208Z",
          "shell.execute_reply.started": "2022-03-15T11:06:45.430546Z",
          "shell.execute_reply": "2022-03-15T11:06:45.441427Z"
        },
        "trusted": true
      },
      "execution_count": null,
      "outputs": [
        {
          "execution_count": 5,
          "output_type": "execute_result",
          "data": {
            "text/plain": "                                          tweet_text cyberbullying_type\n0  In other words #katandandre, your food was cra...  not_cyberbullying\n1  Why is #aussietv so white? #MKR #theblock #ImA...  not_cyberbullying\n2  @XochitlSuckkks a classy whore? Or more red ve...  not_cyberbullying\n3  @Jason_Gio meh. :P  thanks for the heads up, b...  not_cyberbullying\n4  @RudhoeEnglish This is an ISIS account pretend...  not_cyberbullying",
            "text/html": "<div>\n<style scoped>\n    .dataframe tbody tr th:only-of-type {\n        vertical-align: middle;\n    }\n\n    .dataframe tbody tr th {\n        vertical-align: top;\n    }\n\n    .dataframe thead th {\n        text-align: right;\n    }\n</style>\n<table border=\"1\" class=\"dataframe\">\n  <thead>\n    <tr style=\"text-align: right;\">\n      <th></th>\n      <th>tweet_text</th>\n      <th>cyberbullying_type</th>\n    </tr>\n  </thead>\n  <tbody>\n    <tr>\n      <th>0</th>\n      <td>In other words #katandandre, your food was cra...</td>\n      <td>not_cyberbullying</td>\n    </tr>\n    <tr>\n      <th>1</th>\n      <td>Why is #aussietv so white? #MKR #theblock #ImA...</td>\n      <td>not_cyberbullying</td>\n    </tr>\n    <tr>\n      <th>2</th>\n      <td>@XochitlSuckkks a classy whore? Or more red ve...</td>\n      <td>not_cyberbullying</td>\n    </tr>\n    <tr>\n      <th>3</th>\n      <td>@Jason_Gio meh. :P  thanks for the heads up, b...</td>\n      <td>not_cyberbullying</td>\n    </tr>\n    <tr>\n      <th>4</th>\n      <td>@RudhoeEnglish This is an ISIS account pretend...</td>\n      <td>not_cyberbullying</td>\n    </tr>\n  </tbody>\n</table>\n</div>"
          },
          "metadata": {}
        }
      ]
    },
    {
      "cell_type": "code",
      "source": [
        "df.info()"
      ],
      "metadata": {
        "execution": {
          "iopub.status.busy": "2022-03-15T11:06:45.443570Z",
          "iopub.execute_input": "2022-03-15T11:06:45.444447Z",
          "iopub.status.idle": "2022-03-15T11:06:45.465481Z",
          "shell.execute_reply.started": "2022-03-15T11:06:45.444410Z",
          "shell.execute_reply": "2022-03-15T11:06:45.464746Z"
        },
        "trusted": true,
        "colab": {
          "base_uri": "https://localhost:8080/"
        },
        "id": "ji7kd2cd4OHn",
        "outputId": "59fa3757-cad1-4a51-ef6b-852a6ea98994"
      },
      "execution_count": null,
      "outputs": [
        {
          "output_type": "stream",
          "name": "stdout",
          "text": [
            "<class 'pandas.core.frame.DataFrame'>\n",
            "RangeIndex: 47692 entries, 0 to 47691\n",
            "Data columns (total 2 columns):\n",
            " #   Column              Non-Null Count  Dtype \n",
            "---  ------              --------------  ----- \n",
            " 0   tweet_text          47692 non-null  object\n",
            " 1   cyberbullying_type  47692 non-null  object\n",
            "dtypes: object(2)\n",
            "memory usage: 745.3+ KB\n"
          ]
        }
      ]
    },
    {
      "cell_type": "markdown",
      "source": [
        "First we rename the columns using shorter words for easier reference."
      ],
      "metadata": {
        "id": "5QAcf1984OHn"
      }
    },
    {
      "cell_type": "code",
      "source": [
        "df = df.rename(columns={'tweet_text': 'text', 'cyberbullying_type': 'sentiment'})"
      ],
      "metadata": {
        "id": "AwUN352x5QsK",
        "execution": {
          "iopub.status.busy": "2022-03-15T11:06:45.466912Z",
          "iopub.execute_input": "2022-03-15T11:06:45.467426Z",
          "iopub.status.idle": "2022-03-15T11:06:45.472765Z",
          "shell.execute_reply.started": "2022-03-15T11:06:45.467388Z",
          "shell.execute_reply": "2022-03-15T11:06:45.472018Z"
        },
        "trusted": true
      },
      "execution_count": null,
      "outputs": []
    },
    {
      "cell_type": "markdown",
      "source": [
        "### Are there duplicated tweets?"
      ],
      "metadata": {
        "id": "u9wTHjTcc1D7"
      }
    },
    {
      "cell_type": "code",
      "source": [
        "df.duplicated().sum()"
      ],
      "metadata": {
        "execution": {
          "iopub.status.busy": "2022-03-15T11:06:45.474397Z",
          "iopub.execute_input": "2022-03-15T11:06:45.474658Z",
          "iopub.status.idle": "2022-03-15T11:06:45.513341Z",
          "shell.execute_reply.started": "2022-03-15T11:06:45.474625Z",
          "shell.execute_reply": "2022-03-15T11:06:45.512638Z"
        },
        "trusted": true,
        "colab": {
          "base_uri": "https://localhost:8080/"
        },
        "id": "WmlsKnof4OHo",
        "outputId": "39fed660-8bd7-48fb-9596-c1483ad41733"
      },
      "execution_count": null,
      "outputs": [
        {
          "output_type": "execute_result",
          "data": {
            "text/plain": [
              "36"
            ]
          },
          "metadata": {},
          "execution_count": 11
        }
      ]
    },
    {
      "cell_type": "markdown",
      "source": [
        "There are some duplicated tweets, we will remove them."
      ],
      "metadata": {
        "id": "mvMCPkVI4OHo"
      }
    },
    {
      "cell_type": "code",
      "source": [
        "df = df[~df.duplicated()]"
      ],
      "metadata": {
        "id": "4u7mn7wkchxj",
        "execution": {
          "iopub.status.busy": "2022-03-15T11:06:45.514494Z",
          "iopub.execute_input": "2022-03-15T11:06:45.514838Z",
          "iopub.status.idle": "2022-03-15T11:06:45.546538Z",
          "shell.execute_reply.started": "2022-03-15T11:06:45.514797Z",
          "shell.execute_reply": "2022-03-15T11:06:45.545845Z"
        },
        "trusted": true
      },
      "execution_count": null,
      "outputs": []
    },
    {
      "cell_type": "code",
      "source": [
        "df.info()"
      ],
      "metadata": {
        "id": "oedUGlQ9crg2",
        "outputId": "dabb3d83-e26a-4bed-fb39-171b543af5a6",
        "execution": {
          "iopub.status.busy": "2022-03-15T11:06:45.547843Z",
          "iopub.execute_input": "2022-03-15T11:06:45.548284Z",
          "iopub.status.idle": "2022-03-15T11:06:45.567784Z",
          "shell.execute_reply.started": "2022-03-15T11:06:45.548249Z",
          "shell.execute_reply": "2022-03-15T11:06:45.566278Z"
        },
        "trusted": true,
        "colab": {
          "base_uri": "https://localhost:8080/"
        }
      },
      "execution_count": null,
      "outputs": [
        {
          "output_type": "stream",
          "name": "stdout",
          "text": [
            "<class 'pandas.core.frame.DataFrame'>\n",
            "Int64Index: 47656 entries, 0 to 47691\n",
            "Data columns (total 2 columns):\n",
            " #   Column     Non-Null Count  Dtype \n",
            "---  ------     --------------  ----- \n",
            " 0   text       47656 non-null  object\n",
            " 1   sentiment  47656 non-null  object\n",
            "dtypes: object(2)\n",
            "memory usage: 1.1+ MB\n"
          ]
        }
      ]
    },
    {
      "cell_type": "markdown",
      "source": [
        "### Are the classes balanced?"
      ],
      "metadata": {
        "id": "28_q8-FP4OHp"
      }
    },
    {
      "cell_type": "code",
      "source": [
        "df.sentiment.value_counts()"
      ],
      "metadata": {
        "id": "c82luV2N5QsN",
        "outputId": "94e19588-edc5-46cc-b42b-b7660a302ce4",
        "execution": {
          "iopub.status.busy": "2022-03-15T11:06:45.570171Z",
          "iopub.execute_input": "2022-03-15T11:06:45.570493Z",
          "iopub.status.idle": "2022-03-15T11:06:45.584722Z",
          "shell.execute_reply.started": "2022-03-15T11:06:45.570457Z",
          "shell.execute_reply": "2022-03-15T11:06:45.584060Z"
        },
        "trusted": true,
        "colab": {
          "base_uri": "https://localhost:8080/"
        }
      },
      "execution_count": null,
      "outputs": [
        {
          "output_type": "execute_result",
          "data": {
            "text/plain": [
              "religion               7997\n",
              "age                    7992\n",
              "ethnicity              7959\n",
              "gender                 7948\n",
              "not_cyberbullying      7937\n",
              "other_cyberbullying    7823\n",
              "Name: sentiment, dtype: int64"
            ]
          },
          "metadata": {},
          "execution_count": 14
        }
      ]
    },
    {
      "cell_type": "markdown",
      "source": [
        "The classes look balanced."
      ],
      "metadata": {
        "id": "3S1gVJiG4OHp"
      }
    },
    {
      "cell_type": "markdown",
      "source": [
        "# Tweets text deep cleaning"
      ],
      "metadata": {
        "execution": {
          "iopub.status.busy": "2022-01-19T09:34:52.112005Z",
          "iopub.execute_input": "2022-01-19T09:34:52.112295Z",
          "iopub.status.idle": "2022-01-19T09:34:53.14386Z",
          "shell.execute_reply.started": "2022-01-19T09:34:52.112262Z",
          "shell.execute_reply": "2022-01-19T09:34:53.142913Z"
        },
        "id": "DGmYrF4d5QsP"
      }
    },
    {
      "cell_type": "markdown",
      "source": [
        "Next, we will define custom functions to clean the texts of the tweets."
      ],
      "metadata": {
        "id": "K_LE7zb-4OHp"
      }
    },
    {
      "cell_type": "code",
      "source": [
        "##CUSTOM DEFINED FUNCTIONS TO CLEAN THE TWEETS\n",
        "\n",
        "#Clean emojis from text\n",
        "def strip_emoji(text):\n",
        "    return re.sub(emoji.get_emoji_regexp(), r\"\", text) #remove emoji\n",
        "\n",
        "#Remove punctuations, links, stopwords, mentions and \\r\\n new line characters\n",
        "def strip_all_entities(text): \n",
        "    text = text.replace('\\r', '').replace('\\n', ' ').lower() #remove \\n and \\r and lowercase\n",
        "    text = re.sub(r\"(?:\\@|https?\\://)\\S+\", \"\", text) #remove links and mentions\n",
        "    text = re.sub(r'[^\\x00-\\x7f]',r'', text) #remove non utf8/ascii characters such as '\\x9a\\x91\\x97\\x9a\\x97'\n",
        "    banned_list= string.punctuation\n",
        "    table = str.maketrans('', '', banned_list)\n",
        "    text = text.translate(table)\n",
        "    text = [word for word in text.split() if word not in stop_words]\n",
        "    text = ' '.join(text)\n",
        "    text =' '.join(word for word in text.split() if len(word) < 14) # remove words longer than 14 characters\n",
        "    return text\n",
        "\n",
        "#remove contractions\n",
        "def decontract(text):\n",
        "    text = re.sub(r\"can\\'t\", \"can not\", text)\n",
        "    text = re.sub(r\"n\\'t\", \" not\", text)\n",
        "    text = re.sub(r\"\\'re\", \" are\", text)\n",
        "    text = re.sub(r\"\\'s\", \" is\", text)\n",
        "    text = re.sub(r\"\\'d\", \" would\", text)\n",
        "    text = re.sub(r\"\\'ll\", \" will\", text)\n",
        "    text = re.sub(r\"\\'t\", \" not\", text)\n",
        "    text = re.sub(r\"\\'ve\", \" have\", text)\n",
        "    text = re.sub(r\"\\'m\", \" am\", text)\n",
        "    return text\n",
        "\n",
        "#clean hashtags at the end of the sentence, and keep those in the middle of the sentence by removing just the \"#\" symbol\n",
        "def clean_hashtags(tweet):\n",
        "    new_tweet = \" \".join(word.strip() for word in re.split('#(?!(?:hashtag)\\b)[\\w-]+(?=(?:\\s+#[\\w-]+)*\\s*$)', tweet)) #remove last hashtags\n",
        "    new_tweet2 = \" \".join(word.strip() for word in re.split('#|_', new_tweet)) #remove hashtags symbol from words in the middle of the sentence\n",
        "    return new_tweet2\n",
        "\n",
        "#Filter special characters such as \"&\" and \"$\" present in some words\n",
        "def filter_chars(a):\n",
        "    sent = []\n",
        "    for word in a.split(' '):\n",
        "        if ('$' in word) | ('&' in word):\n",
        "            sent.append('')\n",
        "        else:\n",
        "            sent.append(word)\n",
        "    return ' '.join(sent)\n",
        "\n",
        "#Remove multiple sequential spaces\n",
        "def remove_mult_spaces(text):\n",
        "    return re.sub(\"\\s\\s+\" , \" \", text)\n",
        "\n",
        "#Stemming\n",
        "def stemmer(text):\n",
        "    tokenized = nltk.word_tokenize(text)\n",
        "    ps = PorterStemmer()\n",
        "    return ' '.join([ps.stem(words) for words in tokenized])\n",
        "\n",
        "#Lemmatization \n",
        "#NOTE:Stemming seems to work better for this dataset\n",
        "def lemmatize(text):\n",
        "    tokenized = nltk.word_tokenize(text)\n",
        "    lm = WordNetLemmatizer()\n",
        "    return ' '.join([lm.lemmatize(words) for words in tokenized])\n",
        "\n",
        "#Then we apply all the defined functions in the following order\n",
        "def deep_clean(text):\n",
        "    text = strip_emoji(text)\n",
        "    text = decontract(text)\n",
        "    text = strip_all_entities(text)\n",
        "    text = clean_hashtags(text)\n",
        "    text = filter_chars(text)\n",
        "    text = remove_mult_spaces(text)\n",
        "    text = stemmer(text)\n",
        "    return text"
      ],
      "metadata": {
        "id": "E5E1UwMc5QsQ",
        "execution": {
          "iopub.status.busy": "2022-03-15T11:06:45.586233Z",
          "iopub.execute_input": "2022-03-15T11:06:45.586740Z",
          "iopub.status.idle": "2022-03-15T11:06:45.604592Z",
          "shell.execute_reply.started": "2022-03-15T11:06:45.586703Z",
          "shell.execute_reply": "2022-03-15T11:06:45.603771Z"
        },
        "trusted": true
      },
      "execution_count": null,
      "outputs": []
    },
    {
      "cell_type": "code",
      "source": [
        "texts_new = []\n",
        "for t in df.text:\n",
        "    texts_new.append(deep_clean(t))"
      ],
      "metadata": {
        "id": "Lx-xXilI5QsT",
        "execution": {
          "iopub.status.busy": "2022-03-15T11:06:45.608811Z",
          "iopub.execute_input": "2022-03-15T11:06:45.609192Z",
          "iopub.status.idle": "2022-03-15T11:07:56.524297Z",
          "shell.execute_reply.started": "2022-03-15T11:06:45.609158Z",
          "shell.execute_reply": "2022-03-15T11:07:56.523492Z"
        },
        "trusted": true,
        "colab": {
          "base_uri": "https://localhost:8080/"
        },
        "outputId": "5138e8ff-6d96-4949-d914-a0871c7c8f8b"
      },
      "execution_count": null,
      "outputs": [
        {
          "output_type": "stream",
          "name": "stderr",
          "text": [
            "/usr/local/lib/python3.7/dist-packages/ipykernel_launcher.py:5: DeprecationWarning: 'emoji.get_emoji_regexp()' is deprecated and will be removed in version 2.0.0. If you want to remove emoji from a string, consider the method emoji.replace_emoji(str, replace='').\n",
            "To hide this warning, pin/downgrade the package to 'emoji~=1.6.3'\n",
            "  \"\"\"\n"
          ]
        }
      ]
    },
    {
      "cell_type": "code",
      "source": [
        "df['text_clean'] = texts_new"
      ],
      "metadata": {
        "id": "Ah-xjjhv5QsT",
        "execution": {
          "iopub.status.busy": "2022-03-15T11:07:56.525598Z",
          "iopub.execute_input": "2022-03-15T11:07:56.525860Z",
          "iopub.status.idle": "2022-03-15T11:07:56.538252Z",
          "shell.execute_reply.started": "2022-03-15T11:07:56.525826Z",
          "shell.execute_reply": "2022-03-15T11:07:56.537531Z"
        },
        "trusted": true
      },
      "execution_count": null,
      "outputs": []
    },
    {
      "cell_type": "code",
      "source": [
        "df.head()"
      ],
      "metadata": {
        "execution": {
          "iopub.status.busy": "2022-03-15T11:07:56.540277Z",
          "iopub.execute_input": "2022-03-15T11:07:56.540848Z",
          "iopub.status.idle": "2022-03-15T11:07:56.554150Z",
          "shell.execute_reply.started": "2022-03-15T11:07:56.540810Z",
          "shell.execute_reply": "2022-03-15T11:07:56.553406Z"
        },
        "trusted": true,
        "colab": {
          "base_uri": "https://localhost:8080/",
          "height": 206
        },
        "id": "4qEoAkeO4OHq",
        "outputId": "28878a24-7024-4af8-de3c-626c0a7e2997"
      },
      "execution_count": null,
      "outputs": [
        {
          "output_type": "execute_result",
          "data": {
            "text/plain": [
              "                                                text          sentiment  \\\n",
              "0  In other words #katandandre, your food was cra...  not_cyberbullying   \n",
              "1  Why is #aussietv so white? #MKR #theblock #ImA...  not_cyberbullying   \n",
              "2  @XochitlSuckkks a classy whore? Or more red ve...  not_cyberbullying   \n",
              "3  @Jason_Gio meh. :P  thanks for the heads up, b...  not_cyberbullying   \n",
              "4  @RudhoeEnglish This is an ISIS account pretend...  not_cyberbullying   \n",
              "\n",
              "                                          text_clean  \n",
              "0                 word katandandr food crapilici mkr  \n",
              "1  aussietv white mkr theblock today sunris studi...  \n",
              "2                     classi whore red velvet cupcak  \n",
              "3  meh p thank head concern anoth angri dude twitter  \n",
              "4  isi account pretend kurdish account like islam...  "
            ],
            "text/html": [
              "\n",
              "  <div id=\"df-0a53ea0d-5177-4c5c-87ba-782f6647ea5a\">\n",
              "    <div class=\"colab-df-container\">\n",
              "      <div>\n",
              "<style scoped>\n",
              "    .dataframe tbody tr th:only-of-type {\n",
              "        vertical-align: middle;\n",
              "    }\n",
              "\n",
              "    .dataframe tbody tr th {\n",
              "        vertical-align: top;\n",
              "    }\n",
              "\n",
              "    .dataframe thead th {\n",
              "        text-align: right;\n",
              "    }\n",
              "</style>\n",
              "<table border=\"1\" class=\"dataframe\">\n",
              "  <thead>\n",
              "    <tr style=\"text-align: right;\">\n",
              "      <th></th>\n",
              "      <th>text</th>\n",
              "      <th>sentiment</th>\n",
              "      <th>text_clean</th>\n",
              "    </tr>\n",
              "  </thead>\n",
              "  <tbody>\n",
              "    <tr>\n",
              "      <th>0</th>\n",
              "      <td>In other words #katandandre, your food was cra...</td>\n",
              "      <td>not_cyberbullying</td>\n",
              "      <td>word katandandr food crapilici mkr</td>\n",
              "    </tr>\n",
              "    <tr>\n",
              "      <th>1</th>\n",
              "      <td>Why is #aussietv so white? #MKR #theblock #ImA...</td>\n",
              "      <td>not_cyberbullying</td>\n",
              "      <td>aussietv white mkr theblock today sunris studi...</td>\n",
              "    </tr>\n",
              "    <tr>\n",
              "      <th>2</th>\n",
              "      <td>@XochitlSuckkks a classy whore? Or more red ve...</td>\n",
              "      <td>not_cyberbullying</td>\n",
              "      <td>classi whore red velvet cupcak</td>\n",
              "    </tr>\n",
              "    <tr>\n",
              "      <th>3</th>\n",
              "      <td>@Jason_Gio meh. :P  thanks for the heads up, b...</td>\n",
              "      <td>not_cyberbullying</td>\n",
              "      <td>meh p thank head concern anoth angri dude twitter</td>\n",
              "    </tr>\n",
              "    <tr>\n",
              "      <th>4</th>\n",
              "      <td>@RudhoeEnglish This is an ISIS account pretend...</td>\n",
              "      <td>not_cyberbullying</td>\n",
              "      <td>isi account pretend kurdish account like islam...</td>\n",
              "    </tr>\n",
              "  </tbody>\n",
              "</table>\n",
              "</div>\n",
              "      <button class=\"colab-df-convert\" onclick=\"convertToInteractive('df-0a53ea0d-5177-4c5c-87ba-782f6647ea5a')\"\n",
              "              title=\"Convert this dataframe to an interactive table.\"\n",
              "              style=\"display:none;\">\n",
              "        \n",
              "  <svg xmlns=\"http://www.w3.org/2000/svg\" height=\"24px\"viewBox=\"0 0 24 24\"\n",
              "       width=\"24px\">\n",
              "    <path d=\"M0 0h24v24H0V0z\" fill=\"none\"/>\n",
              "    <path d=\"M18.56 5.44l.94 2.06.94-2.06 2.06-.94-2.06-.94-.94-2.06-.94 2.06-2.06.94zm-11 1L8.5 8.5l.94-2.06 2.06-.94-2.06-.94L8.5 2.5l-.94 2.06-2.06.94zm10 10l.94 2.06.94-2.06 2.06-.94-2.06-.94-.94-2.06-.94 2.06-2.06.94z\"/><path d=\"M17.41 7.96l-1.37-1.37c-.4-.4-.92-.59-1.43-.59-.52 0-1.04.2-1.43.59L10.3 9.45l-7.72 7.72c-.78.78-.78 2.05 0 2.83L4 21.41c.39.39.9.59 1.41.59.51 0 1.02-.2 1.41-.59l7.78-7.78 2.81-2.81c.8-.78.8-2.07 0-2.86zM5.41 20L4 18.59l7.72-7.72 1.47 1.35L5.41 20z\"/>\n",
              "  </svg>\n",
              "      </button>\n",
              "      \n",
              "  <style>\n",
              "    .colab-df-container {\n",
              "      display:flex;\n",
              "      flex-wrap:wrap;\n",
              "      gap: 12px;\n",
              "    }\n",
              "\n",
              "    .colab-df-convert {\n",
              "      background-color: #E8F0FE;\n",
              "      border: none;\n",
              "      border-radius: 50%;\n",
              "      cursor: pointer;\n",
              "      display: none;\n",
              "      fill: #1967D2;\n",
              "      height: 32px;\n",
              "      padding: 0 0 0 0;\n",
              "      width: 32px;\n",
              "    }\n",
              "\n",
              "    .colab-df-convert:hover {\n",
              "      background-color: #E2EBFA;\n",
              "      box-shadow: 0px 1px 2px rgba(60, 64, 67, 0.3), 0px 1px 3px 1px rgba(60, 64, 67, 0.15);\n",
              "      fill: #174EA6;\n",
              "    }\n",
              "\n",
              "    [theme=dark] .colab-df-convert {\n",
              "      background-color: #3B4455;\n",
              "      fill: #D2E3FC;\n",
              "    }\n",
              "\n",
              "    [theme=dark] .colab-df-convert:hover {\n",
              "      background-color: #434B5C;\n",
              "      box-shadow: 0px 1px 3px 1px rgba(0, 0, 0, 0.15);\n",
              "      filter: drop-shadow(0px 1px 2px rgba(0, 0, 0, 0.3));\n",
              "      fill: #FFFFFF;\n",
              "    }\n",
              "  </style>\n",
              "\n",
              "      <script>\n",
              "        const buttonEl =\n",
              "          document.querySelector('#df-0a53ea0d-5177-4c5c-87ba-782f6647ea5a button.colab-df-convert');\n",
              "        buttonEl.style.display =\n",
              "          google.colab.kernel.accessAllowed ? 'block' : 'none';\n",
              "\n",
              "        async function convertToInteractive(key) {\n",
              "          const element = document.querySelector('#df-0a53ea0d-5177-4c5c-87ba-782f6647ea5a');\n",
              "          const dataTable =\n",
              "            await google.colab.kernel.invokeFunction('convertToInteractive',\n",
              "                                                     [key], {});\n",
              "          if (!dataTable) return;\n",
              "\n",
              "          const docLinkHtml = 'Like what you see? Visit the ' +\n",
              "            '<a target=\"_blank\" href=https://colab.research.google.com/notebooks/data_table.ipynb>data table notebook</a>'\n",
              "            + ' to learn more about interactive tables.';\n",
              "          element.innerHTML = '';\n",
              "          dataTable['output_type'] = 'display_data';\n",
              "          await google.colab.output.renderOutput(dataTable, element);\n",
              "          const docLink = document.createElement('div');\n",
              "          docLink.innerHTML = docLinkHtml;\n",
              "          element.appendChild(docLink);\n",
              "        }\n",
              "      </script>\n",
              "    </div>\n",
              "  </div>\n",
              "  "
            ]
          },
          "metadata": {},
          "execution_count": 19
        }
      ]
    },
    {
      "cell_type": "markdown",
      "source": [
        "### Are there duplicate tweets after the cleaning?"
      ],
      "metadata": {
        "id": "3aVlYw644OHq"
      }
    },
    {
      "cell_type": "code",
      "source": [
        "df.shape"
      ],
      "metadata": {
        "id": "hhgyrUQrdICU",
        "outputId": "ae4be574-53d6-4806-8f0b-bc3a2c6ac7a7",
        "execution": {
          "iopub.status.busy": "2022-03-15T11:07:56.555757Z",
          "iopub.execute_input": "2022-03-15T11:07:56.556447Z",
          "iopub.status.idle": "2022-03-15T11:07:56.563752Z",
          "shell.execute_reply.started": "2022-03-15T11:07:56.556408Z",
          "shell.execute_reply": "2022-03-15T11:07:56.562980Z"
        },
        "trusted": true,
        "colab": {
          "base_uri": "https://localhost:8080/"
        }
      },
      "execution_count": null,
      "outputs": [
        {
          "output_type": "execute_result",
          "data": {
            "text/plain": [
              "(47656, 3)"
            ]
          },
          "metadata": {},
          "execution_count": 20
        }
      ]
    },
    {
      "cell_type": "code",
      "source": [
        "df[\"text_clean\"].duplicated().sum()"
      ],
      "metadata": {
        "id": "r5DHDI7QdCfu",
        "execution": {
          "iopub.status.busy": "2022-03-15T11:07:56.565192Z",
          "iopub.execute_input": "2022-03-15T11:07:56.565443Z",
          "iopub.status.idle": "2022-03-15T11:07:56.581683Z",
          "shell.execute_reply.started": "2022-03-15T11:07:56.565411Z",
          "shell.execute_reply": "2022-03-15T11:07:56.581026Z"
        },
        "trusted": true,
        "colab": {
          "base_uri": "https://localhost:8080/"
        },
        "outputId": "7f8a910a-8bca-4188-c67d-9d7ca0949939"
      },
      "execution_count": null,
      "outputs": [
        {
          "output_type": "execute_result",
          "data": {
            "text/plain": [
              "3058"
            ]
          },
          "metadata": {},
          "execution_count": 21
        }
      ]
    },
    {
      "cell_type": "markdown",
      "source": [
        "There are around 3000 duplicated tweets, we will remove them."
      ],
      "metadata": {
        "id": "8dwzB-O94OHr"
      }
    },
    {
      "cell_type": "code",
      "source": [
        "df.drop_duplicates(\"text_clean\", inplace=True)"
      ],
      "metadata": {
        "execution": {
          "iopub.status.busy": "2022-03-15T11:07:56.582713Z",
          "iopub.execute_input": "2022-03-15T11:07:56.584183Z",
          "iopub.status.idle": "2022-03-15T11:07:56.611123Z",
          "shell.execute_reply.started": "2022-03-15T11:07:56.584146Z",
          "shell.execute_reply": "2022-03-15T11:07:56.610444Z"
        },
        "trusted": true,
        "id": "DLqSkw924OHr"
      },
      "execution_count": null,
      "outputs": []
    },
    {
      "cell_type": "code",
      "source": [
        "df.shape"
      ],
      "metadata": {
        "id": "tdCDSt1PdpXG",
        "outputId": "dfcb4227-0890-4fda-b505-c1ceee88fa49",
        "execution": {
          "iopub.status.busy": "2022-03-15T11:07:56.612410Z",
          "iopub.execute_input": "2022-03-15T11:07:56.612913Z",
          "iopub.status.idle": "2022-03-15T11:07:56.618206Z",
          "shell.execute_reply.started": "2022-03-15T11:07:56.612877Z",
          "shell.execute_reply": "2022-03-15T11:07:56.617451Z"
        },
        "trusted": true,
        "colab": {
          "base_uri": "https://localhost:8080/"
        }
      },
      "execution_count": null,
      "outputs": [
        {
          "output_type": "execute_result",
          "data": {
            "text/plain": [
              "(44598, 3)"
            ]
          },
          "metadata": {},
          "execution_count": 23
        }
      ]
    },
    {
      "cell_type": "markdown",
      "source": [
        "We removed the duplicated cleaned tweets. How is the class balance after the cleaning?"
      ],
      "metadata": {
        "id": "boHUi2xp4OHs"
      }
    },
    {
      "cell_type": "code",
      "source": [
        "df.sentiment.value_counts()"
      ],
      "metadata": {
        "execution": {
          "iopub.status.busy": "2022-03-15T11:07:56.619600Z",
          "iopub.execute_input": "2022-03-15T11:07:56.620088Z",
          "iopub.status.idle": "2022-03-15T11:07:56.635857Z",
          "shell.execute_reply.started": "2022-03-15T11:07:56.620031Z",
          "shell.execute_reply": "2022-03-15T11:07:56.635215Z"
        },
        "trusted": true,
        "colab": {
          "base_uri": "https://localhost:8080/"
        },
        "id": "qxQj0MBZ4OHs",
        "outputId": "22e46349-8b44-452b-ee70-40da1c11b82c"
      },
      "execution_count": null,
      "outputs": [
        {
          "output_type": "execute_result",
          "data": {
            "text/plain": [
              "religion               7946\n",
              "age                    7884\n",
              "ethnicity              7744\n",
              "not_cyberbullying      7637\n",
              "gender                 7607\n",
              "other_cyberbullying    5780\n",
              "Name: sentiment, dtype: int64"
            ]
          },
          "metadata": {},
          "execution_count": 25
        }
      ]
    },
    {
      "cell_type": "markdown",
      "source": [
        "We can see that lots of tweets of the class \"other_cyberbullying\" have been removed. Since the class is very unbalanced compared to the other classes and looks too \"generic\", we decide to remove the tweets labeled belonging to this class.<br>\n",
        "EDIT: by performing some tests, the f1 score for predicting the \"other_cyberbullying\" resulted to be around 60%, a value far lower compared to the othter f1 scores (around 95% using LSTM model). This supports the decision of removing this generic class."
      ],
      "metadata": {
        "id": "BHPFGVOk4OHs"
      }
    },
    {
      "cell_type": "code",
      "source": [
        "df = df[df[\"sentiment\"]!=\"other_cyberbullying\"]"
      ],
      "metadata": {
        "execution": {
          "iopub.status.busy": "2022-03-15T11:07:56.636786Z",
          "iopub.execute_input": "2022-03-15T11:07:56.638186Z",
          "iopub.status.idle": "2022-03-15T11:07:56.651611Z",
          "shell.execute_reply.started": "2022-03-15T11:07:56.638146Z",
          "shell.execute_reply": "2022-03-15T11:07:56.650917Z"
        },
        "trusted": true,
        "id": "I33_dhYy4OHs"
      },
      "execution_count": null,
      "outputs": []
    },
    {
      "cell_type": "markdown",
      "source": [
        "Then we also define a list of the classes names, which will be useful for the future plots."
      ],
      "metadata": {
        "id": "JySBPgnj4OHs"
      }
    },
    {
      "cell_type": "code",
      "source": [
        "sentiments = [\"religion\",\"age\",\"ethnicity\",\"gender\",\"not bullying\"]"
      ],
      "metadata": {
        "execution": {
          "iopub.status.busy": "2022-03-15T11:07:56.653218Z",
          "iopub.execute_input": "2022-03-15T11:07:56.653528Z",
          "iopub.status.idle": "2022-03-15T11:07:56.658619Z",
          "shell.execute_reply.started": "2022-03-15T11:07:56.653491Z",
          "shell.execute_reply": "2022-03-15T11:07:56.657623Z"
        },
        "trusted": true,
        "id": "wRw4cbsj4OHs"
      },
      "execution_count": null,
      "outputs": []
    },
    {
      "cell_type": "markdown",
      "source": [
        "# Tweets length analysis"
      ],
      "metadata": {
        "id": "PLwRaYcQ4OHs"
      }
    },
    {
      "cell_type": "markdown",
      "source": [
        "Now we will define a new dataframe column containing the length of the cleaned tweets in terms of number of words."
      ],
      "metadata": {
        "id": "lteu_sgK4OHt"
      }
    },
    {
      "cell_type": "code",
      "source": [
        "text_len = []\n",
        "for text in df.text_clean:\n",
        "    tweet_len = len(text.split())\n",
        "    text_len.append(tweet_len)"
      ],
      "metadata": {
        "id": "vQsHVXTA5QsV",
        "execution": {
          "iopub.status.busy": "2022-03-15T11:07:56.660135Z",
          "iopub.execute_input": "2022-03-15T11:07:56.660678Z",
          "iopub.status.idle": "2022-03-15T11:07:56.712752Z",
          "shell.execute_reply.started": "2022-03-15T11:07:56.660632Z",
          "shell.execute_reply": "2022-03-15T11:07:56.712143Z"
        },
        "trusted": true
      },
      "execution_count": null,
      "outputs": []
    },
    {
      "cell_type": "code",
      "source": [
        "df['text_len'] = text_len"
      ],
      "metadata": {
        "id": "op665CKx5QsV",
        "execution": {
          "iopub.status.busy": "2022-03-15T11:07:56.713907Z",
          "iopub.execute_input": "2022-03-15T11:07:56.714376Z",
          "iopub.status.idle": "2022-03-15T11:07:56.745434Z",
          "shell.execute_reply.started": "2022-03-15T11:07:56.714340Z",
          "shell.execute_reply": "2022-03-15T11:07:56.744809Z"
        },
        "trusted": true
      },
      "execution_count": null,
      "outputs": []
    },
    {
      "cell_type": "code",
      "source": [
        "plt.figure(figsize=(7,5))\n",
        "ax = sns.countplot(x='text_len', data=df[df['text_len']<10], palette='mako')\n",
        "plt.title('Count of tweets with less than 10 words', fontsize=20)\n",
        "plt.yticks([])\n",
        "ax.bar_label(ax.containers[0])\n",
        "plt.ylabel('count')\n",
        "plt.xlabel('')\n",
        "plt.show()"
      ],
      "metadata": {
        "id": "HZcu8uGh5QsW",
        "outputId": "4b1eabc8-5040-4604-c7d2-69d0a749ce23",
        "_kg_hide-input": true,
        "execution": {
          "iopub.status.busy": "2022-03-15T11:07:56.746480Z",
          "iopub.execute_input": "2022-03-15T11:07:56.746702Z",
          "iopub.status.idle": "2022-03-15T11:07:57.078482Z",
          "shell.execute_reply.started": "2022-03-15T11:07:56.746669Z",
          "shell.execute_reply": "2022-03-15T11:07:57.077753Z"
        },
        "trusted": true,
        "colab": {
          "base_uri": "https://localhost:8080/",
          "height": 587
        }
      },
      "execution_count": null,
      "outputs": [
        {
          "output_type": "error",
          "ename": "AttributeError",
          "evalue": "ignored",
          "traceback": [
            "\u001b[0;31m---------------------------------------------------------------------------\u001b[0m",
            "\u001b[0;31mAttributeError\u001b[0m                            Traceback (most recent call last)",
            "\u001b[0;32m<ipython-input-33-1c28dcd112f5>\u001b[0m in \u001b[0;36m<module>\u001b[0;34m()\u001b[0m\n\u001b[1;32m      3\u001b[0m \u001b[0mplt\u001b[0m\u001b[0;34m.\u001b[0m\u001b[0mtitle\u001b[0m\u001b[0;34m(\u001b[0m\u001b[0;34m'Count of tweets with less than 10 words'\u001b[0m\u001b[0;34m,\u001b[0m \u001b[0mfontsize\u001b[0m\u001b[0;34m=\u001b[0m\u001b[0;36m20\u001b[0m\u001b[0;34m)\u001b[0m\u001b[0;34m\u001b[0m\u001b[0;34m\u001b[0m\u001b[0m\n\u001b[1;32m      4\u001b[0m \u001b[0mplt\u001b[0m\u001b[0;34m.\u001b[0m\u001b[0myticks\u001b[0m\u001b[0;34m(\u001b[0m\u001b[0;34m[\u001b[0m\u001b[0;34m]\u001b[0m\u001b[0;34m)\u001b[0m\u001b[0;34m\u001b[0m\u001b[0;34m\u001b[0m\u001b[0m\n\u001b[0;32m----> 5\u001b[0;31m \u001b[0max\u001b[0m\u001b[0;34m.\u001b[0m\u001b[0mbar_label\u001b[0m\u001b[0;34m(\u001b[0m\u001b[0max\u001b[0m\u001b[0;34m.\u001b[0m\u001b[0mcontainers\u001b[0m\u001b[0;34m[\u001b[0m\u001b[0;36m0\u001b[0m\u001b[0;34m]\u001b[0m\u001b[0;34m)\u001b[0m\u001b[0;34m\u001b[0m\u001b[0;34m\u001b[0m\u001b[0m\n\u001b[0m\u001b[1;32m      6\u001b[0m \u001b[0mplt\u001b[0m\u001b[0;34m.\u001b[0m\u001b[0mylabel\u001b[0m\u001b[0;34m(\u001b[0m\u001b[0;34m'count'\u001b[0m\u001b[0;34m)\u001b[0m\u001b[0;34m\u001b[0m\u001b[0;34m\u001b[0m\u001b[0m\n\u001b[1;32m      7\u001b[0m \u001b[0mplt\u001b[0m\u001b[0;34m.\u001b[0m\u001b[0mxlabel\u001b[0m\u001b[0;34m(\u001b[0m\u001b[0;34m''\u001b[0m\u001b[0;34m)\u001b[0m\u001b[0;34m\u001b[0m\u001b[0;34m\u001b[0m\u001b[0m\n",
            "\u001b[0;31mAttributeError\u001b[0m: 'AxesSubplot' object has no attribute 'bar_label'"
          ]
        },
        {
          "output_type": "display_data",
          "data": {
            "text/plain": [
              "<Figure size 504x360 with 1 Axes>"
            ],
            "image/png": "[encoded data removed]"
          },
          "metadata": {
            "needs_background": "light"
          }
        }
      ]
    },
    {
      "cell_type": "markdown",
      "source": [
        "We will remove tweets that are too short (less than 4 words)."
      ],
      "metadata": {
        "id": "GFGxdZAV4OHt"
      }
    },
    {
      "cell_type": "code",
      "source": [
        "df = df[df['text_len'] > 3]"
      ],
      "metadata": {
        "id": "6rEvtAXE5QsX",
        "execution": {
          "iopub.status.busy": "2022-03-15T11:07:57.082883Z",
          "iopub.execute_input": "2022-03-15T11:07:57.083518Z",
          "iopub.status.idle": "2022-03-15T11:07:57.099007Z",
          "shell.execute_reply.started": "2022-03-15T11:07:57.083474Z",
          "shell.execute_reply": "2022-03-15T11:07:57.098259Z"
        },
        "trusted": true
      },
      "execution_count": null,
      "outputs": []
    },
    {
      "cell_type": "markdown",
      "source": [
        "### What about long tweets?"
      ],
      "metadata": {
        "id": "fmN9566u5QsX"
      }
    },
    {
      "cell_type": "code",
      "source": [
        "df.sort_values(by=['text_len'], ascending=False)"
      ],
      "metadata": {
        "id": "2Dv2aZRv5QsY",
        "outputId": "4fbff23d-60a5-4b50-b1a4-c34427032ee8",
        "execution": {
          "iopub.status.busy": "2022-03-15T11:07:57.100314Z",
          "iopub.execute_input": "2022-03-15T11:07:57.100672Z",
          "iopub.status.idle": "2022-03-15T11:07:57.123723Z",
          "shell.execute_reply.started": "2022-03-15T11:07:57.100638Z",
          "shell.execute_reply": "2022-03-15T11:07:57.123015Z"
        },
        "trusted": true,
        "colab": {
          "base_uri": "https://localhost:8080/",
          "height": 424
        }
      },
      "execution_count": null,
      "outputs": [
        {
          "output_type": "execute_result",
          "data": {
            "text/plain": [
              "                                                    text          sentiment  \\\n",
              "44035  You so black and white trying to live like a n...          ethnicity   \n",
              "45165  @hermdiggz: “@tayyoung_: FUCK OBAMA, dumb ass ...          ethnicity   \n",
              "33724  ... I don't feel guilty for killing him, I jus...                age   \n",
              "1317   @EurekAlertAAAS: Researchers push to import to...  not_cyberbullying   \n",
              "47037  @Purely_Ambition: Sooo mad. RT @TracePeterson ...          ethnicity   \n",
              "...                                                  ...                ...   \n",
              "10274  @holliebakerlutz What does that 23% figure rep...             gender   \n",
              "5229                      are bully sticks for dogs safe  not_cyberbullying   \n",
              "10314  RT @Mr_LayedBak: I'm not sexist... but women r...             gender   \n",
              "5237                      *hands you a bag of trail mix*  not_cyberbullying   \n",
              "8275   @feministlah @GreenWeiner Picture was gender n...             gender   \n",
              "\n",
              "                                              text_clean  text_len  \n",
              "44035  black white tri live like nigger pahahahaha co...       187  \n",
              "45165  fuck obama dumb ass nigger bitch ltthi whore s...       162  \n",
              "33724  feel guilti kill feel guilti enjoy torment sin...       137  \n",
              "1317   research push import top antibulli program us ...       137  \n",
              "47037  sooo mad rt fuck obama dumb nigger go switzerl...       125  \n",
              "...                                                  ...       ...  \n",
              "10274                              23 figur repres deriv         4  \n",
              "5229                                bulli stick dog safe         4  \n",
              "10314                                rt sexist women ref         4  \n",
              "5237                                  hand bag trail mix         4  \n",
              "8275                        pictur gender neutral butsur         4  \n",
              "\n",
              "[37122 rows x 4 columns]"
            ],
            "text/html": [
              "\n",
              "  <div id=\"df-678eb4eb-8a22-41e7-aa40-b094a4c08cfe\">\n",
              "    <div class=\"colab-df-container\">\n",
              "      <div>\n",
              "<style scoped>\n",
              "    .dataframe tbody tr th:only-of-type {\n",
              "        vertical-align: middle;\n",
              "    }\n",
              "\n",
              "    .dataframe tbody tr th {\n",
              "        vertical-align: top;\n",
              "    }\n",
              "\n",
              "    .dataframe thead th {\n",
              "        text-align: right;\n",
              "    }\n",
              "</style>\n",
              "<table border=\"1\" class=\"dataframe\">\n",
              "  <thead>\n",
              "    <tr style=\"text-align: right;\">\n",
              "      <th></th>\n",
              "      <th>text</th>\n",
              "      <th>sentiment</th>\n",
              "      <th>text_clean</th>\n",
              "      <th>text_len</th>\n",
              "    </tr>\n",
              "  </thead>\n",
              "  <tbody>\n",
              "    <tr>\n",
              "      <th>44035</th>\n",
              "      <td>You so black and white trying to live like a n...</td>\n",
              "      <td>ethnicity</td>\n",
              "      <td>black white tri live like nigger pahahahaha co...</td>\n",
              "      <td>187</td>\n",
              "    </tr>\n",
              "    <tr>\n",
              "      <th>45165</th>\n",
              "      <td>@hermdiggz: “@tayyoung_: FUCK OBAMA, dumb ass ...</td>\n",
              "      <td>ethnicity</td>\n",
              "      <td>fuck obama dumb ass nigger bitch ltthi whore s...</td>\n",
              "      <td>162</td>\n",
              "    </tr>\n",
              "    <tr>\n",
              "      <th>33724</th>\n",
              "      <td>... I don't feel guilty for killing him, I jus...</td>\n",
              "      <td>age</td>\n",
              "      <td>feel guilti kill feel guilti enjoy torment sin...</td>\n",
              "      <td>137</td>\n",
              "    </tr>\n",
              "    <tr>\n",
              "      <th>1317</th>\n",
              "      <td>@EurekAlertAAAS: Researchers push to import to...</td>\n",
              "      <td>not_cyberbullying</td>\n",
              "      <td>research push import top antibulli program us ...</td>\n",
              "      <td>137</td>\n",
              "    </tr>\n",
              "    <tr>\n",
              "      <th>47037</th>\n",
              "      <td>@Purely_Ambition: Sooo mad. RT @TracePeterson ...</td>\n",
              "      <td>ethnicity</td>\n",
              "      <td>sooo mad rt fuck obama dumb nigger go switzerl...</td>\n",
              "      <td>125</td>\n",
              "    </tr>\n",
              "    <tr>\n",
              "      <th>...</th>\n",
              "      <td>...</td>\n",
              "      <td>...</td>\n",
              "      <td>...</td>\n",
              "      <td>...</td>\n",
              "    </tr>\n",
              "    <tr>\n",
              "      <th>10274</th>\n",
              "      <td>@holliebakerlutz What does that 23% figure rep...</td>\n",
              "      <td>gender</td>\n",
              "      <td>23 figur repres deriv</td>\n",
              "      <td>4</td>\n",
              "    </tr>\n",
              "    <tr>\n",
              "      <th>5229</th>\n",
              "      <td>are bully sticks for dogs safe</td>\n",
              "      <td>not_cyberbullying</td>\n",
              "      <td>bulli stick dog safe</td>\n",
              "      <td>4</td>\n",
              "    </tr>\n",
              "    <tr>\n",
              "      <th>10314</th>\n",
              "      <td>RT @Mr_LayedBak: I'm not sexist... but women r...</td>\n",
              "      <td>gender</td>\n",
              "      <td>rt sexist women ref</td>\n",
              "      <td>4</td>\n",
              "    </tr>\n",
              "    <tr>\n",
              "      <th>5237</th>\n",
              "      <td>*hands you a bag of trail mix*</td>\n",
              "      <td>not_cyberbullying</td>\n",
              "      <td>hand bag trail mix</td>\n",
              "      <td>4</td>\n",
              "    </tr>\n",
              "    <tr>\n",
              "      <th>8275</th>\n",
              "      <td>@feministlah @GreenWeiner Picture was gender n...</td>\n",
              "      <td>gender</td>\n",
              "      <td>pictur gender neutral butsur</td>\n",
              "      <td>4</td>\n",
              "    </tr>\n",
              "  </tbody>\n",
              "</table>\n",
              "<p>37122 rows × 4 columns</p>\n",
              "</div>\n",
              "      <button class=\"colab-df-convert\" onclick=\"convertToInteractive('df-678eb4eb-8a22-41e7-aa40-b094a4c08cfe')\"\n",
              "              title=\"Convert this dataframe to an interactive table.\"\n",
              "              style=\"display:none;\">\n",
              "        \n",
              "  <svg xmlns=\"http://www.w3.org/2000/svg\" height=\"24px\"viewBox=\"0 0 24 24\"\n",
              "       width=\"24px\">\n",
              "    <path d=\"M0 0h24v24H0V0z\" fill=\"none\"/>\n",
              "    <path d=\"M18.56 5.44l.94 2.06.94-2.06 2.06-.94-2.06-.94-.94-2.06-.94 2.06-2.06.94zm-11 1L8.5 8.5l.94-2.06 2.06-.94-2.06-.94L8.5 2.5l-.94 2.06-2.06.94zm10 10l.94 2.06.94-2.06 2.06-.94-2.06-.94-.94-2.06-.94 2.06-2.06.94z\"/><path d=\"M17.41 7.96l-1.37-1.37c-.4-.4-.92-.59-1.43-.59-.52 0-1.04.2-1.43.59L10.3 9.45l-7.72 7.72c-.78.78-.78 2.05 0 2.83L4 21.41c.39.39.9.59 1.41.59.51 0 1.02-.2 1.41-.59l7.78-7.78 2.81-2.81c.8-.78.8-2.07 0-2.86zM5.41 20L4 18.59l7.72-7.72 1.47 1.35L5.41 20z\"/>\n",
              "  </svg>\n",
              "      </button>\n",
              "      \n",
              "  <style>\n",
              "    .colab-df-container {\n",
              "      display:flex;\n",
              "      flex-wrap:wrap;\n",
              "      gap: 12px;\n",
              "    }\n",
              "\n",
              "    .colab-df-convert {\n",
              "      background-color: #E8F0FE;\n",
              "      border: none;\n",
              "      border-radius: 50%;\n",
              "      cursor: pointer;\n",
              "      display: none;\n",
              "      fill: #1967D2;\n",
              "      height: 32px;\n",
              "      padding: 0 0 0 0;\n",
              "      width: 32px;\n",
              "    }\n",
              "\n",
              "    .colab-df-convert:hover {\n",
              "      background-color: #E2EBFA;\n",
              "      box-shadow: 0px 1px 2px rgba(60, 64, 67, 0.3), 0px 1px 3px 1px rgba(60, 64, 67, 0.15);\n",
              "      fill: #174EA6;\n",
              "    }\n",
              "\n",
              "    [theme=dark] .colab-df-convert {\n",
              "      background-color: #3B4455;\n",
              "      fill: #D2E3FC;\n",
              "    }\n",
              "\n",
              "    [theme=dark] .colab-df-convert:hover {\n",
              "      background-color: #434B5C;\n",
              "      box-shadow: 0px 1px 3px 1px rgba(0, 0, 0, 0.15);\n",
              "      filter: drop-shadow(0px 1px 2px rgba(0, 0, 0, 0.3));\n",
              "      fill: #FFFFFF;\n",
              "    }\n",
              "  </style>\n",
              "\n",
              "      <script>\n",
              "        const buttonEl =\n",
              "          document.querySelector('#df-678eb4eb-8a22-41e7-aa40-b094a4c08cfe button.colab-df-convert');\n",
              "        buttonEl.style.display =\n",
              "          google.colab.kernel.accessAllowed ? 'block' : 'none';\n",
              "\n",
              "        async function convertToInteractive(key) {\n",
              "          const element = document.querySelector('#df-678eb4eb-8a22-41e7-aa40-b094a4c08cfe');\n",
              "          const dataTable =\n",
              "            await google.colab.kernel.invokeFunction('convertToInteractive',\n",
              "                                                     [key], {});\n",
              "          if (!dataTable) return;\n",
              "\n",
              "          const docLinkHtml = 'Like what you see? Visit the ' +\n",
              "            '<a target=\"_blank\" href=https://colab.research.google.com/notebooks/data_table.ipynb>data table notebook</a>'\n",
              "            + ' to learn more about interactive tables.';\n",
              "          element.innerHTML = '';\n",
              "          dataTable['output_type'] = 'display_data';\n",
              "          await google.colab.output.renderOutput(dataTable, element);\n",
              "          const docLink = document.createElement('div');\n",
              "          docLink.innerHTML = docLinkHtml;\n",
              "          element.appendChild(docLink);\n",
              "        }\n",
              "      </script>\n",
              "    </div>\n",
              "  </div>\n",
              "  "
            ]
          },
          "metadata": {},
          "execution_count": 35
        }
      ]
    },
    {
      "cell_type": "code",
      "source": [
        "plt.figure(figsize=(16,5))\n",
        "ax = sns.countplot(x='text_len', data=df[(df['text_len']<=1000) & (df['text_len']>10)], palette='Blues_r')\n",
        "plt.title('Count of tweets with high number of words', fontsize=25)\n",
        "plt.yticks([])\n",
        "ax.bar_label(ax.containers[0])\n",
        "plt.ylabel('count')\n",
        "plt.xlabel('')\n",
        "plt.show()"
      ],
      "metadata": {
        "id": "Zt9YFv935QsY",
        "outputId": "fac8c779-858e-40e4-cb15-e9564154d6cc",
        "_kg_hide-input": true,
        "execution": {
          "iopub.status.busy": "2022-03-15T11:07:57.125028Z",
          "iopub.execute_input": "2022-03-15T11:07:57.125314Z",
          "iopub.status.idle": "2022-03-15T11:07:58.182193Z",
          "shell.execute_reply.started": "2022-03-15T11:07:57.125278Z",
          "shell.execute_reply": "2022-03-15T11:07:58.181466Z"
        },
        "trusted": true,
        "colab": {
          "base_uri": "https://localhost:8080/",
          "height": 587
        }
      },
      "execution_count": null,
      "outputs": [
        {
          "output_type": "error",
          "ename": "AttributeError",
          "evalue": "ignored",
          "traceback": [
            "\u001b[0;31m---------------------------------------------------------------------------\u001b[0m",
            "\u001b[0;31mAttributeError\u001b[0m                            Traceback (most recent call last)",
            "\u001b[0;32m<ipython-input-37-c8466336e1b1>\u001b[0m in \u001b[0;36m<module>\u001b[0;34m()\u001b[0m\n\u001b[1;32m      3\u001b[0m \u001b[0mplt\u001b[0m\u001b[0;34m.\u001b[0m\u001b[0mtitle\u001b[0m\u001b[0;34m(\u001b[0m\u001b[0;34m'Count of tweets with high number of words'\u001b[0m\u001b[0;34m,\u001b[0m \u001b[0mfontsize\u001b[0m\u001b[0;34m=\u001b[0m\u001b[0;36m25\u001b[0m\u001b[0;34m)\u001b[0m\u001b[0;34m\u001b[0m\u001b[0;34m\u001b[0m\u001b[0m\n\u001b[1;32m      4\u001b[0m \u001b[0mplt\u001b[0m\u001b[0;34m.\u001b[0m\u001b[0myticks\u001b[0m\u001b[0;34m(\u001b[0m\u001b[0;34m[\u001b[0m\u001b[0;34m]\u001b[0m\u001b[0;34m)\u001b[0m\u001b[0;34m\u001b[0m\u001b[0;34m\u001b[0m\u001b[0m\n\u001b[0;32m----> 5\u001b[0;31m \u001b[0max\u001b[0m\u001b[0;34m.\u001b[0m\u001b[0mbar_label\u001b[0m\u001b[0;34m(\u001b[0m\u001b[0max\u001b[0m\u001b[0;34m.\u001b[0m\u001b[0mcontainers\u001b[0m\u001b[0;34m[\u001b[0m\u001b[0;36m0\u001b[0m\u001b[0;34m]\u001b[0m\u001b[0;34m)\u001b[0m\u001b[0;34m\u001b[0m\u001b[0;34m\u001b[0m\u001b[0m\n\u001b[0m\u001b[1;32m      6\u001b[0m \u001b[0mplt\u001b[0m\u001b[0;34m.\u001b[0m\u001b[0mylabel\u001b[0m\u001b[0;34m(\u001b[0m\u001b[0;34m'count'\u001b[0m\u001b[0;34m)\u001b[0m\u001b[0;34m\u001b[0m\u001b[0;34m\u001b[0m\u001b[0m\n\u001b[1;32m      7\u001b[0m \u001b[0mplt\u001b[0m\u001b[0;34m.\u001b[0m\u001b[0mxlabel\u001b[0m\u001b[0;34m(\u001b[0m\u001b[0;34m''\u001b[0m\u001b[0;34m)\u001b[0m\u001b[0;34m\u001b[0m\u001b[0;34m\u001b[0m\u001b[0m\n",
            "\u001b[0;31mAttributeError\u001b[0m: 'AxesSubplot' object has no attribute 'bar_label'"
          ]
        },
        {
          "output_type": "display_data",
          "data": {
            "text/plain": [
              "<Figure size 1152x360 with 1 Axes>"
            ],
            "image/png": "[encoded data removed]"
          },
          "metadata": {
            "needs_background": "light"
          }
        }
      ]
    },
    {
      "cell_type": "markdown",
      "source": [
        "We also will remove tweets that are too long (with more than 100 words)."
      ],
      "metadata": {
        "id": "JzY9dDnF5QsY"
      }
    },
    {
      "cell_type": "code",
      "source": [
        "df = df[df['text_len'] < 100]"
      ],
      "metadata": {
        "id": "teb7a02F5QsY",
        "execution": {
          "iopub.status.busy": "2022-03-15T11:07:58.185864Z",
          "iopub.execute_input": "2022-03-15T11:07:58.186418Z",
          "iopub.status.idle": "2022-03-15T11:07:58.197824Z",
          "shell.execute_reply.started": "2022-03-15T11:07:58.186377Z",
          "shell.execute_reply": "2022-03-15T11:07:58.196919Z"
        },
        "trusted": true
      },
      "execution_count": null,
      "outputs": []
    },
    {
      "cell_type": "markdown",
      "source": [
        "Then we also get the length of the longest tweet since it will be useful later."
      ],
      "metadata": {
        "id": "57SdduVl4OHu"
      }
    },
    {
      "cell_type": "code",
      "source": [
        "max_len = np.max(df['text_len'])\n",
        "max_len "
      ],
      "metadata": {
        "id": "HyQak-0QI9Mk",
        "outputId": "cdad112c-db0d-441c-9efc-067f96377fc2",
        "execution": {
          "iopub.status.busy": "2022-03-15T11:07:58.199618Z",
          "iopub.execute_input": "2022-03-15T11:07:58.200176Z",
          "iopub.status.idle": "2022-03-15T11:07:58.207530Z",
          "shell.execute_reply.started": "2022-03-15T11:07:58.200138Z",
          "shell.execute_reply": "2022-03-15T11:07:58.206712Z"
        },
        "trusted": true,
        "colab": {
          "base_uri": "https://localhost:8080/"
        }
      },
      "execution_count": null,
      "outputs": [
        {
          "output_type": "execute_result",
          "data": {
            "text/plain": [
              "79"
            ]
          },
          "metadata": {},
          "execution_count": 39
        }
      ]
    },
    {
      "cell_type": "code",
      "source": [
        "df.sort_values(by=[\"text_len\"], ascending=False)"
      ],
      "metadata": {
        "id": "NZD-8GJd5Qsa",
        "outputId": "cbf90ce8-adf5-455a-ae5c-50be520dcf71",
        "execution": {
          "iopub.status.busy": "2022-03-15T11:07:58.209289Z",
          "iopub.execute_input": "2022-03-15T11:07:58.210135Z",
          "iopub.status.idle": "2022-03-15T11:07:58.238019Z",
          "shell.execute_reply.started": "2022-03-15T11:07:58.210040Z",
          "shell.execute_reply": "2022-03-15T11:07:58.237122Z"
        },
        "trusted": true,
        "colab": {
          "base_uri": "https://localhost:8080/",
          "height": 424
        }
      },
      "execution_count": null,
      "outputs": [
        {
          "output_type": "execute_result",
          "data": {
            "text/plain": [
              "                                                    text          sentiment  \\\n",
              "4846   @andrea_gcav: @viviaanajim recuerdas como noso...  not_cyberbullying   \n",
              "44294  @JasmineLovvee If He Dont Want You Well Fuck H...          ethnicity   \n",
              "45930  Get off ur ego trip, take off ur rose colored ...          ethnicity   \n",
              "21241  And yet God was able to meet their needs using...           religion   \n",
              "41749  @seijohgorl hoy mami keito AAAA okay so um ika...          ethnicity   \n",
              "...                                                  ...                ...   \n",
              "44750       What the fuck you dumb nigger I hate you now          ethnicity   \n",
              "1673      @UMTony lmao! I really wanted to take it down!  not_cyberbullying   \n",
              "35335          He's a grade school bully. He's a coward!                age   \n",
              "3920                      Need to let my anger out dude.  not_cyberbullying   \n",
              "1377   @GlennF I have been quietly helping some gator...  not_cyberbullying   \n",
              "\n",
              "                                              text_clean  text_len  \n",
              "4846   recuerda como nosotra tambin eramo victima del...        79  \n",
              "44294  dont want well fuck aint worth tear never swea...        73  \n",
              "45930  get ur ego trip take ur rose color glass amp g...        45  \n",
              "21241  yet god abl meet need use radic everyday gener...        43  \n",
              "41749  hoy mami keito aaaa okay um ikaw talaga one fi...        43  \n",
              "...                                                  ...       ...  \n",
              "44750                              fuck dumb nigger hate         4  \n",
              "1673                               lmao realli want take         4  \n",
              "35335                          grade school bulli coward         4  \n",
              "3920                                 need let anger dude         4  \n",
              "1377                          quietli help gator alreadi         4  \n",
              "\n",
              "[37113 rows x 4 columns]"
            ],
            "text/html": [
              "\n",
              "  <div id=\"df-c3d9d731-5385-499a-b30e-83ad0f96caa5\">\n",
              "    <div class=\"colab-df-container\">\n",
              "      <div>\n",
              "<style scoped>\n",
              "    .dataframe tbody tr th:only-of-type {\n",
              "        vertical-align: middle;\n",
              "    }\n",
              "\n",
              "    .dataframe tbody tr th {\n",
              "        vertical-align: top;\n",
              "    }\n",
              "\n",
              "    .dataframe thead th {\n",
              "        text-align: right;\n",
              "    }\n",
              "</style>\n",
              "<table border=\"1\" class=\"dataframe\">\n",
              "  <thead>\n",
              "    <tr style=\"text-align: right;\">\n",
              "      <th></th>\n",
              "      <th>text</th>\n",
              "      <th>sentiment</th>\n",
              "      <th>text_clean</th>\n",
              "      <th>text_len</th>\n",
              "    </tr>\n",
              "  </thead>\n",
              "  <tbody>\n",
              "    <tr>\n",
              "      <th>4846</th>\n",
              "      <td>@andrea_gcav: @viviaanajim recuerdas como noso...</td>\n",
              "      <td>not_cyberbullying</td>\n",
              "      <td>recuerda como nosotra tambin eramo victima del...</td>\n",
              "      <td>79</td>\n",
              "    </tr>\n",
              "    <tr>\n",
              "      <th>44294</th>\n",
              "      <td>@JasmineLovvee If He Dont Want You Well Fuck H...</td>\n",
              "      <td>ethnicity</td>\n",
              "      <td>dont want well fuck aint worth tear never swea...</td>\n",
              "      <td>73</td>\n",
              "    </tr>\n",
              "    <tr>\n",
              "      <th>45930</th>\n",
              "      <td>Get off ur ego trip, take off ur rose colored ...</td>\n",
              "      <td>ethnicity</td>\n",
              "      <td>get ur ego trip take ur rose color glass amp g...</td>\n",
              "      <td>45</td>\n",
              "    </tr>\n",
              "    <tr>\n",
              "      <th>21241</th>\n",
              "      <td>And yet God was able to meet their needs using...</td>\n",
              "      <td>religion</td>\n",
              "      <td>yet god abl meet need use radic everyday gener...</td>\n",
              "      <td>43</td>\n",
              "    </tr>\n",
              "    <tr>\n",
              "      <th>41749</th>\n",
              "      <td>@seijohgorl hoy mami keito AAAA okay so um ika...</td>\n",
              "      <td>ethnicity</td>\n",
              "      <td>hoy mami keito aaaa okay um ikaw talaga one fi...</td>\n",
              "      <td>43</td>\n",
              "    </tr>\n",
              "    <tr>\n",
              "      <th>...</th>\n",
              "      <td>...</td>\n",
              "      <td>...</td>\n",
              "      <td>...</td>\n",
              "      <td>...</td>\n",
              "    </tr>\n",
              "    <tr>\n",
              "      <th>44750</th>\n",
              "      <td>What the fuck you dumb nigger I hate you now</td>\n",
              "      <td>ethnicity</td>\n",
              "      <td>fuck dumb nigger hate</td>\n",
              "      <td>4</td>\n",
              "    </tr>\n",
              "    <tr>\n",
              "      <th>1673</th>\n",
              "      <td>@UMTony lmao! I really wanted to take it down!</td>\n",
              "      <td>not_cyberbullying</td>\n",
              "      <td>lmao realli want take</td>\n",
              "      <td>4</td>\n",
              "    </tr>\n",
              "    <tr>\n",
              "      <th>35335</th>\n",
              "      <td>He's a grade school bully. He's a coward!</td>\n",
              "      <td>age</td>\n",
              "      <td>grade school bulli coward</td>\n",
              "      <td>4</td>\n",
              "    </tr>\n",
              "    <tr>\n",
              "      <th>3920</th>\n",
              "      <td>Need to let my anger out dude.</td>\n",
              "      <td>not_cyberbullying</td>\n",
              "      <td>need let anger dude</td>\n",
              "      <td>4</td>\n",
              "    </tr>\n",
              "    <tr>\n",
              "      <th>1377</th>\n",
              "      <td>@GlennF I have been quietly helping some gator...</td>\n",
              "      <td>not_cyberbullying</td>\n",
              "      <td>quietli help gator alreadi</td>\n",
              "      <td>4</td>\n",
              "    </tr>\n",
              "  </tbody>\n",
              "</table>\n",
              "<p>37113 rows × 4 columns</p>\n",
              "</div>\n",
              "      <button class=\"colab-df-convert\" onclick=\"convertToInteractive('df-c3d9d731-5385-499a-b30e-83ad0f96caa5')\"\n",
              "              title=\"Convert this dataframe to an interactive table.\"\n",
              "              style=\"display:none;\">\n",
              "        \n",
              "  <svg xmlns=\"http://www.w3.org/2000/svg\" height=\"24px\"viewBox=\"0 0 24 24\"\n",
              "       width=\"24px\">\n",
              "    <path d=\"M0 0h24v24H0V0z\" fill=\"none\"/>\n",
              "    <path d=\"M18.56 5.44l.94 2.06.94-2.06 2.06-.94-2.06-.94-.94-2.06-.94 2.06-2.06.94zm-11 1L8.5 8.5l.94-2.06 2.06-.94-2.06-.94L8.5 2.5l-.94 2.06-2.06.94zm10 10l.94 2.06.94-2.06 2.06-.94-2.06-.94-.94-2.06-.94 2.06-2.06.94z\"/><path d=\"M17.41 7.96l-1.37-1.37c-.4-.4-.92-.59-1.43-.59-.52 0-1.04.2-1.43.59L10.3 9.45l-7.72 7.72c-.78.78-.78 2.05 0 2.83L4 21.41c.39.39.9.59 1.41.59.51 0 1.02-.2 1.41-.59l7.78-7.78 2.81-2.81c.8-.78.8-2.07 0-2.86zM5.41 20L4 18.59l7.72-7.72 1.47 1.35L5.41 20z\"/>\n",
              "  </svg>\n",
              "      </button>\n",
              "      \n",
              "  <style>\n",
              "    .colab-df-container {\n",
              "      display:flex;\n",
              "      flex-wrap:wrap;\n",
              "      gap: 12px;\n",
              "    }\n",
              "\n",
              "    .colab-df-convert {\n",
              "      background-color: #E8F0FE;\n",
              "      border: none;\n",
              "      border-radius: 50%;\n",
              "      cursor: pointer;\n",
              "      display: none;\n",
              "      fill: #1967D2;\n",
              "      height: 32px;\n",
              "      padding: 0 0 0 0;\n",
              "      width: 32px;\n",
              "    }\n",
              "\n",
              "    .colab-df-convert:hover {\n",
              "      background-color: #E2EBFA;\n",
              "      box-shadow: 0px 1px 2px rgba(60, 64, 67, 0.3), 0px 1px 3px 1px rgba(60, 64, 67, 0.15);\n",
              "      fill: #174EA6;\n",
              "    }\n",
              "\n",
              "    [theme=dark] .colab-df-convert {\n",
              "      background-color: #3B4455;\n",
              "      fill: #D2E3FC;\n",
              "    }\n",
              "\n",
              "    [theme=dark] .colab-df-convert:hover {\n",
              "      background-color: #434B5C;\n",
              "      box-shadow: 0px 1px 3px 1px rgba(0, 0, 0, 0.15);\n",
              "      filter: drop-shadow(0px 1px 2px rgba(0, 0, 0, 0.3));\n",
              "      fill: #FFFFFF;\n",
              "    }\n",
              "  </style>\n",
              "\n",
              "      <script>\n",
              "        const buttonEl =\n",
              "          document.querySelector('#df-c3d9d731-5385-499a-b30e-83ad0f96caa5 button.colab-df-convert');\n",
              "        buttonEl.style.display =\n",
              "          google.colab.kernel.accessAllowed ? 'block' : 'none';\n",
              "\n",
              "        async function convertToInteractive(key) {\n",
              "          const element = document.querySelector('#df-c3d9d731-5385-499a-b30e-83ad0f96caa5');\n",
              "          const dataTable =\n",
              "            await google.colab.kernel.invokeFunction('convertToInteractive',\n",
              "                                                     [key], {});\n",
              "          if (!dataTable) return;\n",
              "\n",
              "          const docLinkHtml = 'Like what you see? Visit the ' +\n",
              "            '<a target=\"_blank\" href=https://colab.research.google.com/notebooks/data_table.ipynb>data table notebook</a>'\n",
              "            + ' to learn more about interactive tables.';\n",
              "          element.innerHTML = '';\n",
              "          dataTable['output_type'] = 'display_data';\n",
              "          await google.colab.output.renderOutput(dataTable, element);\n",
              "          const docLink = document.createElement('div');\n",
              "          docLink.innerHTML = docLinkHtml;\n",
              "          element.appendChild(docLink);\n",
              "        }\n",
              "      </script>\n",
              "    </div>\n",
              "  </div>\n",
              "  "
            ]
          },
          "metadata": {},
          "execution_count": 40
        }
      ]
    },
    {
      "cell_type": "markdown",
      "source": [
        "## Sentiment column encoding"
      ],
      "metadata": {
        "id": "kx0IFdyO4OHv"
      }
    },
    {
      "cell_type": "markdown",
      "source": [
        "The target column will be encoded by ordinal encoding"
      ],
      "metadata": {
        "id": "Rsd5L0pw4OHv"
      }
    },
    {
      "cell_type": "code",
      "source": [
        "df['sentiment'] = df['sentiment'].replace({'religion':0,'age':1,'ethnicity':2,'gender':3,'not_cyberbullying':4})"
      ],
      "metadata": {
        "id": "NIS_nyXBG416",
        "execution": {
          "iopub.status.busy": "2022-03-15T11:07:58.242134Z",
          "iopub.execute_input": "2022-03-15T11:07:58.242675Z",
          "iopub.status.idle": "2022-03-15T11:07:58.293084Z",
          "shell.execute_reply.started": "2022-03-15T11:07:58.242627Z",
          "shell.execute_reply": "2022-03-15T11:07:58.292476Z"
        },
        "trusted": true
      },
      "execution_count": null,
      "outputs": []
    },
    {
      "cell_type": "markdown",
      "source": [
        "## Train - Test split"
      ],
      "metadata": {
        "id": "ELMGaiE-F7yn"
      }
    },
    {
      "cell_type": "markdown",
      "source": [
        "Now we need to split the dataset into a train and test sets."
      ],
      "metadata": {
        "id": "jrLwRbummpEq"
      }
    },
    {
      "cell_type": "code",
      "source": [
        "X = df['text_clean']\n",
        "y = df['sentiment']"
      ],
      "metadata": {
        "id": "BF01CgBtBONZ",
        "execution": {
          "iopub.status.busy": "2022-03-15T11:07:58.294120Z",
          "iopub.execute_input": "2022-03-15T11:07:58.294480Z",
          "iopub.status.idle": "2022-03-15T11:07:58.298913Z",
          "shell.execute_reply.started": "2022-03-15T11:07:58.294447Z",
          "shell.execute_reply": "2022-03-15T11:07:58.298124Z"
        },
        "trusted": true
      },
      "execution_count": null,
      "outputs": []
    },
    {
      "cell_type": "code",
      "source": [
        "X_train, X_test, y_train, y_test = train_test_split(X, y, test_size=0.2, stratify=y, random_state=seed_value)"
      ],
      "metadata": {
        "id": "fvQexohPGAZf",
        "execution": {
          "iopub.status.busy": "2022-03-15T11:07:58.300572Z",
          "iopub.execute_input": "2022-03-15T11:07:58.300839Z",
          "iopub.status.idle": "2022-03-15T11:07:58.345104Z",
          "shell.execute_reply.started": "2022-03-15T11:07:58.300806Z",
          "shell.execute_reply": "2022-03-15T11:07:58.344434Z"
        },
        "trusted": true
      },
      "execution_count": null,
      "outputs": []
    },
    {
      "cell_type": "markdown",
      "source": [
        "## Train - Validation split"
      ],
      "metadata": {
        "id": "A0d0lSX0GbNS"
      }
    },
    {
      "cell_type": "markdown",
      "source": [
        "Moreover, we will further split the training set to extract a validation set, which will be used to monior the accuracy and loss to avoid overfitting during the model training."
      ],
      "metadata": {
        "id": "0OsrkfnCmtk0"
      }
    },
    {
      "cell_type": "code",
      "source": [
        "X_train, X_valid, y_train, y_valid = train_test_split(X_train, y_train, test_size=0.1, stratify=y_train, random_state=seed_value)"
      ],
      "metadata": {
        "id": "1KyTh6H5GbR4",
        "execution": {
          "iopub.status.busy": "2022-03-15T11:07:58.345999Z",
          "iopub.execute_input": "2022-03-15T11:07:58.349926Z",
          "iopub.status.idle": "2022-03-15T11:07:58.385220Z",
          "shell.execute_reply.started": "2022-03-15T11:07:58.349890Z",
          "shell.execute_reply": "2022-03-15T11:07:58.384567Z"
        },
        "trusted": true
      },
      "execution_count": null,
      "outputs": []
    },
    {
      "cell_type": "code",
      "source": [
        "(unique, counts) = np.unique(y_train, return_counts=True)\n",
        "np.asarray((unique, counts)).T"
      ],
      "metadata": {
        "id": "N-mC3qyuBONc",
        "outputId": "cc574b32-fb23-4a86-bf28-a7a11e48efbf",
        "execution": {
          "iopub.status.busy": "2022-03-15T11:07:58.386848Z",
          "iopub.execute_input": "2022-03-15T11:07:58.387038Z",
          "iopub.status.idle": "2022-03-15T11:07:58.393696Z",
          "shell.execute_reply.started": "2022-03-15T11:07:58.387014Z",
          "shell.execute_reply": "2022-03-15T11:07:58.392977Z"
        },
        "trusted": true,
        "colab": {
          "base_uri": "https://localhost:8080/"
        }
      },
      "execution_count": null,
      "outputs": [
        {
          "output_type": "execute_result",
          "data": {
            "text/plain": [
              "array([[   0, 5683],\n",
              "       [   1, 5638],\n",
              "       [   2, 5549],\n",
              "       [   3, 5264],\n",
              "       [   4, 4587]])"
            ]
          },
          "metadata": {},
          "execution_count": 45
        }
      ]
    },
    {
      "cell_type": "markdown",
      "source": [
        "The classes are unbalanced, so it could be a good idea to oversample the training set such that all classes have the same count as the most populated one."
      ],
      "metadata": {
        "id": "45AGAxHSnCXW"
      }
    },
    {
      "cell_type": "markdown",
      "source": [
        "# Oversampling of training set"
      ],
      "metadata": {
        "id": "Geqa3e3zGUNL"
      }
    },
    {
      "cell_type": "code",
      "source": [
        "ros = RandomOverSampler()\n",
        "X_train, y_train = ros.fit_resample(np.array(X_train).reshape(-1, 1), np.array(y_train).reshape(-1, 1));\n",
        "train_os = pd.DataFrame(list(zip([x[0] for x in X_train], y_train)), columns = ['text_clean', 'sentiment']);"
      ],
      "metadata": {
        "id": "JN5OCli8BONe",
        "execution": {
          "iopub.status.busy": "2022-03-15T11:07:58.394978Z",
          "iopub.execute_input": "2022-03-15T11:07:58.395835Z",
          "iopub.status.idle": "2022-03-15T11:07:58.452354Z",
          "shell.execute_reply.started": "2022-03-15T11:07:58.395800Z",
          "shell.execute_reply": "2022-03-15T11:07:58.451750Z"
        },
        "trusted": true
      },
      "execution_count": null,
      "outputs": []
    },
    {
      "cell_type": "code",
      "source": [
        "X_train = train_os['text_clean'].values\n",
        "y_train = train_os['sentiment'].values"
      ],
      "metadata": {
        "id": "qAwnlrGoBONe",
        "execution": {
          "iopub.status.busy": "2022-03-15T11:07:58.453423Z",
          "iopub.execute_input": "2022-03-15T11:07:58.453810Z",
          "iopub.status.idle": "2022-03-15T11:07:58.458737Z",
          "shell.execute_reply.started": "2022-03-15T11:07:58.453773Z",
          "shell.execute_reply": "2022-03-15T11:07:58.458027Z"
        },
        "trusted": true
      },
      "execution_count": null,
      "outputs": []
    },
    {
      "cell_type": "code",
      "source": [
        "(unique, counts) = np.unique(y_train, return_counts=True)\n",
        "np.asarray((unique, counts)).T"
      ],
      "metadata": {
        "id": "zNopbN4gBONe",
        "outputId": "d15b94b0-3241-414e-fabd-2430988ef6b8",
        "execution": {
          "iopub.status.busy": "2022-03-15T11:07:58.459844Z",
          "iopub.execute_input": "2022-03-15T11:07:58.460557Z",
          "iopub.status.idle": "2022-03-15T11:07:58.470074Z",
          "shell.execute_reply.started": "2022-03-15T11:07:58.460518Z",
          "shell.execute_reply": "2022-03-15T11:07:58.469327Z"
        },
        "trusted": true,
        "colab": {
          "base_uri": "https://localhost:8080/"
        }
      },
      "execution_count": null,
      "outputs": [
        {
          "output_type": "execute_result",
          "data": {
            "text/plain": [
              "array([[   0, 5683],\n",
              "       [   1, 5683],\n",
              "       [   2, 5683],\n",
              "       [   3, 5683],\n",
              "       [   4, 5683]])"
            ]
          },
          "metadata": {},
          "execution_count": 48
        }
      ]
    },
    {
      "cell_type": "markdown",
      "source": [
        "# Naive Bayes baseline model"
      ],
      "metadata": {
        "id": "jCD4XitS4OHx"
      }
    },
    {
      "cell_type": "markdown",
      "source": [
        "The first algorithm we will implement is Naive Bayes, which will be used as a simple baseline model. In order to use this algorithm, we need first need to preprocess the text data. <br>\n",
        "First, we will create a bag of words using CountVectorizer."
      ],
      "metadata": {
        "id": "1PWKvZK54OHx"
      }
    },
    {
      "cell_type": "code",
      "source": [
        "clf = CountVectorizer()\n",
        "X_train_cv =  clf.fit_transform(X_train)\n",
        "X_test_cv = clf.transform(X_test)"
      ],
      "metadata": {
        "id": "lRCIXRz5BONe",
        "execution": {
          "iopub.status.busy": "2022-03-15T11:07:58.476872Z",
          "iopub.execute_input": "2022-03-15T11:07:58.477077Z",
          "iopub.status.idle": "2022-03-15T11:07:59.175229Z",
          "shell.execute_reply.started": "2022-03-15T11:07:58.477034Z",
          "shell.execute_reply": "2022-03-15T11:07:59.174469Z"
        },
        "trusted": true
      },
      "execution_count": null,
      "outputs": []
    },
    {
      "cell_type": "markdown",
      "source": [
        "Then we apply TF-IFD transformation to associate weigths to the different words based on their frequency (rarer words will be given more importance)."
      ],
      "metadata": {
        "id": "a4i3tkUO4OHx"
      }
    },
    {
      "cell_type": "code",
      "source": [
        "tf_transformer = TfidfTransformer(use_idf=True).fit(X_train_cv)\n",
        "X_train_tf = tf_transformer.transform(X_train_cv)\n",
        "X_test_tf = tf_transformer.transform(X_test_cv)"
      ],
      "metadata": {
        "id": "B_FoQa2cBONf",
        "execution": {
          "iopub.status.busy": "2022-03-15T11:07:59.176681Z",
          "iopub.execute_input": "2022-03-15T11:07:59.176944Z",
          "iopub.status.idle": "2022-03-15T11:07:59.210494Z",
          "shell.execute_reply.started": "2022-03-15T11:07:59.176910Z",
          "shell.execute_reply": "2022-03-15T11:07:59.209819Z"
        },
        "trusted": true
      },
      "execution_count": null,
      "outputs": []
    },
    {
      "cell_type": "markdown",
      "source": [
        "Finally we can instantiate the Naive Bayes model."
      ],
      "metadata": {
        "id": "u3rO4UhX4OHy"
      }
    },
    {
      "cell_type": "code",
      "source": [
        "nb_clf = MultinomialNB()"
      ],
      "metadata": {
        "id": "ecHNDL60BONf",
        "execution": {
          "iopub.status.busy": "2022-03-15T11:07:59.211832Z",
          "iopub.execute_input": "2022-03-15T11:07:59.212133Z",
          "iopub.status.idle": "2022-03-15T11:07:59.215880Z",
          "shell.execute_reply.started": "2022-03-15T11:07:59.212097Z",
          "shell.execute_reply": "2022-03-15T11:07:59.215132Z"
        },
        "trusted": true
      },
      "execution_count": null,
      "outputs": []
    },
    {
      "cell_type": "code",
      "source": [
        "nb_clf.fit(X_train_tf, y_train)"
      ],
      "metadata": {
        "id": "gj-9CqO9BONf",
        "outputId": "1a3c7f27-abe4-42e8-eca7-42e543dbc4af",
        "execution": {
          "iopub.status.busy": "2022-03-15T11:07:59.217152Z",
          "iopub.execute_input": "2022-03-15T11:07:59.217563Z",
          "iopub.status.idle": "2022-03-15T11:07:59.239617Z",
          "shell.execute_reply.started": "2022-03-15T11:07:59.217525Z",
          "shell.execute_reply": "2022-03-15T11:07:59.238944Z"
        },
        "trusted": true
      },
      "execution_count": null,
      "outputs": [
        {
          "execution_count": 43,
          "output_type": "execute_result",
          "data": {
            "text/plain": "MultinomialNB()"
          },
          "metadata": {}
        }
      ]
    },
    {
      "cell_type": "code",
      "source": [
        "nb_pred = nb_clf.predict(X_test_tf)"
      ],
      "metadata": {
        "id": "Evr5z6nhBONf",
        "execution": {
          "iopub.status.busy": "2022-03-15T11:07:59.240705Z",
          "iopub.execute_input": "2022-03-15T11:07:59.240967Z",
          "iopub.status.idle": "2022-03-15T11:07:59.247992Z",
          "shell.execute_reply.started": "2022-03-15T11:07:59.240930Z",
          "shell.execute_reply": "2022-03-15T11:07:59.247196Z"
        },
        "trusted": true
      },
      "execution_count": null,
      "outputs": []
    },
    {
      "cell_type": "code",
      "source": [
        "print('Classification Report for Naive Bayes:\\n',classification_report(y_test, nb_pred, target_names=sentiments))"
      ],
      "metadata": {
        "id": "4pUzmmo6BONf",
        "outputId": "e557178d-7856-430a-8eb3-88616f0ba217",
        "_kg_hide-input": true,
        "execution": {
          "iopub.status.busy": "2022-03-15T11:07:59.249429Z",
          "iopub.execute_input": "2022-03-15T11:07:59.249936Z",
          "iopub.status.idle": "2022-03-15T11:07:59.271304Z",
          "shell.execute_reply.started": "2022-03-15T11:07:59.249899Z",
          "shell.execute_reply": "2022-03-15T11:07:59.270643Z"
        },
        "trusted": true
      },
      "execution_count": null,
      "outputs": [
        {
          "name": "stdout",
          "text": "Classification Report for Naive Bayes:\n               precision    recall  f1-score   support\n\n    religion       0.85      0.97      0.91      1579\n         age       0.80      0.98      0.88      1566\n   ethnicity       0.90      0.92      0.91      1542\n      gender       0.89      0.85      0.87      1462\nnot bullying       0.84      0.47      0.60      1274\n\n    accuracy                           0.85      7423\n   macro avg       0.86      0.84      0.84      7423\nweighted avg       0.86      0.85      0.84      7423\n\n",
          "output_type": "stream"
        }
      ]
    },
    {
      "cell_type": "code",
      "source": [
        "conf_matrix(y_test,nb_pred,'Naive Bayes Sentiment Analysis\\nConfusion Matrix', sentiments)"
      ],
      "metadata": {
        "_kg_hide-input": true,
        "execution": {
          "iopub.status.busy": "2022-03-15T11:07:59.272606Z",
          "iopub.execute_input": "2022-03-15T11:07:59.273094Z",
          "iopub.status.idle": "2022-03-15T11:07:59.569002Z",
          "shell.execute_reply.started": "2022-03-15T11:07:59.273042Z",
          "shell.execute_reply": "2022-03-15T11:07:59.568330Z"
        },
        "trusted": true,
        "id": "uYHRe2Uk4OHy",
        "outputId": "22a78d1c-be3a-4de7-c679-f9c0035203c8"
      },
      "execution_count": null,
      "outputs": [
        {
          "output_type": "display_data",
          "data": {
            "text/plain": "<Figure size 540x540 with 1 Axes>",
            "image/png": "[encoded data removed]"
          },
          "metadata": {}
        }
      ]
    },
    {
      "cell_type": "markdown",
      "source": [
        "**The performance scores of the algorithm is very good, with an overall accurcy of 85%.<br>\n",
        "We can observe how the predictions for the more populated classes have very high F1 scores (over 85%), while for the class \"non-cyberbullying\" the score is much lower.**"
      ],
      "metadata": {
        "id": "pjopmpQA4OHy"
      }
    },
    {
      "cell_type": "markdown",
      "source": [
        "*Next we will implement a more complex algorithm to perform the classification, aiming to achieve higher accurcy than the baseline Naive Bayes model.*"
      ],
      "metadata": {
        "id": "KK-5-1fD4OHz"
      }
    },
    {
      "cell_type": "markdown",
      "source": [
        "# PyTorch Bi-LSTM RNN"
      ],
      "metadata": {
        "id": "A2mww5GA4OHz"
      }
    },
    {
      "cell_type": "markdown",
      "source": [
        "In this section, we will define a custom Bidirectional LSTM using PyTorch in order to perform the Sentiment Analysis on the tweets."
      ],
      "metadata": {
        "id": "yQ1XBS8c4OHz"
      }
    },
    {
      "cell_type": "markdown",
      "source": [
        "# Data preprocessing for LSTM"
      ],
      "metadata": {
        "id": "QZpta6PbBONf"
      }
    },
    {
      "cell_type": "markdown",
      "source": [
        "Similarly to what we did with Naive Bayes, we need to preprocess the data: in particular we will tokenize the sentences with a custom defined function. <br>\n",
        "The sentences will be converted to lists of number with padding to the max number of words in a sentence."
      ],
      "metadata": {
        "id": "dJg9UzxU4OHz"
      }
    },
    {
      "cell_type": "code",
      "source": [
        "def Tokenize(column, seq_len):\n",
        "    ##Create vocabulary of words from column\n",
        "    corpus = [word for text in column for word in text.split()]\n",
        "    count_words = Counter(corpus)\n",
        "    sorted_words = count_words.most_common()\n",
        "    vocab_to_int = {w:i+1 for i, (w,c) in enumerate(sorted_words)}\n",
        "\n",
        "    ##Tokenize the columns text using the vocabulary\n",
        "    text_int = []\n",
        "    for text in column:\n",
        "        r = [vocab_to_int[word] for word in text.split()]\n",
        "        text_int.append(r)\n",
        "    ##Add padding to tokens\n",
        "    features = np.zeros((len(text_int), seq_len), dtype = int)\n",
        "    for i, review in enumerate(text_int):\n",
        "        if len(review) <= seq_len:\n",
        "            zeros = list(np.zeros(seq_len - len(review)))\n",
        "            new = zeros + review\n",
        "        else:\n",
        "            new = review[: seq_len]\n",
        "        features[i, :] = np.array(new)\n",
        "\n",
        "    return sorted_words, features"
      ],
      "metadata": {
        "id": "PAhPX58mpM0i",
        "execution": {
          "iopub.status.busy": "2022-03-15T11:07:59.569957Z",
          "iopub.execute_input": "2022-03-15T11:07:59.570212Z",
          "iopub.status.idle": "2022-03-15T11:07:59.578722Z",
          "shell.execute_reply.started": "2022-03-15T11:07:59.570178Z",
          "shell.execute_reply": "2022-03-15T11:07:59.578039Z"
        },
        "trusted": true
      },
      "execution_count": null,
      "outputs": []
    },
    {
      "cell_type": "code",
      "source": [
        "vocabulary, tokenized_column = Tokenize(df[\"text_clean\"], max_len)"
      ],
      "metadata": {
        "id": "Huovl-tkq9pr",
        "execution": {
          "iopub.status.busy": "2022-03-15T11:07:59.579831Z",
          "iopub.execute_input": "2022-03-15T11:07:59.580606Z",
          "iopub.status.idle": "2022-03-15T11:08:02.467103Z",
          "shell.execute_reply.started": "2022-03-15T11:07:59.580568Z",
          "shell.execute_reply": "2022-03-15T11:08:02.466369Z"
        },
        "trusted": true
      },
      "execution_count": null,
      "outputs": []
    },
    {
      "cell_type": "markdown",
      "source": [
        "We can check how each tweet has been tokenized with an example:"
      ],
      "metadata": {
        "id": "ACdxgiP34OH0"
      }
    },
    {
      "cell_type": "code",
      "source": [
        "df[\"text_clean\"].iloc[10]"
      ],
      "metadata": {
        "execution": {
          "iopub.status.busy": "2022-03-15T11:08:02.468564Z",
          "iopub.execute_input": "2022-03-15T11:08:02.468838Z",
          "iopub.status.idle": "2022-03-15T11:08:02.474539Z",
          "shell.execute_reply.started": "2022-03-15T11:08:02.468802Z",
          "shell.execute_reply": "2022-03-15T11:08:02.473818Z"
        },
        "trusted": true,
        "colab": {
          "base_uri": "https://localhost:8080/",
          "height": 35
        },
        "id": "4GTRXEE04OH0",
        "outputId": "b2c48db8-dab6-4b04-de40-a4f6c88d7119"
      },
      "execution_count": null,
      "outputs": [
        {
          "output_type": "execute_result",
          "data": {
            "text/plain": [
              "'love best respons hotcak manag film noncommitt meh adolesc mkr'"
            ],
            "application/vnd.google.colaboratory.intrinsic+json": {
              "type": "string"
            }
          },
          "metadata": {},
          "execution_count": 51
        }
      ]
    },
    {
      "cell_type": "markdown",
      "source": [
        "This sentence is transformed to the vector:"
      ],
      "metadata": {
        "id": "-t3rDduQ4OH0"
      }
    },
    {
      "cell_type": "code",
      "source": [
        "tokenized_column[10]"
      ],
      "metadata": {
        "execution": {
          "iopub.status.busy": "2022-03-15T11:08:02.476195Z",
          "iopub.execute_input": "2022-03-15T11:08:02.476812Z",
          "iopub.status.idle": "2022-03-15T11:08:02.486749Z",
          "shell.execute_reply.started": "2022-03-15T11:08:02.476739Z",
          "shell.execute_reply": "2022-03-15T11:08:02.486005Z"
        },
        "trusted": true,
        "colab": {
          "base_uri": "https://localhost:8080/"
        },
        "id": "akCQyj-14OH0",
        "outputId": "0c225868-8aaf-4805-9ad5-be1f8af1efe7"
      },
      "execution_count": null,
      "outputs": [
        {
          "output_type": "execute_result",
          "data": {
            "text/plain": [
              "array([    0,     0,     0,     0,     0,     0,     0,     0,     0,\n",
              "           0,     0,     0,     0,     0,     0,     0,     0,     0,\n",
              "           0,     0,     0,     0,     0,     0,     0,     0,     0,\n",
              "           0,     0,     0,     0,     0,     0,     0,     0,     0,\n",
              "           0,     0,     0,     0,     0,     0,     0,     0,     0,\n",
              "           0,     0,     0,     0,     0,     0,     0,     0,     0,\n",
              "           0,     0,     0,     0,     0,     0,     0,     0,     0,\n",
              "           0,     0,     0,     0,     0,     0,    66,   219,   503,\n",
              "        8001,  1300,  1142, 13587,  4686,  9804,    34])"
            ]
          },
          "metadata": {},
          "execution_count": 52
        }
      ]
    },
    {
      "cell_type": "markdown",
      "source": [
        "Moreover we can also check the TOP 20 most common words by extracting them from the vocabulary python dictionary we created with the tokenizer."
      ],
      "metadata": {
        "id": "y0gj8uRH4OH0"
      }
    },
    {
      "cell_type": "code",
      "source": [
        "keys = []\n",
        "values = []\n",
        "for key, value in vocabulary[:20]:\n",
        "    keys.append(key)\n",
        "    values.append(value)"
      ],
      "metadata": {
        "execution": {
          "iopub.status.busy": "2022-03-15T11:08:02.487939Z",
          "iopub.execute_input": "2022-03-15T11:08:02.488261Z",
          "iopub.status.idle": "2022-03-15T11:08:02.493559Z",
          "shell.execute_reply.started": "2022-03-15T11:08:02.488224Z",
          "shell.execute_reply": "2022-03-15T11:08:02.492636Z"
        },
        "trusted": true,
        "id": "14BsBTu64OH0"
      },
      "execution_count": null,
      "outputs": []
    },
    {
      "cell_type": "code",
      "source": [
        "#from axesSubplot isport bar_label\n",
        "plt.figure(figsize=(15, 5))\n",
        "ax = sns.barplot(keys, values, palette='mako')\n",
        "plt.title('Top 20 most common words', size=25)\n",
        "ax.bar_label(ax.containers[0])\n",
        "plt.ylabel(\"Words count\")\n",
        "plt.show()"
      ],
      "metadata": {
        "_kg_hide-input": true,
        "execution": {
          "iopub.status.busy": "2022-03-15T11:08:02.495207Z",
          "iopub.execute_input": "2022-03-15T11:08:02.495949Z",
          "iopub.status.idle": "2022-03-15T11:08:03.004752Z",
          "shell.execute_reply.started": "2022-03-15T11:08:02.495845Z",
          "shell.execute_reply": "2022-03-15T11:08:03.004092Z"
        },
        "trusted": true,
        "colab": {
          "base_uri": "https://localhost:8080/",
          "height": 641
        },
        "id": "77AveW484OH1",
        "outputId": "1762cae0-0d47-4f32-f65a-9f6dca3707b1"
      },
      "execution_count": null,
      "outputs": [
        {
          "output_type": "stream",
          "name": "stderr",
          "text": [
            "/usr/local/lib/python3.7/dist-packages/seaborn/_decorators.py:43: FutureWarning: Pass the following variables as keyword args: x, y. From version 0.12, the only valid positional argument will be `data`, and passing other arguments without an explicit keyword will result in an error or misinterpretation.\n",
            "  FutureWarning\n"
          ]
        },
        {
          "output_type": "error",
          "ename": "AttributeError",
          "evalue": "ignored",
          "traceback": [
            "\u001b[0;31m---------------------------------------------------------------------------\u001b[0m",
            "\u001b[0;31mAttributeError\u001b[0m                            Traceback (most recent call last)",
            "\u001b[0;32m<ipython-input-60-73aa2d8767b8>\u001b[0m in \u001b[0;36m<module>\u001b[0;34m()\u001b[0m\n\u001b[1;32m      3\u001b[0m \u001b[0max\u001b[0m \u001b[0;34m=\u001b[0m \u001b[0msns\u001b[0m\u001b[0;34m.\u001b[0m\u001b[0mbarplot\u001b[0m\u001b[0;34m(\u001b[0m\u001b[0mkeys\u001b[0m\u001b[0;34m,\u001b[0m \u001b[0mvalues\u001b[0m\u001b[0;34m,\u001b[0m \u001b[0mpalette\u001b[0m\u001b[0;34m=\u001b[0m\u001b[0;34m'mako'\u001b[0m\u001b[0;34m)\u001b[0m\u001b[0;34m\u001b[0m\u001b[0;34m\u001b[0m\u001b[0m\n\u001b[1;32m      4\u001b[0m \u001b[0mplt\u001b[0m\u001b[0;34m.\u001b[0m\u001b[0mtitle\u001b[0m\u001b[0;34m(\u001b[0m\u001b[0;34m'Top 20 most common words'\u001b[0m\u001b[0;34m,\u001b[0m \u001b[0msize\u001b[0m\u001b[0;34m=\u001b[0m\u001b[0;36m25\u001b[0m\u001b[0;34m)\u001b[0m\u001b[0;34m\u001b[0m\u001b[0;34m\u001b[0m\u001b[0m\n\u001b[0;32m----> 5\u001b[0;31m \u001b[0max\u001b[0m\u001b[0;34m.\u001b[0m\u001b[0mbar_label\u001b[0m\u001b[0;34m(\u001b[0m\u001b[0max\u001b[0m\u001b[0;34m.\u001b[0m\u001b[0mcontainers\u001b[0m\u001b[0;34m[\u001b[0m\u001b[0;36m0\u001b[0m\u001b[0;34m]\u001b[0m\u001b[0;34m)\u001b[0m\u001b[0;34m\u001b[0m\u001b[0;34m\u001b[0m\u001b[0m\n\u001b[0m\u001b[1;32m      6\u001b[0m \u001b[0mplt\u001b[0m\u001b[0;34m.\u001b[0m\u001b[0mylabel\u001b[0m\u001b[0;34m(\u001b[0m\u001b[0;34m\"Words count\"\u001b[0m\u001b[0;34m)\u001b[0m\u001b[0;34m\u001b[0m\u001b[0;34m\u001b[0m\u001b[0m\n\u001b[1;32m      7\u001b[0m \u001b[0mplt\u001b[0m\u001b[0;34m.\u001b[0m\u001b[0mshow\u001b[0m\u001b[0;34m(\u001b[0m\u001b[0;34m)\u001b[0m\u001b[0;34m\u001b[0m\u001b[0;34m\u001b[0m\u001b[0m\n",
            "\u001b[0;31mAttributeError\u001b[0m: 'AxesSubplot' object has no attribute 'bar_label'"
          ]
        },
        {
          "output_type": "display_data",
          "data": {
            "text/plain": [
              "<Figure size 1080x360 with 1 Axes>"
            ],
            "image/png": "[encoded data removed]"
          },
          "metadata": {
            "needs_background": "light"
          }
        }
      ]
    },
    {
      "cell_type": "markdown",
      "source": [
        "# Word Embedding by Word2Vec"
      ],
      "metadata": {
        "id": "oTbzqr0u4OH1"
      }
    },
    {
      "cell_type": "markdown",
      "source": [
        "Next, we will create a word embedding matrix using the original text tweets and the pre trained model Word2vec.<br>\n",
        "First, we create a list of words from the X_train vector created before."
      ],
      "metadata": {
        "id": "u-pGvmAl4OH1"
      }
    },
    {
      "cell_type": "code",
      "source": [
        "Word2vec_train_data = list(map(lambda x: x.split(), X_train))"
      ],
      "metadata": {
        "execution": {
          "iopub.status.busy": "2022-03-15T11:08:03.006208Z",
          "iopub.execute_input": "2022-03-15T11:08:03.006458Z",
          "iopub.status.idle": "2022-03-15T11:08:03.247308Z",
          "shell.execute_reply.started": "2022-03-15T11:08:03.006423Z",
          "shell.execute_reply": "2022-03-15T11:08:03.246532Z"
        },
        "trusted": true,
        "id": "R8Z4L0Eg4OH1"
      },
      "execution_count": null,
      "outputs": []
    },
    {
      "cell_type": "markdown",
      "source": [
        "We set a dimension of the embedding words, which can be seen as the number of featurs of each transformed word."
      ],
      "metadata": {
        "id": "52Cf4LFg4OH1"
      }
    },
    {
      "cell_type": "code",
      "source": [
        "EMBEDDING_DIM = 200"
      ],
      "metadata": {
        "execution": {
          "iopub.status.busy": "2022-03-15T11:08:03.251211Z",
          "iopub.execute_input": "2022-03-15T11:08:03.251564Z",
          "iopub.status.idle": "2022-03-15T11:08:03.255622Z",
          "shell.execute_reply.started": "2022-03-15T11:08:03.251534Z",
          "shell.execute_reply": "2022-03-15T11:08:03.254925Z"
        },
        "trusted": true,
        "id": "U-Eq2axK4OH1"
      },
      "execution_count": null,
      "outputs": []
    },
    {
      "cell_type": "markdown",
      "source": [
        "Then we can instaniate the Word2Vec model by passing the training words and chosen embedding dimension to the imported Word2vec object."
      ],
      "metadata": {
        "id": "4SuEAWe_4OH1"
      }
    },
    {
      "cell_type": "code",
      "source": [
        "!pip install gensim\n",
        "\n",
        "word2vec_model = Word2Vec(Word2vec_train_data, size=EMBEDDING_DIM)"
      ],
      "metadata": {
        "execution": {
          "iopub.status.busy": "2022-03-15T11:08:03.257094Z",
          "iopub.execute_input": "2022-03-15T11:08:03.257897Z",
          "iopub.status.idle": "2022-03-15T11:08:07.647416Z",
          "shell.execute_reply.started": "2022-03-15T11:08:03.257848Z",
          "shell.execute_reply": "2022-03-15T11:08:07.646679Z"
        },
        "trusted": true,
        "colab": {
          "base_uri": "https://localhost:8080/"
        },
        "id": "pLKrxBZW4OH2",
        "outputId": "9b252c32-1c47-4f68-84d2-26a2d8c78491"
      },
      "execution_count": null,
      "outputs": [
        {
          "output_type": "stream",
          "name": "stdout",
          "text": [
            "Requirement already satisfied: gensim in /usr/local/lib/python3.7/dist-packages (3.6.0)\n",
            "Requirement already satisfied: scipy>=0.18.1 in /usr/local/lib/python3.7/dist-packages (from gensim) (1.4.1)\n",
            "Requirement already satisfied: numpy>=1.11.3 in /usr/local/lib/python3.7/dist-packages (from gensim) (1.21.5)\n",
            "Requirement already satisfied: six>=1.5.0 in /usr/local/lib/python3.7/dist-packages (from gensim) (1.15.0)\n",
            "Requirement already satisfied: smart-open>=1.2.1 in /usr/local/lib/python3.7/dist-packages (from gensim) (5.2.1)\n"
          ]
        }
      ]
    },
    {
      "cell_type": "markdown",
      "source": [
        "Before defining the embedding matrix, we also need to choose the max number of words. We will extract the number of words from the vocabulary python dictionary we created before."
      ],
      "metadata": {
        "id": "ZN28ct574OH2"
      }
    },
    {
      "cell_type": "code",
      "source": [
        "print(f\"Vocabulary size: {len(vocabulary) + 1}\")"
      ],
      "metadata": {
        "execution": {
          "iopub.status.busy": "2022-03-15T11:08:07.648690Z",
          "iopub.execute_input": "2022-03-15T11:08:07.648932Z",
          "iopub.status.idle": "2022-03-15T11:08:07.655556Z",
          "shell.execute_reply.started": "2022-03-15T11:08:07.648900Z",
          "shell.execute_reply": "2022-03-15T11:08:07.654725Z"
        },
        "trusted": true,
        "colab": {
          "base_uri": "https://localhost:8080/"
        },
        "id": "r-I8oY564OH2",
        "outputId": "7625de64-7f5a-442a-e928-28c065a0b24c"
      },
      "execution_count": null,
      "outputs": [
        {
          "output_type": "stream",
          "name": "stdout",
          "text": [
            "Vocabulary size: 33009\n"
          ]
        }
      ]
    },
    {
      "cell_type": "code",
      "source": [
        "VOCAB_SIZE = len(vocabulary) + 1 #+1 for the padding"
      ],
      "metadata": {
        "execution": {
          "iopub.status.busy": "2022-03-15T11:08:07.657277Z",
          "iopub.execute_input": "2022-03-15T11:08:07.657827Z",
          "iopub.status.idle": "2022-03-15T11:08:07.663898Z",
          "shell.execute_reply.started": "2022-03-15T11:08:07.657785Z",
          "shell.execute_reply": "2022-03-15T11:08:07.663170Z"
        },
        "trusted": true,
        "id": "lIx4VmUC4OH2"
      },
      "execution_count": null,
      "outputs": []
    },
    {
      "cell_type": "markdown",
      "source": [
        "Finally we can define the embedding matrix."
      ],
      "metadata": {
        "id": "hLvlMk1B4OH2"
      }
    },
    {
      "cell_type": "code",
      "source": [
        "#define empty embedding matrix\n",
        "embedding_matrix = np.zeros((VOCAB_SIZE, EMBEDDING_DIM))\n",
        "    \n",
        "#fill the embedding matrix with the pre trained values from word2vec\n",
        "#    corresponding to word (string), token (number associated to the word)\n",
        "for word, token in vocabulary:\n",
        "    if word2vec_model.wv.__contains__(word):\n",
        "        embedding_matrix[token] = word2vec_model.wv.__getitem__(word)\n",
        "\n",
        "print(\"Embedding Matrix Shape:\", embedding_matrix.shape)"
      ],
      "metadata": {
        "execution": {
          "iopub.status.busy": "2022-03-15T11:08:07.665364Z",
          "iopub.execute_input": "2022-03-15T11:08:07.665847Z",
          "iopub.status.idle": "2022-03-15T11:08:07.736147Z",
          "shell.execute_reply.started": "2022-03-15T11:08:07.665809Z",
          "shell.execute_reply": "2022-03-15T11:08:07.735241Z"
        },
        "trusted": true,
        "colab": {
          "base_uri": "https://localhost:8080/"
        },
        "id": "m7-_vv3l4OH2",
        "outputId": "37ba61cb-3ff2-41a2-ac6d-2ed78dedfc9e"
      },
      "execution_count": null,
      "outputs": [
        {
          "output_type": "stream",
          "name": "stdout",
          "text": [
            "Embedding Matrix Shape: (33009, 200)\n"
          ]
        }
      ]
    },
    {
      "cell_type": "markdown",
      "source": [
        "## Train - Validation - Test split"
      ],
      "metadata": {
        "id": "DWSPpkgh4OH2"
      }
    },
    {
      "cell_type": "markdown",
      "source": [
        "Now we will use the tokenized sentences to create a training, validation and test datasets."
      ],
      "metadata": {
        "id": "0otPBTtQ4OH2"
      }
    },
    {
      "cell_type": "code",
      "source": [
        "X = tokenized_column\n",
        "y = df['sentiment'].values"
      ],
      "metadata": {
        "id": "xPzbx9jFBONg",
        "execution": {
          "iopub.status.busy": "2022-03-15T11:08:07.737394Z",
          "iopub.execute_input": "2022-03-15T11:08:07.737824Z",
          "iopub.status.idle": "2022-03-15T11:08:07.742222Z",
          "shell.execute_reply.started": "2022-03-15T11:08:07.737777Z",
          "shell.execute_reply": "2022-03-15T11:08:07.741257Z"
        },
        "trusted": true
      },
      "execution_count": null,
      "outputs": []
    },
    {
      "cell_type": "code",
      "source": [
        "X_train, X_test, y_train, y_test = train_test_split(X, y, test_size=0.2, stratify=y, random_state=seed_value)"
      ],
      "metadata": {
        "id": "HQJ-XSMzBONg",
        "execution": {
          "iopub.status.busy": "2022-03-15T11:08:07.743925Z",
          "iopub.execute_input": "2022-03-15T11:08:07.744333Z",
          "iopub.status.idle": "2022-03-15T11:08:07.792207Z",
          "shell.execute_reply.started": "2022-03-15T11:08:07.744297Z",
          "shell.execute_reply": "2022-03-15T11:08:07.791428Z"
        },
        "trusted": true
      },
      "execution_count": null,
      "outputs": []
    },
    {
      "cell_type": "code",
      "source": [
        "X_train, X_valid, y_train, y_valid = train_test_split(X_train, y_train, test_size=0.1, stratify=y_train, random_state=seed_value)"
      ],
      "metadata": {
        "id": "aeca_zUVBONg",
        "execution": {
          "iopub.status.busy": "2022-03-15T11:08:07.793596Z",
          "iopub.execute_input": "2022-03-15T11:08:07.794112Z",
          "iopub.status.idle": "2022-03-15T11:08:07.826597Z",
          "shell.execute_reply.started": "2022-03-15T11:08:07.794073Z",
          "shell.execute_reply": "2022-03-15T11:08:07.825822Z"
        },
        "trusted": true
      },
      "execution_count": null,
      "outputs": []
    },
    {
      "cell_type": "markdown",
      "source": [
        "We can check the balance of the target classes:"
      ],
      "metadata": {
        "id": "rcx-DbFQ4OH3"
      }
    },
    {
      "cell_type": "code",
      "source": [
        "(unique, counts) = np.unique(y_train, return_counts=True)\n",
        "np.asarray((unique, counts)).T"
      ],
      "metadata": {
        "id": "FX77tlMuBONg",
        "outputId": "56098eb1-149d-4bf3-e1e8-9138cb0c6343",
        "execution": {
          "iopub.status.busy": "2022-03-15T11:08:07.828019Z",
          "iopub.execute_input": "2022-03-15T11:08:07.828572Z",
          "iopub.status.idle": "2022-03-15T11:08:07.837767Z",
          "shell.execute_reply.started": "2022-03-15T11:08:07.828532Z",
          "shell.execute_reply": "2022-03-15T11:08:07.836828Z"
        },
        "trusted": true,
        "colab": {
          "base_uri": "https://localhost:8080/"
        }
      },
      "execution_count": null,
      "outputs": [
        {
          "output_type": "execute_result",
          "data": {
            "text/plain": [
              "array([[   0, 5683],\n",
              "       [   1, 5638],\n",
              "       [   2, 5549],\n",
              "       [   3, 5264],\n",
              "       [   4, 4587]])"
            ]
          },
          "metadata": {},
          "execution_count": 82
        }
      ]
    },
    {
      "cell_type": "markdown",
      "source": [
        "And then apply random oversampling on the training set."
      ],
      "metadata": {
        "id": "D-bn4jLJ4OH3"
      }
    },
    {
      "cell_type": "code",
      "source": [
        "ros = RandomOverSampler()\n",
        "X_train_os, y_train_os = ros.fit_resample(np.array(X_train),np.array(y_train));"
      ],
      "metadata": {
        "id": "sFRMuSdrBONh",
        "execution": {
          "iopub.status.busy": "2022-03-15T11:08:07.838859Z",
          "iopub.execute_input": "2022-03-15T11:08:07.842178Z",
          "iopub.status.idle": "2022-03-15T11:08:07.872313Z",
          "shell.execute_reply.started": "2022-03-15T11:08:07.842149Z",
          "shell.execute_reply": "2022-03-15T11:08:07.871562Z"
        },
        "trusted": true
      },
      "execution_count": null,
      "outputs": []
    },
    {
      "cell_type": "code",
      "source": [
        "(unique, counts) = np.unique(y_train_os, return_counts=True)\n",
        "np.asarray((unique, counts)).T"
      ],
      "metadata": {
        "id": "OQl1UY2BUt-m",
        "outputId": "c031c3e1-5452-4fb8-8e3b-c97686942547",
        "execution": {
          "iopub.status.busy": "2022-03-15T11:08:07.873688Z",
          "iopub.execute_input": "2022-03-15T11:08:07.874464Z",
          "iopub.status.idle": "2022-03-15T11:08:07.883745Z",
          "shell.execute_reply.started": "2022-03-15T11:08:07.874424Z",
          "shell.execute_reply": "2022-03-15T11:08:07.882989Z"
        },
        "trusted": true,
        "colab": {
          "base_uri": "https://localhost:8080/"
        }
      },
      "execution_count": null,
      "outputs": [
        {
          "output_type": "execute_result",
          "data": {
            "text/plain": [
              "array([[   0, 5683],\n",
              "       [   1, 5683],\n",
              "       [   2, 5683],\n",
              "       [   3, 5683],\n",
              "       [   4, 5683]])"
            ]
          },
          "metadata": {},
          "execution_count": 84
        }
      ]
    },
    {
      "cell_type": "markdown",
      "source": [
        "## PyTorch datasets and dataloaders"
      ],
      "metadata": {
        "id": "JD2NQRAU4OH4"
      }
    },
    {
      "cell_type": "markdown",
      "source": [
        "The three sets will be transformed to tensor datasets and dataloaders so we can extract the data in batches for the LSTM training, validation and testing."
      ],
      "metadata": {
        "id": "aHGFwoZ64OH4"
      }
    },
    {
      "cell_type": "code",
      "source": [
        "train_data = TensorDataset(torch.from_numpy(X_train_os), torch.from_numpy(y_train_os))\n",
        "test_data = TensorDataset(torch.from_numpy(X_test), torch.from_numpy(y_test))\n",
        "valid_data = TensorDataset(torch.from_numpy(X_valid), torch.from_numpy(y_valid))"
      ],
      "metadata": {
        "id": "O-e9FHZp5Qsc",
        "execution": {
          "iopub.status.busy": "2022-03-15T11:08:07.885213Z",
          "iopub.execute_input": "2022-03-15T11:08:07.885589Z",
          "iopub.status.idle": "2022-03-15T11:08:07.890747Z",
          "shell.execute_reply.started": "2022-03-15T11:08:07.885549Z",
          "shell.execute_reply": "2022-03-15T11:08:07.889819Z"
        },
        "trusted": true
      },
      "execution_count": null,
      "outputs": []
    },
    {
      "cell_type": "code",
      "source": [
        "BATCH_SIZE = 32"
      ],
      "metadata": {
        "id": "RfzfdlUFX8al",
        "execution": {
          "iopub.status.busy": "2022-03-15T11:08:07.892259Z",
          "iopub.execute_input": "2022-03-15T11:08:07.892855Z",
          "iopub.status.idle": "2022-03-15T11:08:07.899739Z",
          "shell.execute_reply.started": "2022-03-15T11:08:07.892817Z",
          "shell.execute_reply": "2022-03-15T11:08:07.898995Z"
        },
        "trusted": true
      },
      "execution_count": null,
      "outputs": []
    },
    {
      "cell_type": "code",
      "source": [
        "train_loader = DataLoader(train_data, shuffle=True, batch_size=BATCH_SIZE, drop_last=True) \n",
        "valid_loader = DataLoader(valid_data, shuffle=True, batch_size=BATCH_SIZE, drop_last=True)\n",
        "test_loader = DataLoader(test_data, shuffle=True, batch_size=BATCH_SIZE, drop_last=True)"
      ],
      "metadata": {
        "id": "S2TGQjB4X7UQ",
        "execution": {
          "iopub.status.busy": "2022-03-15T11:08:07.901100Z",
          "iopub.execute_input": "2022-03-15T11:08:07.901599Z",
          "iopub.status.idle": "2022-03-15T11:08:07.908456Z",
          "shell.execute_reply.started": "2022-03-15T11:08:07.901562Z",
          "shell.execute_reply": "2022-03-15T11:08:07.907631Z"
        },
        "trusted": true
      },
      "execution_count": null,
      "outputs": []
    },
    {
      "cell_type": "markdown",
      "source": [
        "# PyTorch LSTM modeling"
      ],
      "metadata": {
        "id": "Sjv7lTKd4OH4"
      }
    },
    {
      "cell_type": "markdown",
      "source": [
        "Finally we can start the LSTM modeling. We start by setting some hyperparameters."
      ],
      "metadata": {
        "id": "8EtgvVWY4OH4"
      }
    },
    {
      "cell_type": "code",
      "source": [
        "NUM_CLASSES = 5 #We are dealing with a multiclass classification of 5 classes\n",
        "HIDDEN_DIM = 100 #number of neurons of the internal state (internal neural network in the LSTM)\n",
        "LSTM_LAYERS = 1 #Number of stacked LSTM layers\n",
        "\n",
        "LR = 3e-4 #Learning rate\n",
        "DROPOUT = 0.5 #LSTM Dropout\n",
        "BIDIRECTIONAL = True #Boolean value to choose if to use a bidirectional LSTM or not\n",
        "EPOCHS = 5 #Number of training epoch\n",
        "\n",
        "DEVICE = 'cuda' if torch.cuda.is_available() else 'cpu'"
      ],
      "metadata": {
        "id": "dfLClXUs5Qsc",
        "execution": {
          "iopub.status.busy": "2022-03-15T11:08:07.909762Z",
          "iopub.execute_input": "2022-03-15T11:08:07.910151Z",
          "iopub.status.idle": "2022-03-15T11:08:07.940270Z",
          "shell.execute_reply.started": "2022-03-15T11:08:07.910116Z",
          "shell.execute_reply": "2022-03-15T11:08:07.939553Z"
        },
        "trusted": true
      },
      "execution_count": null,
      "outputs": []
    },
    {
      "cell_type": "code",
      "source": [
        "class BiLSTM_Sentiment_Classifier(nn.Module):\n",
        "\n",
        "    def __init__(self, vocab_size, embedding_dim, hidden_dim, num_classes, lstm_layers, bidirectional,batch_size, dropout):\n",
        "        super(BiLSTM_Sentiment_Classifier,self).__init__()\n",
        "        \n",
        "        self.lstm_layers = lstm_layers\n",
        "        self.num_directions = 2 if bidirectional else 1\n",
        "        self.hidden_dim = hidden_dim\n",
        "        self.num_classes = num_classes\n",
        "        self.batch_size = batch_size\n",
        "        \n",
        "\n",
        "        self.embedding = nn.Embedding(vocab_size, embedding_dim)\n",
        "        \n",
        "        self.lstm = nn.LSTM(embedding_dim,\n",
        "                            hidden_dim,\n",
        "                            num_layers=lstm_layers,\n",
        "                            dropout=dropout,\n",
        "                            bidirectional=bidirectional,\n",
        "                            batch_first=True)\n",
        "\n",
        "        self.fc = nn.Linear(hidden_dim*self.num_directions, num_classes)\n",
        "        self.softmax = nn.LogSoftmax(dim=1)\n",
        "        \n",
        "    def forward(self, x, hidden):\n",
        "        self.batch_size = x.size(0)\n",
        "        ##EMBEDDING LAYER\n",
        "        embedded = self.embedding(x)\n",
        "        #LSTM LAYERS\n",
        "        out, hidden = self.lstm(embedded, hidden)\n",
        "        #Extract only the hidden state from the last LSTM cell\n",
        "        out = out[:,-1,:]\n",
        "        #FULLY CONNECTED LAYERS\n",
        "        out = self.fc(out)\n",
        "        out = self.softmax(out)\n",
        "\n",
        "        return out, hidden\n",
        "\n",
        "    def init_hidden(self, batch_size):\n",
        "        #Initialization of the LSTM hidden and cell states\n",
        "        h0 = torch.zeros((self.lstm_layers*self.num_directions, batch_size, self.hidden_dim)).detach().to(DEVICE)\n",
        "        c0 = torch.zeros((self.lstm_layers*self.num_directions, batch_size, self.hidden_dim)).detach().to(DEVICE)\n",
        "        hidden = (h0, c0)\n",
        "        return hidden"
      ],
      "metadata": {
        "id": "InaVLcNV5Qsc",
        "execution": {
          "iopub.status.busy": "2022-03-15T11:08:07.941664Z",
          "iopub.execute_input": "2022-03-15T11:08:07.941965Z",
          "iopub.status.idle": "2022-03-15T11:08:07.954826Z",
          "shell.execute_reply.started": "2022-03-15T11:08:07.941928Z",
          "shell.execute_reply": "2022-03-15T11:08:07.954100Z"
        },
        "trusted": true
      },
      "execution_count": null,
      "outputs": []
    },
    {
      "cell_type": "code",
      "source": [
        "model = BiLSTM_Sentiment_Classifier(VOCAB_SIZE, EMBEDDING_DIM, HIDDEN_DIM,NUM_CLASSES, LSTM_LAYERS,BIDIRECTIONAL, BATCH_SIZE, DROPOUT)\n",
        "model = model.to(DEVICE)\n",
        "\n",
        "#Initialize embedding with the previously defined embedding matrix\n",
        "model.embedding.weight.data.copy_(torch.from_numpy(embedding_matrix))\n",
        "#Allow the embedding matrix to be fined tuned to better adapt to out dataset and get higher accuracy\n",
        "model.embedding.weight.requires_grad=True\n",
        "\n",
        "print(model)"
      ],
      "metadata": {
        "id": "n3Zs0lfW5Qsd",
        "execution": {
          "iopub.status.busy": "2022-03-15T11:08:07.957483Z",
          "iopub.execute_input": "2022-03-15T11:08:07.959112Z",
          "iopub.status.idle": "2022-03-15T11:08:10.622031Z",
          "shell.execute_reply.started": "2022-03-15T11:08:07.959074Z",
          "shell.execute_reply": "2022-03-15T11:08:10.621136Z"
        },
        "trusted": true,
        "colab": {
          "base_uri": "https://localhost:8080/"
        },
        "outputId": "c03b2637-2a33-4167-c0b0-fe3da23aedf3"
      },
      "execution_count": null,
      "outputs": [
        {
          "output_type": "stream",
          "name": "stdout",
          "text": [
            "BiLSTM_Sentiment_Classifier(\n",
            "  (embedding): Embedding(33009, 200)\n",
            "  (lstm): LSTM(200, 100, batch_first=True, dropout=0.5, bidirectional=True)\n",
            "  (fc): Linear(in_features=200, out_features=5, bias=True)\n",
            "  (softmax): LogSoftmax(dim=1)\n",
            ")\n"
          ]
        }
      ]
    },
    {
      "cell_type": "code",
      "source": [
        "criterion = nn.NLLLoss()\n",
        "optimizer = torch.optim.AdamW(model.parameters(), lr=LR, weight_decay = 5e-6)"
      ],
      "metadata": {
        "id": "ftkcRBFCY-Zp",
        "execution": {
          "iopub.status.busy": "2022-03-15T11:08:10.623472Z",
          "iopub.execute_input": "2022-03-15T11:08:10.623898Z",
          "iopub.status.idle": "2022-03-15T11:08:10.629241Z",
          "shell.execute_reply.started": "2022-03-15T11:08:10.623858Z",
          "shell.execute_reply": "2022-03-15T11:08:10.628467Z"
        },
        "trusted": true
      },
      "execution_count": null,
      "outputs": []
    },
    {
      "cell_type": "markdown",
      "source": [
        "# LSTM Training loop "
      ],
      "metadata": {
        "id": "5qQDp2AP4OH5"
      }
    },
    {
      "cell_type": "markdown",
      "source": [
        "Now we will define a custom training loop, where we include an early stopping functionality, and save only the best models in terms of validation accuracy."
      ],
      "metadata": {
        "id": "DXptvKsU4OH6"
      }
    },
    {
      "cell_type": "code",
      "source": [
        "total_step = len(train_loader)\n",
        "total_step_val = len(valid_loader)\n",
        "\n",
        "early_stopping_patience = 4\n",
        "early_stopping_counter = 0\n",
        "\n",
        "valid_acc_max = 0 # Initialize best accuracy top 0\n",
        "\n",
        "for e in range(EPOCHS):\n",
        "\n",
        "    #lists to host the train and validation losses of every batch for each epoch\n",
        "    train_loss, valid_loss  = [], []\n",
        "    #lists to host the train and validation accuracy of every batch for each epoch\n",
        "    train_acc, valid_acc  = [], []\n",
        "\n",
        "    #lists to host the train and validation predictions of every batch for each epoch\n",
        "    y_train_list, y_val_list = [], []\n",
        "\n",
        "    #initalize number of total and correctly classified texts during training and validation\n",
        "    correct, correct_val = 0, 0\n",
        "    total, total_val = 0, 0\n",
        "    running_loss, running_loss_val = 0, 0\n",
        "\n",
        "\n",
        "    ####TRAINING LOOP####\n",
        "\n",
        "    model.train()\n",
        "\n",
        "    for inputs, labels in train_loader:\n",
        "        inputs, labels = inputs.to(DEVICE), labels.to(DEVICE) #load features and targets in device\n",
        "\n",
        "        h = model.init_hidden(labels.size(0))\n",
        "\n",
        "        model.zero_grad() #reset gradients \n",
        "\n",
        "        output, h = model(inputs,h) #get output and hidden states from LSTM network\n",
        "        \n",
        "        loss = criterion(output, labels)\n",
        "        loss.backward()\n",
        "        \n",
        "        running_loss += loss.item()\n",
        "        \n",
        "        optimizer.step()\n",
        "\n",
        "        y_pred_train = torch.argmax(output, dim=1) #get tensor of predicted values on the training set\n",
        "        y_train_list.extend(y_pred_train.squeeze().tolist()) #transform tensor to list and the values to the list\n",
        "        \n",
        "        correct += torch.sum(y_pred_train==labels).item() #count correctly classified texts per batch\n",
        "        total += labels.size(0) #count total texts per batch\n",
        "\n",
        "    train_loss.append(running_loss / total_step)\n",
        "    train_acc.append(100 * correct / total)\n",
        "\n",
        "    ####VALIDATION LOOP####\n",
        "    \n",
        "    with torch.no_grad():\n",
        "        \n",
        "        model.eval()\n",
        "        \n",
        "        for inputs, labels in valid_loader:\n",
        "            inputs, labels = inputs.to(DEVICE), labels.to(DEVICE)\n",
        "\n",
        "            val_h = model.init_hidden(labels.size(0))\n",
        "\n",
        "            output, val_h = model(inputs, val_h)\n",
        "\n",
        "            val_loss = criterion(output, labels)\n",
        "            running_loss_val += val_loss.item()\n",
        "\n",
        "            y_pred_val = torch.argmax(output, dim=1)\n",
        "            y_val_list.extend(y_pred_val.squeeze().tolist())\n",
        "\n",
        "            correct_val += torch.sum(y_pred_val==labels).item()\n",
        "            total_val += labels.size(0)\n",
        "\n",
        "        valid_loss.append(running_loss_val / total_step_val)\n",
        "        valid_acc.append(100 * correct_val / total_val)\n",
        "\n",
        "    #Save model if validation accuracy increases\n",
        "    if np.mean(valid_acc) >= valid_acc_max:\n",
        "        torch.save(model.state_dict(), './state_dict.pt')\n",
        "        print(f'Epoch {e+1}:Validation accuracy increased ({valid_acc_max:.6f} --> {np.mean(valid_acc):.6f}).  Saving model ...')\n",
        "        valid_acc_max = np.mean(valid_acc)\n",
        "        early_stopping_counter=0 #reset counter if validation accuracy increases\n",
        "    else:\n",
        "        print(f'Epoch {e+1}:Validation accuracy did not increase')\n",
        "        early_stopping_counter+=1 #increase counter if validation accuracy does not increase\n",
        "        \n",
        "    if early_stopping_counter > early_stopping_patience:\n",
        "        print('Early stopped at epoch :', e+1)\n",
        "        break\n",
        "    \n",
        "    print(f'\\tTrain_loss : {np.mean(train_loss):.4f} Val_loss : {np.mean(valid_loss):.4f}')\n",
        "    print(f'\\tTrain_acc : {np.mean(train_acc):.3f}% Val_acc : {np.mean(valid_acc):.3f}%')"
      ],
      "metadata": {
        "id": "5rK3YPVT5Qsd",
        "execution": {
          "iopub.status.busy": "2022-03-15T11:08:10.630803Z",
          "iopub.execute_input": "2022-03-15T11:08:10.631087Z",
          "iopub.status.idle": "2022-03-15T11:08:48.783473Z",
          "shell.execute_reply.started": "2022-03-15T11:08:10.631037Z",
          "shell.execute_reply": "2022-03-15T11:08:48.782670Z"
        },
        "trusted": true,
        "colab": {
          "base_uri": "https://localhost:8080/"
        },
        "outputId": "db2fdde6-8b4e-471e-eb61-9470f63b2921"
      },
      "execution_count": null,
      "outputs": [
        {
          "output_type": "stream",
          "name": "stdout",
          "text": [
            "Epoch 1:Validation accuracy increased (0.000000 --> 91.304348).  Saving model ...\n",
            "\tTrain_loss : 0.6878 Val_loss : 0.2609\n",
            "\tTrain_acc : 73.813% Val_acc : 91.304%\n"
          ]
        }
      ]
    },
    {
      "cell_type": "code",
      "source": [
        "# Loading the best model\n",
        "model.load_state_dict(torch.load('./state_dict.pt'))"
      ],
      "metadata": {
        "id": "wfTLdAi45Qsd",
        "execution": {
          "iopub.status.busy": "2022-03-15T11:08:48.784648Z",
          "iopub.execute_input": "2022-03-15T11:08:48.785121Z",
          "iopub.status.idle": "2022-03-15T11:08:48.815436Z",
          "shell.execute_reply.started": "2022-03-15T11:08:48.785075Z",
          "shell.execute_reply": "2022-03-15T11:08:48.814716Z"
        },
        "trusted": true
      },
      "execution_count": null,
      "outputs": []
    },
    {
      "cell_type": "markdown",
      "source": [
        "# LSTM Testing"
      ],
      "metadata": {
        "id": "t4w9sai14OH6"
      }
    },
    {
      "cell_type": "code",
      "source": [
        "model.eval()\n",
        "y_pred_list = []\n",
        "y_test_list = []\n",
        "for inputs, labels in test_loader:\n",
        "    inputs, labels = inputs.to(DEVICE), labels.to(DEVICE)\n",
        "    test_h = model.init_hidden(labels.size(0))\n",
        "\n",
        "    output, val_h = model(inputs, test_h)\n",
        "    y_pred_test = torch.argmax(output, dim=1)\n",
        "    y_pred_list.extend(y_pred_test.squeeze().tolist())\n",
        "    y_test_list.extend(labels.squeeze().tolist())"
      ],
      "metadata": {
        "id": "3ERsOjzW41tF",
        "execution": {
          "iopub.status.busy": "2022-03-15T11:08:48.816743Z",
          "iopub.execute_input": "2022-03-15T11:08:48.817045Z",
          "iopub.status.idle": "2022-03-15T11:08:49.439464Z",
          "shell.execute_reply.started": "2022-03-15T11:08:48.817009Z",
          "shell.execute_reply": "2022-03-15T11:08:49.438724Z"
        },
        "trusted": true
      },
      "execution_count": null,
      "outputs": []
    },
    {
      "cell_type": "code",
      "source": [
        "print('Classification Report for Bi-LSTM :\\n', classification_report(y_test_list, y_pred_list, target_names=sentiments))"
      ],
      "metadata": {
        "id": "tu6ex4zC5Qse",
        "_kg_hide-input": true,
        "execution": {
          "iopub.status.busy": "2022-03-15T11:08:49.440727Z",
          "iopub.execute_input": "2022-03-15T11:08:49.440979Z",
          "iopub.status.idle": "2022-03-15T11:08:49.469431Z",
          "shell.execute_reply.started": "2022-03-15T11:08:49.440945Z",
          "shell.execute_reply": "2022-03-15T11:08:49.468722Z"
        },
        "trusted": true
      },
      "execution_count": null,
      "outputs": []
    },
    {
      "cell_type": "code",
      "source": [
        "conf_matrix(y_test_list,y_pred_list,'PyTorch Bi-LSTM Sentiment Analysis\\nConfusion Matrix', sentiments)"
      ],
      "metadata": {
        "id": "vmE9K77s1qv_",
        "_kg_hide-input": true,
        "execution": {
          "iopub.status.busy": "2022-03-15T11:08:49.470591Z",
          "iopub.execute_input": "2022-03-15T11:08:49.471249Z",
          "iopub.status.idle": "2022-03-15T11:08:49.777640Z",
          "shell.execute_reply.started": "2022-03-15T11:08:49.471212Z",
          "shell.execute_reply": "2022-03-15T11:08:49.776925Z"
        },
        "trusted": true
      },
      "execution_count": null,
      "outputs": []
    },
    {
      "cell_type": "markdown",
      "source": [
        "**The performance scores of the algorithm are very high, with an overall accuracy of 94%.**<br>\n",
        "**In particular, the F1 scores for the more populated classes are over 95%**"
      ],
      "metadata": {
        "id": "jG9JGPla4OH7"
      }
    },
    {
      "cell_type": "markdown",
      "source": [
        "# BERT Classification"
      ],
      "metadata": {
        "id": "mLM3-5xc4OH7"
      }
    },
    {
      "cell_type": "markdown",
      "source": [
        "In this section, we will load a pre trained BERT model from the Hugging Face library and fine tune it for our classification task."
      ],
      "metadata": {
        "id": "gjBVnHdk4OH7"
      }
    },
    {
      "cell_type": "markdown",
      "source": [
        "First, we need to split the dataset into train - validation - test again since we need to tokenize the sentences differently from before (Naive Bayes and LSTM)."
      ],
      "metadata": {
        "id": "EWsonAbJ4OH7"
      }
    },
    {
      "cell_type": "markdown",
      "source": [
        "## Train - Validation - Test split"
      ],
      "metadata": {
        "id": "5KFtmJsu4OH7"
      }
    },
    {
      "cell_type": "code",
      "source": [
        "X = df['text_clean'].values\n",
        "y = df['sentiment'].values"
      ],
      "metadata": {
        "execution": {
          "iopub.status.busy": "2022-03-15T11:08:49.779036Z",
          "iopub.execute_input": "2022-03-15T11:08:49.779324Z",
          "iopub.status.idle": "2022-03-15T11:08:49.783520Z",
          "shell.execute_reply.started": "2022-03-15T11:08:49.779287Z",
          "shell.execute_reply": "2022-03-15T11:08:49.782674Z"
        },
        "trusted": true,
        "id": "LhOZDpg_4OH7"
      },
      "execution_count": null,
      "outputs": []
    },
    {
      "cell_type": "code",
      "source": [
        "X_train, X_test, y_train, y_test = train_test_split(X, y, test_size=0.2, stratify=y, random_state=seed_value)"
      ],
      "metadata": {
        "execution": {
          "iopub.status.busy": "2022-03-15T11:08:49.785022Z",
          "iopub.execute_input": "2022-03-15T11:08:49.785290Z",
          "iopub.status.idle": "2022-03-15T11:08:49.819080Z",
          "shell.execute_reply.started": "2022-03-15T11:08:49.785256Z",
          "shell.execute_reply": "2022-03-15T11:08:49.818455Z"
        },
        "trusted": true,
        "id": "R0oQ58BE4OH8"
      },
      "execution_count": null,
      "outputs": []
    },
    {
      "cell_type": "code",
      "source": [
        "X_train, X_valid, y_train, y_valid = train_test_split(X_train, y_train, test_size=0.1, stratify=y_train, random_state=seed_value)"
      ],
      "metadata": {
        "execution": {
          "iopub.status.busy": "2022-03-15T11:08:49.820217Z",
          "iopub.execute_input": "2022-03-15T11:08:49.820462Z",
          "iopub.status.idle": "2022-03-15T11:08:49.846298Z",
          "shell.execute_reply.started": "2022-03-15T11:08:49.820427Z",
          "shell.execute_reply": "2022-03-15T11:08:49.845668Z"
        },
        "trusted": true,
        "id": "NT1XZtTY4OH8"
      },
      "execution_count": null,
      "outputs": []
    },
    {
      "cell_type": "markdown",
      "source": [
        "As seen before, we oversample the text to the majority class."
      ],
      "metadata": {
        "id": "teGFoANS4OH8"
      }
    },
    {
      "cell_type": "code",
      "source": [
        "ros = RandomOverSampler()\n",
        "X_train_os, y_train_os = ros.fit_resample(np.array(X_train).reshape(-1,1),np.array(y_train).reshape(-1,1))"
      ],
      "metadata": {
        "execution": {
          "iopub.status.busy": "2022-03-15T11:08:49.847504Z",
          "iopub.execute_input": "2022-03-15T11:08:49.847775Z",
          "iopub.status.idle": "2022-03-15T11:08:49.864409Z",
          "shell.execute_reply.started": "2022-03-15T11:08:49.847739Z",
          "shell.execute_reply": "2022-03-15T11:08:49.863773Z"
        },
        "trusted": true,
        "id": "SBdA4p8B4OH8"
      },
      "execution_count": null,
      "outputs": []
    },
    {
      "cell_type": "code",
      "source": [
        "X_train_os = X_train_os.flatten()\n",
        "y_train_os = y_train_os.flatten()"
      ],
      "metadata": {
        "execution": {
          "iopub.status.busy": "2022-03-15T11:08:49.865601Z",
          "iopub.execute_input": "2022-03-15T11:08:49.865865Z",
          "iopub.status.idle": "2022-03-15T11:08:49.870838Z",
          "shell.execute_reply.started": "2022-03-15T11:08:49.865829Z",
          "shell.execute_reply": "2022-03-15T11:08:49.870171Z"
        },
        "trusted": true,
        "id": "X4E_aUAe4OH8"
      },
      "execution_count": null,
      "outputs": []
    },
    {
      "cell_type": "code",
      "source": [
        "(unique, counts) = np.unique(y_train_os, return_counts=True)\n",
        "np.asarray((unique, counts)).T"
      ],
      "metadata": {
        "execution": {
          "iopub.status.busy": "2022-03-15T11:08:49.872003Z",
          "iopub.execute_input": "2022-03-15T11:08:49.872414Z",
          "iopub.status.idle": "2022-03-15T11:08:49.882321Z",
          "shell.execute_reply.started": "2022-03-15T11:08:49.872376Z",
          "shell.execute_reply": "2022-03-15T11:08:49.881433Z"
        },
        "trusted": true,
        "id": "pU241FeU4OH8"
      },
      "execution_count": null,
      "outputs": []
    },
    {
      "cell_type": "markdown",
      "source": [
        "# BERT Tokenization"
      ],
      "metadata": {
        "id": "Z66k9C034OH8"
      }
    },
    {
      "cell_type": "markdown",
      "source": [
        "Since we need to tokenize the tweets (get \"input ids\" and \"attention masks\") for BERT, we load the specific BERT tokenizer from the Hugging Face library."
      ],
      "metadata": {
        "id": "zQoL1sZ74OH9"
      }
    },
    {
      "cell_type": "code",
      "source": [
        "tokenizer = BertTokenizer.from_pretrained('bert-base-uncased', do_lower_case=True)"
      ],
      "metadata": {
        "execution": {
          "iopub.status.busy": "2022-03-15T11:08:49.883488Z",
          "iopub.execute_input": "2022-03-15T11:08:49.883793Z",
          "iopub.status.idle": "2022-03-15T11:08:53.135288Z",
          "shell.execute_reply.started": "2022-03-15T11:08:49.883757Z",
          "shell.execute_reply": "2022-03-15T11:08:53.134544Z"
        },
        "trusted": true,
        "id": "LWabG2M94OH9"
      },
      "execution_count": null,
      "outputs": []
    },
    {
      "cell_type": "markdown",
      "source": [
        "Then we define a custom tokenizer function using the loaded tokenizer."
      ],
      "metadata": {
        "execution": {
          "iopub.status.busy": "2022-03-15T08:35:46.046010Z",
          "iopub.execute_input": "2022-03-15T08:35:46.046364Z",
          "iopub.status.idle": "2022-03-15T08:35:46.076692Z",
          "shell.execute_reply.started": "2022-03-15T08:35:46.046277Z",
          "shell.execute_reply": "2022-03-15T08:35:46.075417Z"
        },
        "id": "XcC3KeUs4OH9"
      }
    },
    {
      "cell_type": "code",
      "source": [
        "def bert_tokenizer(data):\n",
        "    input_ids = []\n",
        "    attention_masks = []\n",
        "    for sent in data:\n",
        "        encoded_sent = tokenizer.encode_plus(\n",
        "            text=sent,\n",
        "            add_special_tokens=True,        # Add `[CLS]` and `[SEP]` special tokens\n",
        "            max_length=MAX_LEN,             # Choose max length to truncate/pad\n",
        "            pad_to_max_length=True,         # Pad sentence to max length \n",
        "            return_attention_mask=True      # Return attention mask\n",
        "            )\n",
        "        input_ids.append(encoded_sent.get('input_ids'))\n",
        "        attention_masks.append(encoded_sent.get('attention_mask'))\n",
        "\n",
        "    # Convert lists to tensors\n",
        "    input_ids = torch.tensor(input_ids)\n",
        "    attention_masks = torch.tensor(attention_masks)\n",
        "\n",
        "    return input_ids, attention_masks"
      ],
      "metadata": {
        "execution": {
          "iopub.status.busy": "2022-03-15T11:08:53.136672Z",
          "iopub.execute_input": "2022-03-15T11:08:53.136923Z",
          "iopub.status.idle": "2022-03-15T11:08:53.144520Z",
          "shell.execute_reply.started": "2022-03-15T11:08:53.136889Z",
          "shell.execute_reply": "2022-03-15T11:08:53.143696Z"
        },
        "trusted": true,
        "id": "kc0XnStr4OH9"
      },
      "execution_count": null,
      "outputs": []
    },
    {
      "cell_type": "markdown",
      "source": [
        "Since we need to specify the length of the longest tokenized sentence, we tokenize the train tweets using the \"encode\" method of the original BERT tokenizer and check the longest sentence."
      ],
      "metadata": {
        "id": "Yet0mwHv4OH9"
      }
    },
    {
      "cell_type": "code",
      "source": [
        "# Tokenize train tweets\n",
        "encoded_tweets = [tokenizer.encode(sent, add_special_tokens=True) for sent in X_train]\n",
        "\n",
        "# Find the longest tokenized tweet\n",
        "max_len = max([len(sent) for sent in encoded_tweets])\n",
        "print('Max length: ', max_len)"
      ],
      "metadata": {
        "execution": {
          "iopub.status.busy": "2022-03-15T11:08:53.146211Z",
          "iopub.execute_input": "2022-03-15T11:08:53.146471Z",
          "iopub.status.idle": "2022-03-15T11:09:09.361351Z",
          "shell.execute_reply.started": "2022-03-15T11:08:53.146436Z",
          "shell.execute_reply": "2022-03-15T11:09:09.360539Z"
        },
        "trusted": true,
        "id": "9Kp5LPHP4OH9"
      },
      "execution_count": null,
      "outputs": []
    },
    {
      "cell_type": "markdown",
      "source": [
        "We can choose the max length as 128."
      ],
      "metadata": {
        "id": "Z0WPmQBu4OH9"
      }
    },
    {
      "cell_type": "code",
      "source": [
        "MAX_LEN = 128"
      ],
      "metadata": {
        "execution": {
          "iopub.status.busy": "2022-03-15T11:09:09.362699Z",
          "iopub.execute_input": "2022-03-15T11:09:09.363189Z",
          "iopub.status.idle": "2022-03-15T11:09:09.367329Z",
          "shell.execute_reply.started": "2022-03-15T11:09:09.363148Z",
          "shell.execute_reply": "2022-03-15T11:09:09.366498Z"
        },
        "trusted": true,
        "id": "OY4lS6PA4OH9"
      },
      "execution_count": null,
      "outputs": []
    },
    {
      "cell_type": "markdown",
      "source": [
        "Then we can tokenize the train, validation and test tweets using the custom define tokenizer."
      ],
      "metadata": {
        "id": "AEW-zyh54OH-"
      }
    },
    {
      "cell_type": "code",
      "source": [
        "train_inputs, train_masks = bert_tokenizer(X_train_os)\n",
        "val_inputs, val_masks = bert_tokenizer(X_valid)\n",
        "test_inputs, test_masks = bert_tokenizer(X_test)"
      ],
      "metadata": {
        "execution": {
          "iopub.status.busy": "2022-03-15T11:09:09.368784Z",
          "iopub.execute_input": "2022-03-15T11:09:09.371264Z",
          "iopub.status.idle": "2022-03-15T11:09:35.494332Z",
          "shell.execute_reply.started": "2022-03-15T11:09:09.371224Z",
          "shell.execute_reply": "2022-03-15T11:09:35.493469Z"
        },
        "_kg_hide-output": true,
        "trusted": true,
        "id": "SnkCSRVB4OH-"
      },
      "execution_count": null,
      "outputs": []
    },
    {
      "cell_type": "markdown",
      "source": [
        "## Data preprocessing for PyTorch BERT model"
      ],
      "metadata": {
        "id": "ZEFCOhDN4OH-"
      }
    },
    {
      "cell_type": "markdown",
      "source": [
        "Since we are using the BERT model built on PyTorch, we need to convert the arrays to pytorch tensors and create dataloaders for the data."
      ],
      "metadata": {
        "id": "y4_q5Lf54OH-"
      }
    },
    {
      "cell_type": "code",
      "source": [
        "# Convert target columns to pytorch tensors format\n",
        "train_labels = torch.from_numpy(y_train_os)\n",
        "val_labels = torch.from_numpy(y_valid)\n",
        "test_labels = torch.from_numpy(y_test)"
      ],
      "metadata": {
        "execution": {
          "iopub.status.busy": "2022-03-15T11:09:35.495601Z",
          "iopub.execute_input": "2022-03-15T11:09:35.495866Z",
          "iopub.status.idle": "2022-03-15T11:09:35.500660Z",
          "shell.execute_reply.started": "2022-03-15T11:09:35.495833Z",
          "shell.execute_reply": "2022-03-15T11:09:35.499956Z"
        },
        "trusted": true,
        "id": "jHfTF1PI4OH-"
      },
      "execution_count": null,
      "outputs": []
    },
    {
      "cell_type": "markdown",
      "source": [
        "## Dataloaders"
      ],
      "metadata": {
        "id": "Pvt7ohKD4OH-"
      }
    },
    {
      "cell_type": "markdown",
      "source": [
        "To fine-tune the BERT model, the original authors recommend a batch size of 16 or 32."
      ],
      "metadata": {
        "id": "TxUXZnGt4OH-"
      }
    },
    {
      "cell_type": "code",
      "source": [
        "batch_size = 32"
      ],
      "metadata": {
        "execution": {
          "iopub.status.busy": "2022-03-15T11:09:35.502071Z",
          "iopub.execute_input": "2022-03-15T11:09:35.502562Z",
          "iopub.status.idle": "2022-03-15T11:09:35.512198Z",
          "shell.execute_reply.started": "2022-03-15T11:09:35.502526Z",
          "shell.execute_reply": "2022-03-15T11:09:35.511403Z"
        },
        "trusted": true,
        "id": "9-fcXCxP4OH-"
      },
      "execution_count": null,
      "outputs": []
    },
    {
      "cell_type": "code",
      "source": [
        "# Create the DataLoader for our training set\n",
        "train_data = TensorDataset(train_inputs, train_masks, train_labels)\n",
        "train_sampler = RandomSampler(train_data)\n",
        "train_dataloader = DataLoader(train_data, sampler=train_sampler, batch_size=batch_size)\n",
        "\n",
        "# Create the DataLoader for our validation set\n",
        "val_data = TensorDataset(val_inputs, val_masks, val_labels)\n",
        "val_sampler = SequentialSampler(val_data)\n",
        "val_dataloader = DataLoader(val_data, sampler=val_sampler, batch_size=batch_size)\n",
        "\n",
        "# Create the DataLoader for our test set\n",
        "test_data = TensorDataset(test_inputs, test_masks, test_labels)\n",
        "test_sampler = SequentialSampler(test_data)\n",
        "test_dataloader = DataLoader(test_data, sampler=test_sampler, batch_size=batch_size)"
      ],
      "metadata": {
        "execution": {
          "iopub.status.busy": "2022-03-15T11:09:35.514017Z",
          "iopub.execute_input": "2022-03-15T11:09:35.514893Z",
          "iopub.status.idle": "2022-03-15T11:09:35.522870Z",
          "shell.execute_reply.started": "2022-03-15T11:09:35.514852Z",
          "shell.execute_reply": "2022-03-15T11:09:35.522183Z"
        },
        "trusted": true,
        "id": "Y7C7iMWi4OH-"
      },
      "execution_count": null,
      "outputs": []
    },
    {
      "cell_type": "markdown",
      "source": [
        "# BERT Modeling"
      ],
      "metadata": {
        "id": "LWnd8w1e4OH_"
      }
    },
    {
      "cell_type": "markdown",
      "source": [
        "Now we can create a custom BERT classifier class, including the original BERT model (made of transformer layers) and additional Dense layers to perform the desired classification task."
      ],
      "metadata": {
        "id": "FCxTA6rs4OH_"
      }
    },
    {
      "cell_type": "code",
      "source": [
        "%%time\n",
        "class Bert_Classifier(nn.Module):\n",
        "    def __init__(self, freeze_bert=False):\n",
        "        super(Bert_Classifier, self).__init__()\n",
        "        # Specify hidden size of BERT, hidden size of the classifier, and number of labels\n",
        "        n_input = 768\n",
        "        n_hidden = 50\n",
        "        n_output = 5\n",
        "        # Instantiate BERT model\n",
        "        self.bert = BertModel.from_pretrained('bert-base-uncased')\n",
        "\n",
        "        # Add dense layers to perform the classification\n",
        "        self.classifier = nn.Sequential(\n",
        "            nn.Linear(n_input,  n_hidden),\n",
        "            nn.ReLU(),\n",
        "            nn.Linear(n_hidden, n_output)\n",
        "        )\n",
        "        # Add possibility to freeze the BERT model\n",
        "        # to avoid fine tuning BERT params (usually leads to worse results)\n",
        "        if freeze_bert:\n",
        "            for param in self.bert.parameters():\n",
        "                param.requires_grad = False\n",
        "        \n",
        "    def forward(self, input_ids, attention_mask):\n",
        "        # Feed input data to BERT\n",
        "        outputs = self.bert(input_ids=input_ids,\n",
        "                            attention_mask=attention_mask)\n",
        "        \n",
        "        # Extract the last hidden state of the token `[CLS]` for classification task\n",
        "        last_hidden_state_cls = outputs[0][:, 0, :]\n",
        "\n",
        "        # Feed input to classifier to compute logits\n",
        "        logits = self.classifier(last_hidden_state_cls)\n",
        "\n",
        "        return logits"
      ],
      "metadata": {
        "execution": {
          "iopub.status.busy": "2022-03-15T11:09:35.524455Z",
          "iopub.execute_input": "2022-03-15T11:09:35.525000Z",
          "iopub.status.idle": "2022-03-15T11:09:35.539406Z",
          "shell.execute_reply.started": "2022-03-15T11:09:35.524962Z",
          "shell.execute_reply": "2022-03-15T11:09:35.538603Z"
        },
        "trusted": true,
        "id": "S9YPl4ha4OH_"
      },
      "execution_count": null,
      "outputs": []
    },
    {
      "cell_type": "markdown",
      "source": [
        "Moreover, since we want to define a learning rate scheduler, we define a custom \"initalize_model\" function as follows."
      ],
      "metadata": {
        "id": "-tDTCWi64OH_"
      }
    },
    {
      "cell_type": "code",
      "source": [
        "def initialize_model(epochs=4):\n",
        "    # Instantiate Bert Classifier\n",
        "    bert_classifier = Bert_Classifier(freeze_bert=False)\n",
        "    \n",
        "    bert_classifier.to(device)\n",
        "\n",
        "    # Set up optimizer\n",
        "    optimizer = AdamW(bert_classifier.parameters(),\n",
        "                      lr=5e-5,    # learning rate, set to default value\n",
        "                      eps=1e-8    # decay, set to default value\n",
        "                      )\n",
        "    \n",
        "    ### Set up learning rate scheduler ###\n",
        "\n",
        "    # Calculate total number of training steps\n",
        "    total_steps = len(train_dataloader) * epochs\n",
        "\n",
        "    # Defint the scheduler\n",
        "    scheduler = get_linear_schedule_with_warmup(optimizer,\n",
        "                                                num_warmup_steps=0, # Default value\n",
        "                                                num_training_steps=total_steps)\n",
        "    return bert_classifier, optimizer, scheduler"
      ],
      "metadata": {
        "execution": {
          "iopub.status.busy": "2022-03-15T11:09:35.542094Z",
          "iopub.execute_input": "2022-03-15T11:09:35.542328Z",
          "iopub.status.idle": "2022-03-15T11:09:35.552075Z",
          "shell.execute_reply.started": "2022-03-15T11:09:35.542296Z",
          "shell.execute_reply": "2022-03-15T11:09:35.551276Z"
        },
        "trusted": true,
        "id": "T-zggdxe4OH_"
      },
      "execution_count": null,
      "outputs": []
    },
    {
      "cell_type": "markdown",
      "source": [
        "We also specify the use of GPU if present (highly recommended for the fine tuning)"
      ],
      "metadata": {
        "id": "W2rE8k4C4OH_"
      }
    },
    {
      "cell_type": "code",
      "source": [
        "device = 'cuda' if torch.cuda.is_available() else 'cpu'\n",
        "EPOCHS=2"
      ],
      "metadata": {
        "execution": {
          "iopub.status.busy": "2022-03-15T11:09:35.553375Z",
          "iopub.execute_input": "2022-03-15T11:09:35.553826Z",
          "iopub.status.idle": "2022-03-15T11:09:35.563926Z",
          "shell.execute_reply.started": "2022-03-15T11:09:35.553786Z",
          "shell.execute_reply": "2022-03-15T11:09:35.563062Z"
        },
        "trusted": true,
        "id": "XsYz1mhi4OIA"
      },
      "execution_count": null,
      "outputs": []
    },
    {
      "cell_type": "markdown",
      "source": [
        "And then we intialize the BERT model calling the \"initialize_model\" function we defined."
      ],
      "metadata": {
        "id": "7_WKXsYC4OIA"
      }
    },
    {
      "cell_type": "code",
      "source": [
        "bert_classifier, optimizer, scheduler = initialize_model(epochs=EPOCHS)"
      ],
      "metadata": {
        "execution": {
          "iopub.status.busy": "2022-03-15T11:09:35.565057Z",
          "iopub.execute_input": "2022-03-15T11:09:35.565878Z",
          "iopub.status.idle": "2022-03-15T11:09:38.401591Z",
          "shell.execute_reply.started": "2022-03-15T11:09:35.565838Z",
          "shell.execute_reply": "2022-03-15T11:09:38.400718Z"
        },
        "_kg_hide-output": true,
        "trusted": true,
        "id": "nQZVZvs74OIA"
      },
      "execution_count": null,
      "outputs": []
    },
    {
      "cell_type": "markdown",
      "source": [
        "# BERT Training"
      ],
      "metadata": {
        "id": "Lr21JZWi4OIA"
      }
    },
    {
      "cell_type": "markdown",
      "source": [
        "After defining the custom BERT classifier model, we are ready to start the training."
      ],
      "metadata": {
        "id": "VqwQqKEg4OIA"
      }
    },
    {
      "cell_type": "code",
      "source": [
        "# Define Cross entropy Loss function for the multiclass classification task\n",
        "loss_fn = nn.CrossEntropyLoss()\n",
        "\n",
        "def bert_train(model, train_dataloader, val_dataloader=None, epochs=4, evaluation=False):\n",
        "\n",
        "    print(\"Start training...\\n\")\n",
        "    for epoch_i in range(epochs):\n",
        "        print(\"-\"*10)\n",
        "        print(\"Epoch : {}\".format(epoch_i+1))\n",
        "        print(\"-\"*10)\n",
        "        print(\"-\"*38)\n",
        "        print(f\"{'BATCH NO.':^7} | {'TRAIN LOSS':^12} | {'ELAPSED (s)':^9}\")\n",
        "        print(\"-\"*38)\n",
        "\n",
        "        # Measure the elapsed time of each epoch\n",
        "        t0_epoch, t0_batch = time.time(), time.time()\n",
        "\n",
        "        # Reset tracking variables at the beginning of each epoch\n",
        "        total_loss, batch_loss, batch_counts = 0, 0, 0\n",
        "        \n",
        "        ###TRAINING###\n",
        "\n",
        "        # Put the model into the training mode\n",
        "        model.train()\n",
        "\n",
        "        for step, batch in enumerate(train_dataloader):\n",
        "            batch_counts +=1\n",
        "            \n",
        "            b_input_ids, b_attn_mask, b_labels = tuple(t.to(device) for t in batch)\n",
        "\n",
        "            # Zero out any previously calculated gradients\n",
        "            model.zero_grad()\n",
        "\n",
        "            # Perform a forward pass and get logits.\n",
        "            logits = model(b_input_ids, b_attn_mask)\n",
        "\n",
        "            # Compute loss and accumulate the loss values\n",
        "            loss = loss_fn(logits, b_labels)\n",
        "            batch_loss += loss.item()\n",
        "            total_loss += loss.item()\n",
        "\n",
        "            # Perform a backward pass to calculate gradients\n",
        "            loss.backward()\n",
        "\n",
        "            # Clip the norm of the gradients to 1.0 to prevent \"exploding gradients\"\n",
        "            torch.nn.utils.clip_grad_norm_(model.parameters(), 1.0)\n",
        "\n",
        "            # Update model parameters:\n",
        "            # fine tune BERT params and train additional dense layers\n",
        "            optimizer.step()\n",
        "            # update learning rate\n",
        "            scheduler.step()\n",
        "\n",
        "            # Print the loss values and time elapsed for every 100 batches\n",
        "            if (step % 100 == 0 and step != 0) or (step == len(train_dataloader) - 1):\n",
        "                # Calculate time elapsed for 20 batches\n",
        "                time_elapsed = time.time() - t0_batch\n",
        "                \n",
        "                print(f\"{step:^9} | {batch_loss / batch_counts:^12.6f} | {time_elapsed:^9.2f}\")\n",
        "\n",
        "                # Reset batch tracking variables\n",
        "                batch_loss, batch_counts = 0, 0\n",
        "                t0_batch = time.time()\n",
        "\n",
        "        # Calculate the average loss over the entire training data\n",
        "        avg_train_loss = total_loss / len(train_dataloader)\n",
        "\n",
        "        ###EVALUATION###\n",
        "        \n",
        "        # Put the model into the evaluation mode\n",
        "        model.eval()\n",
        "        \n",
        "        # Define empty lists to host accuracy and validation for each batch\n",
        "        val_accuracy = []\n",
        "        val_loss = []\n",
        "\n",
        "        for batch in val_dataloader:\n",
        "            batch_input_ids, batch_attention_mask, batch_labels = tuple(t.to(device) for t in batch)\n",
        "            \n",
        "            # We do not want to update the params during the evaluation,\n",
        "            # So we specify that we dont want to compute the gradients of the tensors\n",
        "            # by calling the torch.no_grad() method\n",
        "            with torch.no_grad():\n",
        "                logits = model(batch_input_ids, batch_attention_mask)\n",
        "\n",
        "            loss = loss_fn(logits, batch_labels)\n",
        "\n",
        "            val_loss.append(loss.item())\n",
        "\n",
        "            # Get the predictions starting from the logits (get index of highest logit)\n",
        "            preds = torch.argmax(logits, dim=1).flatten()\n",
        "\n",
        "            # Calculate the validation accuracy \n",
        "            accuracy = (preds == batch_labels).cpu().numpy().mean() * 100\n",
        "            val_accuracy.append(accuracy)\n",
        "\n",
        "        # Compute the average accuracy and loss over the validation set\n",
        "        val_loss = np.mean(val_loss)\n",
        "        val_accuracy = np.mean(val_accuracy)\n",
        "        \n",
        "        # Print performance over the entire training data\n",
        "        time_elapsed = time.time() - t0_epoch\n",
        "        print(\"-\"*61)\n",
        "        print(f\"{'AVG TRAIN LOSS':^12} | {'VAL LOSS':^10} | {'VAL ACCURACY (%)':^9} | {'ELAPSED (s)':^9}\")\n",
        "        print(\"-\"*61)\n",
        "        print(f\"{avg_train_loss:^14.6f} | {val_loss:^10.6f} | {val_accuracy:^17.2f} | {time_elapsed:^9.2f}\")\n",
        "        print(\"-\"*61)\n",
        "        print(\"\\n\")\n",
        "    \n",
        "    print(\"Training complete!\")"
      ],
      "metadata": {
        "execution": {
          "iopub.status.busy": "2022-03-15T11:09:38.403435Z",
          "iopub.execute_input": "2022-03-15T11:09:38.404266Z",
          "iopub.status.idle": "2022-03-15T11:09:38.423282Z",
          "shell.execute_reply.started": "2022-03-15T11:09:38.404220Z",
          "shell.execute_reply": "2022-03-15T11:09:38.422460Z"
        },
        "trusted": true,
        "id": "id77eMyQ4OIA"
      },
      "execution_count": null,
      "outputs": []
    },
    {
      "cell_type": "code",
      "source": [
        "bert_train(bert_classifier, train_dataloader, val_dataloader, epochs=EPOCHS)"
      ],
      "metadata": {
        "execution": {
          "iopub.status.busy": "2022-03-15T11:09:38.424368Z",
          "iopub.execute_input": "2022-03-15T11:09:38.425092Z",
          "iopub.status.idle": "2022-03-15T11:21:27.729518Z",
          "shell.execute_reply.started": "2022-03-15T11:09:38.425040Z",
          "shell.execute_reply": "2022-03-15T11:21:27.727972Z"
        },
        "trusted": true,
        "id": "nduKx7Tz4OIA"
      },
      "execution_count": null,
      "outputs": []
    },
    {
      "cell_type": "markdown",
      "source": [
        "# BERT Prediction"
      ],
      "metadata": {
        "id": "Rt4OEfQl4OIB"
      }
    },
    {
      "cell_type": "markdown",
      "source": [
        "Now we define a function similar to the model \"evaluation\", where we feed to the model the test data instead of the validation data."
      ],
      "metadata": {
        "id": "lKUcrk4z4OIB"
      }
    },
    {
      "cell_type": "code",
      "source": [
        "def bert_predict(model, test_dataloader):\n",
        "    \n",
        "    # Define empty list to host the predictions\n",
        "    preds_list = []\n",
        "    \n",
        "    # Put the model into evaluation mode\n",
        "    model.eval()\n",
        "    \n",
        "    for batch in test_dataloader:\n",
        "        batch_input_ids, batch_attention_mask = tuple(t.to(device) for t in batch)[:2]\n",
        "        \n",
        "        # Avoid gradient calculation of tensors by using \"no_grad()\" method\n",
        "        with torch.no_grad():\n",
        "            logit = model(batch_input_ids, batch_attention_mask)\n",
        "        \n",
        "        # Get index of highest logit\n",
        "        pred = torch.argmax(logit,dim=1).cpu().numpy()\n",
        "        # Append predicted class to list\n",
        "        preds_list.extend(pred)\n",
        "\n",
        "    return preds_list"
      ],
      "metadata": {
        "execution": {
          "iopub.status.busy": "2022-03-15T11:21:27.730730Z",
          "iopub.execute_input": "2022-03-15T11:21:27.730974Z",
          "iopub.status.idle": "2022-03-15T11:21:27.738662Z",
          "shell.execute_reply.started": "2022-03-15T11:21:27.730937Z",
          "shell.execute_reply": "2022-03-15T11:21:27.737958Z"
        },
        "trusted": true,
        "id": "LBQ3d04g4OIB"
      },
      "execution_count": null,
      "outputs": []
    },
    {
      "cell_type": "markdown",
      "source": [
        "Then we can call the defined function and get the class predictions of the test data."
      ],
      "metadata": {
        "id": "GBxu7O2t4OIB"
      }
    },
    {
      "cell_type": "code",
      "source": [
        "bert_preds = bert_predict(bert_classifier, test_dataloader)"
      ],
      "metadata": {
        "execution": {
          "iopub.status.busy": "2022-03-15T11:21:27.739740Z",
          "iopub.execute_input": "2022-03-15T11:21:27.740398Z",
          "iopub.status.idle": "2022-03-15T11:21:56.133808Z",
          "shell.execute_reply.started": "2022-03-15T11:21:27.740360Z",
          "shell.execute_reply": "2022-03-15T11:21:56.133096Z"
        },
        "trusted": true,
        "id": "lWD40mdz4OIB"
      },
      "execution_count": null,
      "outputs": []
    },
    {
      "cell_type": "code",
      "source": [
        "print('Classification Report for BERT :\\n', classification_report(y_test, bert_preds, target_names=sentiments))"
      ],
      "metadata": {
        "execution": {
          "iopub.status.busy": "2022-03-15T11:21:56.135225Z",
          "iopub.execute_input": "2022-03-15T11:21:56.135470Z",
          "iopub.status.idle": "2022-03-15T11:21:56.159488Z",
          "shell.execute_reply.started": "2022-03-15T11:21:56.135436Z",
          "shell.execute_reply": "2022-03-15T11:21:56.158680Z"
        },
        "trusted": true,
        "id": "VNegr4fU4OIB"
      },
      "execution_count": null,
      "outputs": []
    },
    {
      "cell_type": "code",
      "source": [
        "conf_matrix(y_test, bert_preds,' BERT Sentiment Analysis\\nConfusion Matrix', sentiments)"
      ],
      "metadata": {
        "execution": {
          "iopub.status.busy": "2022-03-15T11:21:56.160856Z",
          "iopub.execute_input": "2022-03-15T11:21:56.161117Z",
          "iopub.status.idle": "2022-03-15T11:21:56.700519Z",
          "shell.execute_reply.started": "2022-03-15T11:21:56.161083Z",
          "shell.execute_reply": "2022-03-15T11:21:56.699884Z"
        },
        "trusted": true,
        "id": "pddq1No84OIB"
      },
      "execution_count": null,
      "outputs": []
    },
    {
      "cell_type": "markdown",
      "source": [
        "**The performance scores of BERT Classifier are quite high and higher than those achieved using the LSTM model, with an overall accuracy around 95% and F1 scores well over 95%.**<br>"
      ],
      "metadata": {
        "id": "jg5-83x84OIC"
      }
    },
    {
      "cell_type": "markdown",
      "source": [
        "Thank your for checking out my notebook! Let me know if you have comments or if you want me to check out your work! :)"
      ],
      "metadata": {
        "id": "g4CizAm24OIC"
      }
    }
  ]
}