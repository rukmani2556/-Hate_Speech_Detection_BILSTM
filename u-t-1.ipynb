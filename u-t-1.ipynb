{
 "cells": [
  {
   "cell_type": "markdown",
   "metadata": {
    "papermill": {
     "duration": 0.028529,
     "end_time": "2022-03-23T13:18:30.431465",
     "exception": false,
     "start_time": "2022-03-23T13:18:30.402936",
     "status": "completed"
    },
    "tags": []
   },
   "source": [
    "##  Importing Dependencies"
   ]
  },
  {
   "cell_type": "code",
   "execution_count": 1,
   "metadata": {
    "_cell_guid": "79c7e3d0-c299-4dcb-8224-4455121ee9b0",
    "_uuid": "d629ff2d2480ee46fbb7e2d37f6b5fab8052498a",
    "execution": {
     "iopub.execute_input": "2022-03-23T10:36:47.942694Z",
     "iopub.status.busy": "2022-03-23T10:36:47.942333Z",
     "iopub.status.idle": "2022-03-23T10:36:54.852205Z",
     "shell.execute_reply": "2022-03-23T10:36:54.850912Z",
     "shell.execute_reply.started": "2022-03-23T10:36:47.942636Z"
    },
    "papermill": {
     "duration": 5.394161,
     "end_time": "2022-03-23T13:18:35.854279",
     "exception": false,
     "start_time": "2022-03-23T13:18:30.460118",
     "status": "completed"
    },
    "tags": []
   },
   "outputs": [
    {
     "name": "stdout",
     "output_type": "stream",
     "text": [
      "[nltk_data] Downloading package stopwords to /usr/share/nltk_data...\n",
      "[nltk_data]   Unzipping corpora/stopwords.zip.\n"
     ]
    }
   ],
   "source": [
    "import tensorflow as tf\n",
    "import matplotlib.pyplot as plt\n",
    "import pandas as pd\n",
    "import numpy as np\n",
    "\n",
    "import nltk \n",
    "nltk.download('stopwords')\n",
    "from nltk.corpus import stopwords\n",
    "from nltk.stem import SnowballStemmer\n",
    "\n",
    "from sklearn.model_selection import train_test_split\n",
    "from sklearn.preprocessing import LabelEncoder\n",
    "\n",
    "import re"
   ]
  },
  {
   "cell_type": "markdown",
   "metadata": {
    "papermill": {
     "duration": 0.030642,
     "end_time": "2022-03-23T13:18:35.931011",
     "exception": false,
     "start_time": "2022-03-23T13:18:35.900369",
     "status": "completed"
    },
    "tags": []
   },
   "source": [
    "#  Dataset Preprocessing"
   ]
  },
  {
   "cell_type": "code",
   "execution_count": 2,
   "metadata": {
    "execution": {
     "iopub.execute_input": "2022-03-23T10:36:54.85548Z",
     "iopub.status.busy": "2022-03-23T10:36:54.854726Z",
     "iopub.status.idle": "2022-03-23T10:37:01.155358Z",
     "shell.execute_reply": "2022-03-23T10:37:01.153924Z",
     "shell.execute_reply.started": "2022-03-23T10:36:54.855424Z"
    },
    "papermill": {
     "duration": 5.950176,
     "end_time": "2022-03-23T13:18:41.910724",
     "exception": false,
     "start_time": "2022-03-23T13:18:35.960548",
     "status": "completed"
    },
    "tags": []
   },
   "outputs": [
    {
     "data": {
      "text/html": [
       "<div>\n",
       "<style scoped>\n",
       "    .dataframe tbody tr th:only-of-type {\n",
       "        vertical-align: middle;\n",
       "    }\n",
       "\n",
       "    .dataframe tbody tr th {\n",
       "        vertical-align: top;\n",
       "    }\n",
       "\n",
       "    .dataframe thead th {\n",
       "        text-align: right;\n",
       "    }\n",
       "</style>\n",
       "<table border=\"1\" class=\"dataframe\">\n",
       "  <thead>\n",
       "    <tr style=\"text-align: right;\">\n",
       "      <th></th>\n",
       "      <th>0</th>\n",
       "      <th>1</th>\n",
       "      <th>2</th>\n",
       "      <th>3</th>\n",
       "      <th>4</th>\n",
       "      <th>5</th>\n",
       "    </tr>\n",
       "  </thead>\n",
       "  <tbody>\n",
       "    <tr>\n",
       "      <th>0</th>\n",
       "      <td>0</td>\n",
       "      <td>1467810369</td>\n",
       "      <td>Mon Apr 06 22:19:45 PDT 2009</td>\n",
       "      <td>NO_QUERY</td>\n",
       "      <td>_TheSpecialOne_</td>\n",
       "      <td>@switchfoot http://twitpic.com/2y1zl - Awww, t...</td>\n",
       "    </tr>\n",
       "    <tr>\n",
       "      <th>1</th>\n",
       "      <td>0</td>\n",
       "      <td>1467810672</td>\n",
       "      <td>Mon Apr 06 22:19:49 PDT 2009</td>\n",
       "      <td>NO_QUERY</td>\n",
       "      <td>scotthamilton</td>\n",
       "      <td>is upset that he can't update his Facebook by ...</td>\n",
       "    </tr>\n",
       "    <tr>\n",
       "      <th>2</th>\n",
       "      <td>0</td>\n",
       "      <td>1467810917</td>\n",
       "      <td>Mon Apr 06 22:19:53 PDT 2009</td>\n",
       "      <td>NO_QUERY</td>\n",
       "      <td>mattycus</td>\n",
       "      <td>@Kenichan I dived many times for the ball. Man...</td>\n",
       "    </tr>\n",
       "    <tr>\n",
       "      <th>3</th>\n",
       "      <td>0</td>\n",
       "      <td>1467811184</td>\n",
       "      <td>Mon Apr 06 22:19:57 PDT 2009</td>\n",
       "      <td>NO_QUERY</td>\n",
       "      <td>ElleCTF</td>\n",
       "      <td>my whole body feels itchy and like its on fire</td>\n",
       "    </tr>\n",
       "    <tr>\n",
       "      <th>4</th>\n",
       "      <td>0</td>\n",
       "      <td>1467811193</td>\n",
       "      <td>Mon Apr 06 22:19:57 PDT 2009</td>\n",
       "      <td>NO_QUERY</td>\n",
       "      <td>Karoli</td>\n",
       "      <td>@nationwideclass no, it's not behaving at all....</td>\n",
       "    </tr>\n",
       "  </tbody>\n",
       "</table>\n",
       "</div>"
      ],
      "text/plain": [
       "   0           1                             2         3                4  \\\n",
       "0  0  1467810369  Mon Apr 06 22:19:45 PDT 2009  NO_QUERY  _TheSpecialOne_   \n",
       "1  0  1467810672  Mon Apr 06 22:19:49 PDT 2009  NO_QUERY    scotthamilton   \n",
       "2  0  1467810917  Mon Apr 06 22:19:53 PDT 2009  NO_QUERY         mattycus   \n",
       "3  0  1467811184  Mon Apr 06 22:19:57 PDT 2009  NO_QUERY          ElleCTF   \n",
       "4  0  1467811193  Mon Apr 06 22:19:57 PDT 2009  NO_QUERY           Karoli   \n",
       "\n",
       "                                                   5  \n",
       "0  @switchfoot http://twitpic.com/2y1zl - Awww, t...  \n",
       "1  is upset that he can't update his Facebook by ...  \n",
       "2  @Kenichan I dived many times for the ball. Man...  \n",
       "3    my whole body feels itchy and like its on fire   \n",
       "4  @nationwideclass no, it's not behaving at all....  "
      ]
     },
     "execution_count": 2,
     "metadata": {},
     "output_type": "execute_result"
    }
   ],
   "source": [
    "df = pd.read_csv('../input/sentiment140/training.1600000.processed.noemoticon.csv',\n",
    "                 encoding = 'latin',header=None)\n",
    "df.head()"
   ]
  },
  {
   "cell_type": "code",
   "execution_count": 3,
   "metadata": {
    "execution": {
     "iopub.execute_input": "2022-03-23T10:37:01.157427Z",
     "iopub.status.busy": "2022-03-23T10:37:01.156918Z",
     "iopub.status.idle": "2022-03-23T10:37:01.166283Z",
     "shell.execute_reply": "2022-03-23T10:37:01.164582Z",
     "shell.execute_reply.started": "2022-03-23T10:37:01.157313Z"
    },
    "papermill": {
     "duration": 0.036216,
     "end_time": "2022-03-23T13:18:41.975415",
     "exception": false,
     "start_time": "2022-03-23T13:18:41.939199",
     "status": "completed"
    },
    "tags": []
   },
   "outputs": [
    {
     "data": {
      "text/plain": [
       "(1600000, 6)"
      ]
     },
     "execution_count": 3,
     "metadata": {},
     "output_type": "execute_result"
    }
   ],
   "source": [
    "df.shape"
   ]
  },
  {
   "cell_type": "code",
   "execution_count": 4,
   "metadata": {
    "execution": {
     "iopub.execute_input": "2022-03-23T10:37:01.169443Z",
     "iopub.status.busy": "2022-03-23T10:37:01.168594Z",
     "iopub.status.idle": "2022-03-23T10:37:01.190133Z",
     "shell.execute_reply": "2022-03-23T10:37:01.188864Z",
     "shell.execute_reply.started": "2022-03-23T10:37:01.169165Z"
    },
    "papermill": {
     "duration": 0.04418,
     "end_time": "2022-03-23T13:18:42.048354",
     "exception": false,
     "start_time": "2022-03-23T13:18:42.004174",
     "status": "completed"
    },
    "tags": []
   },
   "outputs": [
    {
     "data": {
      "text/html": [
       "<div>\n",
       "<style scoped>\n",
       "    .dataframe tbody tr th:only-of-type {\n",
       "        vertical-align: middle;\n",
       "    }\n",
       "\n",
       "    .dataframe tbody tr th {\n",
       "        vertical-align: top;\n",
       "    }\n",
       "\n",
       "    .dataframe thead th {\n",
       "        text-align: right;\n",
       "    }\n",
       "</style>\n",
       "<table border=\"1\" class=\"dataframe\">\n",
       "  <thead>\n",
       "    <tr style=\"text-align: right;\">\n",
       "      <th></th>\n",
       "      <th>sentiment</th>\n",
       "      <th>id</th>\n",
       "      <th>date</th>\n",
       "      <th>query</th>\n",
       "      <th>user_id</th>\n",
       "      <th>text</th>\n",
       "    </tr>\n",
       "  </thead>\n",
       "  <tbody>\n",
       "    <tr>\n",
       "      <th>0</th>\n",
       "      <td>0</td>\n",
       "      <td>1467810369</td>\n",
       "      <td>Mon Apr 06 22:19:45 PDT 2009</td>\n",
       "      <td>NO_QUERY</td>\n",
       "      <td>_TheSpecialOne_</td>\n",
       "      <td>@switchfoot http://twitpic.com/2y1zl - Awww, t...</td>\n",
       "    </tr>\n",
       "    <tr>\n",
       "      <th>1</th>\n",
       "      <td>0</td>\n",
       "      <td>1467810672</td>\n",
       "      <td>Mon Apr 06 22:19:49 PDT 2009</td>\n",
       "      <td>NO_QUERY</td>\n",
       "      <td>scotthamilton</td>\n",
       "      <td>is upset that he can't update his Facebook by ...</td>\n",
       "    </tr>\n",
       "    <tr>\n",
       "      <th>2</th>\n",
       "      <td>0</td>\n",
       "      <td>1467810917</td>\n",
       "      <td>Mon Apr 06 22:19:53 PDT 2009</td>\n",
       "      <td>NO_QUERY</td>\n",
       "      <td>mattycus</td>\n",
       "      <td>@Kenichan I dived many times for the ball. Man...</td>\n",
       "    </tr>\n",
       "    <tr>\n",
       "      <th>3</th>\n",
       "      <td>0</td>\n",
       "      <td>1467811184</td>\n",
       "      <td>Mon Apr 06 22:19:57 PDT 2009</td>\n",
       "      <td>NO_QUERY</td>\n",
       "      <td>ElleCTF</td>\n",
       "      <td>my whole body feels itchy and like its on fire</td>\n",
       "    </tr>\n",
       "    <tr>\n",
       "      <th>4</th>\n",
       "      <td>0</td>\n",
       "      <td>1467811193</td>\n",
       "      <td>Mon Apr 06 22:19:57 PDT 2009</td>\n",
       "      <td>NO_QUERY</td>\n",
       "      <td>Karoli</td>\n",
       "      <td>@nationwideclass no, it's not behaving at all....</td>\n",
       "    </tr>\n",
       "  </tbody>\n",
       "</table>\n",
       "</div>"
      ],
      "text/plain": [
       "   sentiment          id                          date     query  \\\n",
       "0          0  1467810369  Mon Apr 06 22:19:45 PDT 2009  NO_QUERY   \n",
       "1          0  1467810672  Mon Apr 06 22:19:49 PDT 2009  NO_QUERY   \n",
       "2          0  1467810917  Mon Apr 06 22:19:53 PDT 2009  NO_QUERY   \n",
       "3          0  1467811184  Mon Apr 06 22:19:57 PDT 2009  NO_QUERY   \n",
       "4          0  1467811193  Mon Apr 06 22:19:57 PDT 2009  NO_QUERY   \n",
       "\n",
       "           user_id                                               text  \n",
       "0  _TheSpecialOne_  @switchfoot http://twitpic.com/2y1zl - Awww, t...  \n",
       "1    scotthamilton  is upset that he can't update his Facebook by ...  \n",
       "2         mattycus  @Kenichan I dived many times for the ball. Man...  \n",
       "3          ElleCTF    my whole body feels itchy and like its on fire   \n",
       "4           Karoli  @nationwideclass no, it's not behaving at all....  "
      ]
     },
     "execution_count": 4,
     "metadata": {},
     "output_type": "execute_result"
    }
   ],
   "source": [
    "df.columns = ['sentiment', 'id', 'date', 'query', 'user_id', 'text']\n",
    "df.head()"
   ]
  },
  {
   "cell_type": "code",
   "execution_count": 5,
   "metadata": {
    "execution": {
     "iopub.execute_input": "2022-03-23T10:37:01.194916Z",
     "iopub.status.busy": "2022-03-23T10:37:01.19457Z",
     "iopub.status.idle": "2022-03-23T10:37:01.250133Z",
     "shell.execute_reply": "2022-03-23T10:37:01.248994Z",
     "shell.execute_reply.started": "2022-03-23T10:37:01.194851Z"
    },
    "papermill": {
     "duration": 0.076277,
     "end_time": "2022-03-23T13:18:42.153690",
     "exception": false,
     "start_time": "2022-03-23T13:18:42.077413",
     "status": "completed"
    },
    "tags": []
   },
   "outputs": [
    {
     "data": {
      "text/html": [
       "<div>\n",
       "<style scoped>\n",
       "    .dataframe tbody tr th:only-of-type {\n",
       "        vertical-align: middle;\n",
       "    }\n",
       "\n",
       "    .dataframe tbody tr th {\n",
       "        vertical-align: top;\n",
       "    }\n",
       "\n",
       "    .dataframe thead th {\n",
       "        text-align: right;\n",
       "    }\n",
       "</style>\n",
       "<table border=\"1\" class=\"dataframe\">\n",
       "  <thead>\n",
       "    <tr style=\"text-align: right;\">\n",
       "      <th></th>\n",
       "      <th>sentiment</th>\n",
       "      <th>text</th>\n",
       "    </tr>\n",
       "  </thead>\n",
       "  <tbody>\n",
       "    <tr>\n",
       "      <th>0</th>\n",
       "      <td>0</td>\n",
       "      <td>@switchfoot http://twitpic.com/2y1zl - Awww, t...</td>\n",
       "    </tr>\n",
       "    <tr>\n",
       "      <th>1</th>\n",
       "      <td>0</td>\n",
       "      <td>is upset that he can't update his Facebook by ...</td>\n",
       "    </tr>\n",
       "    <tr>\n",
       "      <th>2</th>\n",
       "      <td>0</td>\n",
       "      <td>@Kenichan I dived many times for the ball. Man...</td>\n",
       "    </tr>\n",
       "    <tr>\n",
       "      <th>3</th>\n",
       "      <td>0</td>\n",
       "      <td>my whole body feels itchy and like its on fire</td>\n",
       "    </tr>\n",
       "    <tr>\n",
       "      <th>4</th>\n",
       "      <td>0</td>\n",
       "      <td>@nationwideclass no, it's not behaving at all....</td>\n",
       "    </tr>\n",
       "  </tbody>\n",
       "</table>\n",
       "</div>"
      ],
      "text/plain": [
       "   sentiment                                               text\n",
       "0          0  @switchfoot http://twitpic.com/2y1zl - Awww, t...\n",
       "1          0  is upset that he can't update his Facebook by ...\n",
       "2          0  @Kenichan I dived many times for the ball. Man...\n",
       "3          0    my whole body feels itchy and like its on fire \n",
       "4          0  @nationwideclass no, it's not behaving at all...."
      ]
     },
     "execution_count": 5,
     "metadata": {},
     "output_type": "execute_result"
    }
   ],
   "source": [
    "df = df.drop(['id', 'date', 'query', 'user_id'], axis=1)\n",
    "df.head()"
   ]
  },
  {
   "cell_type": "code",
   "execution_count": 6,
   "metadata": {
    "execution": {
     "iopub.execute_input": "2022-03-23T10:37:01.254605Z",
     "iopub.status.busy": "2022-03-23T10:37:01.254245Z",
     "iopub.status.idle": "2022-03-23T10:37:01.815877Z",
     "shell.execute_reply": "2022-03-23T10:37:01.813862Z",
     "shell.execute_reply.started": "2022-03-23T10:37:01.254552Z"
    },
    "papermill": {
     "duration": 0.527114,
     "end_time": "2022-03-23T13:18:42.710312",
     "exception": false,
     "start_time": "2022-03-23T13:18:42.183198",
     "status": "completed"
    },
    "tags": []
   },
   "outputs": [
    {
     "data": {
      "text/html": [
       "<div>\n",
       "<style scoped>\n",
       "    .dataframe tbody tr th:only-of-type {\n",
       "        vertical-align: middle;\n",
       "    }\n",
       "\n",
       "    .dataframe tbody tr th {\n",
       "        vertical-align: top;\n",
       "    }\n",
       "\n",
       "    .dataframe thead th {\n",
       "        text-align: right;\n",
       "    }\n",
       "</style>\n",
       "<table border=\"1\" class=\"dataframe\">\n",
       "  <thead>\n",
       "    <tr style=\"text-align: right;\">\n",
       "      <th></th>\n",
       "      <th>sentiment</th>\n",
       "      <th>text</th>\n",
       "    </tr>\n",
       "  </thead>\n",
       "  <tbody>\n",
       "    <tr>\n",
       "      <th>0</th>\n",
       "      <td>Negative</td>\n",
       "      <td>@switchfoot http://twitpic.com/2y1zl - Awww, t...</td>\n",
       "    </tr>\n",
       "    <tr>\n",
       "      <th>1</th>\n",
       "      <td>Negative</td>\n",
       "      <td>is upset that he can't update his Facebook by ...</td>\n",
       "    </tr>\n",
       "    <tr>\n",
       "      <th>2</th>\n",
       "      <td>Negative</td>\n",
       "      <td>@Kenichan I dived many times for the ball. Man...</td>\n",
       "    </tr>\n",
       "    <tr>\n",
       "      <th>3</th>\n",
       "      <td>Negative</td>\n",
       "      <td>my whole body feels itchy and like its on fire</td>\n",
       "    </tr>\n",
       "    <tr>\n",
       "      <th>4</th>\n",
       "      <td>Negative</td>\n",
       "      <td>@nationwideclass no, it's not behaving at all....</td>\n",
       "    </tr>\n",
       "  </tbody>\n",
       "</table>\n",
       "</div>"
      ],
      "text/plain": [
       "  sentiment                                               text\n",
       "0  Negative  @switchfoot http://twitpic.com/2y1zl - Awww, t...\n",
       "1  Negative  is upset that he can't update his Facebook by ...\n",
       "2  Negative  @Kenichan I dived many times for the ball. Man...\n",
       "3  Negative    my whole body feels itchy and like its on fire \n",
       "4  Negative  @nationwideclass no, it's not behaving at all...."
      ]
     },
     "execution_count": 6,
     "metadata": {},
     "output_type": "execute_result"
    }
   ],
   "source": [
    "lab_to_sentiment = {0:\"Negative\", 4:\"Positive\"}\n",
    "def label_decoder(label):\n",
    "  return lab_to_sentiment[label]\n",
    "df.sentiment = df.sentiment.apply(lambda x: label_decoder(x))\n",
    "df.head()"
   ]
  },
  {
   "cell_type": "code",
   "execution_count": 7,
   "metadata": {
    "execution": {
     "iopub.execute_input": "2022-03-23T10:37:01.819052Z",
     "iopub.status.busy": "2022-03-23T10:37:01.818114Z",
     "iopub.status.idle": "2022-03-23T10:37:02.250014Z",
     "shell.execute_reply": "2022-03-23T10:37:02.249042Z",
     "shell.execute_reply.started": "2022-03-23T10:37:01.818992Z"
    },
    "papermill": {
     "duration": 0.456856,
     "end_time": "2022-03-23T13:18:43.196964",
     "exception": false,
     "start_time": "2022-03-23T13:18:42.740108",
     "status": "completed"
    },
    "tags": []
   },
   "outputs": [
    {
     "data": {
      "text/plain": [
       "Text(0.5, 1.0, 'Sentiment Data Distribution')"
      ]
     },
     "execution_count": 7,
     "metadata": {},
     "output_type": "execute_result"
    },
    {
     "data": {
      "image/png": "[encoded data removed]",
      "text/plain": [
       "<Figure size 576x288 with 1 Axes>"
      ]
     },
     "metadata": {
      "needs_background": "light"
     },
     "output_type": "display_data"
    }
   ],
   "source": [
    "val_count = df.sentiment.value_counts()\n",
    "\n",
    "plt.figure(figsize=(8,4))\n",
    "plt.bar(val_count.index, val_count.values)\n",
    "plt.title(\"Sentiment Data Distribution\")"
   ]
  },
  {
   "cell_type": "code",
   "execution_count": 8,
   "metadata": {
    "execution": {
     "iopub.execute_input": "2022-03-23T10:37:02.252894Z",
     "iopub.status.busy": "2022-03-23T10:37:02.252124Z",
     "iopub.status.idle": "2022-03-23T10:37:02.654872Z",
     "shell.execute_reply": "2022-03-23T10:37:02.653788Z",
     "shell.execute_reply.started": "2022-03-23T10:37:02.252832Z"
    },
    "papermill": {
     "duration": 0.434542,
     "end_time": "2022-03-23T13:18:43.665018",
     "exception": false,
     "start_time": "2022-03-23T13:18:43.230476",
     "status": "completed"
    },
    "tags": []
   },
   "outputs": [
    {
     "name": "stdout",
     "output_type": "stream",
     "text": [
      "<class 'pandas.core.frame.DataFrame'>\n",
      "RangeIndex: 1600000 entries, 0 to 1599999\n",
      "Data columns (total 2 columns):\n",
      " #   Column     Non-Null Count    Dtype \n",
      "---  ------     --------------    ----- \n",
      " 0   sentiment  1600000 non-null  object\n",
      " 1   text       1600000 non-null  object\n",
      "dtypes: object(2)\n",
      "memory usage: 24.4+ MB\n"
     ]
    }
   ],
   "source": [
    "df.info()"
   ]
  },
  {
   "cell_type": "code",
   "execution_count": 9,
   "metadata": {
    "execution": {
     "iopub.execute_input": "2022-03-23T10:37:02.65715Z",
     "iopub.status.busy": "2022-03-23T10:37:02.656446Z",
     "iopub.status.idle": "2022-03-23T10:37:02.942752Z",
     "shell.execute_reply": "2022-03-23T10:37:02.94157Z",
     "shell.execute_reply.started": "2022-03-23T10:37:02.657092Z"
    },
    "papermill": {
     "duration": 0.33041,
     "end_time": "2022-03-23T13:18:44.026507",
     "exception": false,
     "start_time": "2022-03-23T13:18:43.696097",
     "status": "completed"
    },
    "tags": []
   },
   "outputs": [
    {
     "data": {
      "text/plain": [
       "Positive    800000\n",
       "Negative    800000\n",
       "Name: sentiment, dtype: int64"
      ]
     },
     "execution_count": 9,
     "metadata": {},
     "output_type": "execute_result"
    }
   ],
   "source": [
    "df.sentiment.value_counts()"
   ]
  },
  {
   "cell_type": "code",
   "execution_count": 10,
   "metadata": {
    "execution": {
     "iopub.execute_input": "2022-03-23T10:37:02.947134Z",
     "iopub.status.busy": "2022-03-23T10:37:02.946746Z",
     "iopub.status.idle": "2022-03-23T10:37:02.953413Z",
     "shell.execute_reply": "2022-03-23T10:37:02.952132Z",
     "shell.execute_reply.started": "2022-03-23T10:37:02.947074Z"
    },
    "papermill": {
     "duration": 0.039768,
     "end_time": "2022-03-23T13:18:44.099551",
     "exception": false,
     "start_time": "2022-03-23T13:18:44.059783",
     "status": "completed"
    },
    "tags": []
   },
   "outputs": [],
   "source": [
    "#import random\n",
    "#random_idx_list = [random.randint(1,len(df.text)) for i in range(10)] # random indexes to choose from dataframe\n",
    "#df.loc[random_idx_list,:].head(10) # Returns  rows with  index "
   ]
  },
  {
   "cell_type": "markdown",
   "metadata": {
    "papermill": {
     "duration": 0.032067,
     "end_time": "2022-03-23T13:18:44.164717",
     "exception": false,
     "start_time": "2022-03-23T13:18:44.132650",
     "status": "completed"
    },
    "tags": []
   },
   "source": [
    "### Stemming/ Lematization"
   ]
  },
  {
   "cell_type": "code",
   "execution_count": 11,
   "metadata": {
    "execution": {
     "iopub.execute_input": "2022-03-23T10:37:02.956474Z",
     "iopub.status.busy": "2022-03-23T10:37:02.95565Z",
     "iopub.status.idle": "2022-03-23T10:37:02.966534Z",
     "shell.execute_reply": "2022-03-23T10:37:02.965467Z",
     "shell.execute_reply.started": "2022-03-23T10:37:02.956251Z"
    },
    "papermill": {
     "duration": 0.040779,
     "end_time": "2022-03-23T13:18:44.238054",
     "exception": false,
     "start_time": "2022-03-23T13:18:44.197275",
     "status": "completed"
    },
    "tags": []
   },
   "outputs": [],
   "source": [
    "stop_words = stopwords.words('english')\n",
    "stemmer = SnowballStemmer('english')\n",
    "\n",
    "text_cleaning_re = \"@\\S+|https?:\\S+|http?:\\S|[^A-Za-z0-9]+\""
   ]
  },
  {
   "cell_type": "code",
   "execution_count": 12,
   "metadata": {
    "execution": {
     "iopub.execute_input": "2022-03-23T10:37:02.970867Z",
     "iopub.status.busy": "2022-03-23T10:37:02.969922Z",
     "iopub.status.idle": "2022-03-23T10:37:02.980929Z",
     "shell.execute_reply": "2022-03-23T10:37:02.979473Z",
     "shell.execute_reply.started": "2022-03-23T10:37:02.970241Z"
    },
    "papermill": {
     "duration": 0.041479,
     "end_time": "2022-03-23T13:18:44.312038",
     "exception": false,
     "start_time": "2022-03-23T13:18:44.270559",
     "status": "completed"
    },
    "tags": []
   },
   "outputs": [],
   "source": [
    "def preprocess(text, stem=False):\n",
    "  text = re.sub(text_cleaning_re, ' ', str(text).lower()).strip()\n",
    "  tokens = []\n",
    "  for token in text.split():\n",
    "    if token not in stop_words:\n",
    "      if stem:\n",
    "        tokens.append(stemmer.stem(token))\n",
    "      else:\n",
    "        tokens.append(token)\n",
    "  return \" \".join(tokens)"
   ]
  },
  {
   "cell_type": "code",
   "execution_count": 13,
   "metadata": {
    "execution": {
     "iopub.execute_input": "2022-03-23T10:37:02.983788Z",
     "iopub.status.busy": "2022-03-23T10:37:02.982925Z",
     "iopub.status.idle": "2022-03-23T10:38:11.04847Z",
     "shell.execute_reply": "2022-03-23T10:38:11.047178Z",
     "shell.execute_reply.started": "2022-03-23T10:37:02.983483Z"
    },
    "papermill": {
     "duration": 62.284493,
     "end_time": "2022-03-23T13:19:46.629254",
     "exception": false,
     "start_time": "2022-03-23T13:18:44.344761",
     "status": "completed"
    },
    "tags": []
   },
   "outputs": [
    {
     "data": {
      "text/html": [
       "<div>\n",
       "<style scoped>\n",
       "    .dataframe tbody tr th:only-of-type {\n",
       "        vertical-align: middle;\n",
       "    }\n",
       "\n",
       "    .dataframe tbody tr th {\n",
       "        vertical-align: top;\n",
       "    }\n",
       "\n",
       "    .dataframe thead th {\n",
       "        text-align: right;\n",
       "    }\n",
       "</style>\n",
       "<table border=\"1\" class=\"dataframe\">\n",
       "  <thead>\n",
       "    <tr style=\"text-align: right;\">\n",
       "      <th></th>\n",
       "      <th>sentiment</th>\n",
       "      <th>text</th>\n",
       "    </tr>\n",
       "  </thead>\n",
       "  <tbody>\n",
       "    <tr>\n",
       "      <th>0</th>\n",
       "      <td>Negative</td>\n",
       "      <td>awww bummer shoulda got david carr third day</td>\n",
       "    </tr>\n",
       "    <tr>\n",
       "      <th>1</th>\n",
       "      <td>Negative</td>\n",
       "      <td>upset update facebook texting might cry result...</td>\n",
       "    </tr>\n",
       "    <tr>\n",
       "      <th>2</th>\n",
       "      <td>Negative</td>\n",
       "      <td>dived many times ball managed save 50 rest go ...</td>\n",
       "    </tr>\n",
       "    <tr>\n",
       "      <th>3</th>\n",
       "      <td>Negative</td>\n",
       "      <td>whole body feels itchy like fire</td>\n",
       "    </tr>\n",
       "    <tr>\n",
       "      <th>4</th>\n",
       "      <td>Negative</td>\n",
       "      <td>behaving mad see</td>\n",
       "    </tr>\n",
       "  </tbody>\n",
       "</table>\n",
       "</div>"
      ],
      "text/plain": [
       "  sentiment                                               text\n",
       "0  Negative       awww bummer shoulda got david carr third day\n",
       "1  Negative  upset update facebook texting might cry result...\n",
       "2  Negative  dived many times ball managed save 50 rest go ...\n",
       "3  Negative                   whole body feels itchy like fire\n",
       "4  Negative                                   behaving mad see"
      ]
     },
     "execution_count": 13,
     "metadata": {},
     "output_type": "execute_result"
    }
   ],
   "source": [
    "df.text = df.text.apply(lambda x: preprocess(x))\n",
    "df.head()"
   ]
  },
  {
   "cell_type": "markdown",
   "metadata": {
    "papermill": {
     "duration": 0.031291,
     "end_time": "2022-03-23T13:19:46.693084",
     "exception": false,
     "start_time": "2022-03-23T13:19:46.661793",
     "status": "completed"
    },
    "tags": []
   },
   "source": [
    "## Train and Test Split"
   ]
  },
  {
   "cell_type": "code",
   "execution_count": 14,
   "metadata": {
    "execution": {
     "iopub.execute_input": "2022-03-23T10:38:11.050829Z",
     "iopub.status.busy": "2022-03-23T10:38:11.050362Z",
     "iopub.status.idle": "2022-03-23T10:38:11.056717Z",
     "shell.execute_reply": "2022-03-23T10:38:11.05517Z",
     "shell.execute_reply.started": "2022-03-23T10:38:11.05077Z"
    },
    "papermill": {
     "duration": 0.039182,
     "end_time": "2022-03-23T13:19:46.764126",
     "exception": false,
     "start_time": "2022-03-23T13:19:46.724944",
     "status": "completed"
    },
    "tags": []
   },
   "outputs": [],
   "source": [
    "TRAIN_SIZE = 0.8\n",
    "MAX_NB_WORDS = 100000 # maximum size of the vocabulary\n",
    "MAX_SEQUENCE_LENGTH = 30 #sequence in one constant length"
   ]
  },
  {
   "cell_type": "code",
   "execution_count": 15,
   "metadata": {
    "execution": {
     "iopub.execute_input": "2022-03-23T10:38:11.05931Z",
     "iopub.status.busy": "2022-03-23T10:38:11.058535Z",
     "iopub.status.idle": "2022-03-23T10:38:11.52373Z",
     "shell.execute_reply": "2022-03-23T10:38:11.522576Z",
     "shell.execute_reply.started": "2022-03-23T10:38:11.059229Z"
    },
    "papermill": {
     "duration": 0.487359,
     "end_time": "2022-03-23T13:19:47.283146",
     "exception": false,
     "start_time": "2022-03-23T13:19:46.795787",
     "status": "completed"
    },
    "tags": []
   },
   "outputs": [
    {
     "name": "stdout",
     "output_type": "stream",
     "text": [
      "Train Data size: 1280000\n",
      "Test Data size 320000\n"
     ]
    }
   ],
   "source": [
    "train_data, test_data = train_test_split(df, test_size=1-TRAIN_SIZE,\n",
    "                                         random_state=7) # Splits Dataset into Training and Testing set\n",
    "print(\"Train Data size:\", len(train_data))\n",
    "print(\"Test Data size\", len(test_data))"
   ]
  },
  {
   "cell_type": "code",
   "execution_count": 16,
   "metadata": {
    "execution": {
     "iopub.execute_input": "2022-03-23T10:38:11.525833Z",
     "iopub.status.busy": "2022-03-23T10:38:11.525391Z",
     "iopub.status.idle": "2022-03-23T10:38:11.541475Z",
     "shell.execute_reply": "2022-03-23T10:38:11.539966Z",
     "shell.execute_reply.started": "2022-03-23T10:38:11.525755Z"
    },
    "papermill": {
     "duration": 0.045643,
     "end_time": "2022-03-23T13:19:47.361058",
     "exception": false,
     "start_time": "2022-03-23T13:19:47.315415",
     "status": "completed"
    },
    "tags": []
   },
   "outputs": [
    {
     "data": {
      "text/html": [
       "<div>\n",
       "<style scoped>\n",
       "    .dataframe tbody tr th:only-of-type {\n",
       "        vertical-align: middle;\n",
       "    }\n",
       "\n",
       "    .dataframe tbody tr th {\n",
       "        vertical-align: top;\n",
       "    }\n",
       "\n",
       "    .dataframe thead th {\n",
       "        text-align: right;\n",
       "    }\n",
       "</style>\n",
       "<table border=\"1\" class=\"dataframe\">\n",
       "  <thead>\n",
       "    <tr style=\"text-align: right;\">\n",
       "      <th></th>\n",
       "      <th>sentiment</th>\n",
       "      <th>text</th>\n",
       "    </tr>\n",
       "  </thead>\n",
       "  <tbody>\n",
       "    <tr>\n",
       "      <th>23786</th>\n",
       "      <td>Negative</td>\n",
       "      <td>need friends</td>\n",
       "    </tr>\n",
       "    <tr>\n",
       "      <th>182699</th>\n",
       "      <td>Negative</td>\n",
       "      <td>im trying call impossible</td>\n",
       "    </tr>\n",
       "    <tr>\n",
       "      <th>476661</th>\n",
       "      <td>Negative</td>\n",
       "      <td>good pace going 3k 13 min missed 5k turn ended...</td>\n",
       "    </tr>\n",
       "    <tr>\n",
       "      <th>1181490</th>\n",
       "      <td>Positive</td>\n",
       "      <td>u gonna shows ny soon luv see u live</td>\n",
       "    </tr>\n",
       "    <tr>\n",
       "      <th>878773</th>\n",
       "      <td>Positive</td>\n",
       "      <td>hell yea get em tattoos ink free wish parents ...</td>\n",
       "    </tr>\n",
       "    <tr>\n",
       "      <th>130866</th>\n",
       "      <td>Negative</td>\n",
       "      <td>yeah need 2 see ur mom calls back first rememb...</td>\n",
       "    </tr>\n",
       "    <tr>\n",
       "      <th>1235876</th>\n",
       "      <td>Positive</td>\n",
       "      <td>sounds like cup tea sign</td>\n",
       "    </tr>\n",
       "    <tr>\n",
       "      <th>717314</th>\n",
       "      <td>Negative</td>\n",
       "      <td>tired want sleep wtf</td>\n",
       "    </tr>\n",
       "    <tr>\n",
       "      <th>969880</th>\n",
       "      <td>Positive</td>\n",
       "      <td>amazing wish</td>\n",
       "    </tr>\n",
       "    <tr>\n",
       "      <th>748698</th>\n",
       "      <td>Negative</td>\n",
       "      <td>thank god wkrn abc affiliate nashville back mi...</td>\n",
       "    </tr>\n",
       "  </tbody>\n",
       "</table>\n",
       "</div>"
      ],
      "text/plain": [
       "        sentiment                                               text\n",
       "23786    Negative                                       need friends\n",
       "182699   Negative                          im trying call impossible\n",
       "476661   Negative  good pace going 3k 13 min missed 5k turn ended...\n",
       "1181490  Positive               u gonna shows ny soon luv see u live\n",
       "878773   Positive  hell yea get em tattoos ink free wish parents ...\n",
       "130866   Negative  yeah need 2 see ur mom calls back first rememb...\n",
       "1235876  Positive                           sounds like cup tea sign\n",
       "717314   Negative                               tired want sleep wtf\n",
       "969880   Positive                                       amazing wish\n",
       "748698   Negative  thank god wkrn abc affiliate nashville back mi..."
      ]
     },
     "execution_count": 16,
     "metadata": {},
     "output_type": "execute_result"
    }
   ],
   "source": [
    "train_data.head(10)"
   ]
  },
  {
   "cell_type": "code",
   "execution_count": 17,
   "metadata": {
    "execution": {
     "iopub.execute_input": "2022-03-23T10:38:11.544354Z",
     "iopub.status.busy": "2022-03-23T10:38:11.543553Z",
     "iopub.status.idle": "2022-03-23T10:38:11.560486Z",
     "shell.execute_reply": "2022-03-23T10:38:11.559565Z",
     "shell.execute_reply.started": "2022-03-23T10:38:11.544287Z"
    },
    "papermill": {
     "duration": 0.044985,
     "end_time": "2022-03-23T13:19:47.438437",
     "exception": false,
     "start_time": "2022-03-23T13:19:47.393452",
     "status": "completed"
    },
    "tags": []
   },
   "outputs": [
    {
     "data": {
      "text/html": [
       "<div>\n",
       "<style scoped>\n",
       "    .dataframe tbody tr th:only-of-type {\n",
       "        vertical-align: middle;\n",
       "    }\n",
       "\n",
       "    .dataframe tbody tr th {\n",
       "        vertical-align: top;\n",
       "    }\n",
       "\n",
       "    .dataframe thead th {\n",
       "        text-align: right;\n",
       "    }\n",
       "</style>\n",
       "<table border=\"1\" class=\"dataframe\">\n",
       "  <thead>\n",
       "    <tr style=\"text-align: right;\">\n",
       "      <th></th>\n",
       "      <th>sentiment</th>\n",
       "      <th>text</th>\n",
       "    </tr>\n",
       "  </thead>\n",
       "  <tbody>\n",
       "    <tr>\n",
       "      <th>709290</th>\n",
       "      <td>Negative</td>\n",
       "      <td>feelin lately reason</td>\n",
       "    </tr>\n",
       "    <tr>\n",
       "      <th>654075</th>\n",
       "      <td>Negative</td>\n",
       "      <td>ju clare elly zoe leave marbella</td>\n",
       "    </tr>\n",
       "    <tr>\n",
       "      <th>728623</th>\n",
       "      <td>Negative</td>\n",
       "      <td>wish couldve seen miley nick sing 2night</td>\n",
       "    </tr>\n",
       "    <tr>\n",
       "      <th>697650</th>\n",
       "      <td>Negative</td>\n",
       "      <td>work today 1 hour 6 go</td>\n",
       "    </tr>\n",
       "    <tr>\n",
       "      <th>1244425</th>\n",
       "      <td>Positive</td>\n",
       "      <td>started catch house viewing kind odd watched b...</td>\n",
       "    </tr>\n",
       "  </tbody>\n",
       "</table>\n",
       "</div>"
      ],
      "text/plain": [
       "        sentiment                                               text\n",
       "709290   Negative                               feelin lately reason\n",
       "654075   Negative                   ju clare elly zoe leave marbella\n",
       "728623   Negative           wish couldve seen miley nick sing 2night\n",
       "697650   Negative                             work today 1 hour 6 go\n",
       "1244425  Positive  started catch house viewing kind odd watched b..."
      ]
     },
     "execution_count": 17,
     "metadata": {},
     "output_type": "execute_result"
    }
   ],
   "source": [
    "test_data.head(5)"
   ]
  },
  {
   "cell_type": "markdown",
   "metadata": {
    "papermill": {
     "duration": 0.032733,
     "end_time": "2022-03-23T13:19:47.503785",
     "exception": false,
     "start_time": "2022-03-23T13:19:47.471052",
     "status": "completed"
    },
    "tags": []
   },
   "source": [
    "# Tokenization"
   ]
  },
  {
   "cell_type": "code",
   "execution_count": 18,
   "metadata": {
    "execution": {
     "iopub.execute_input": "2022-03-23T10:38:11.562905Z",
     "iopub.status.busy": "2022-03-23T10:38:11.562517Z",
     "iopub.status.idle": "2022-03-23T10:38:37.63699Z",
     "shell.execute_reply": "2022-03-23T10:38:37.634945Z",
     "shell.execute_reply.started": "2022-03-23T10:38:11.56283Z"
    },
    "papermill": {
     "duration": 22.259006,
     "end_time": "2022-03-23T13:20:09.795896",
     "exception": false,
     "start_time": "2022-03-23T13:19:47.536890",
     "status": "completed"
    },
    "tags": []
   },
   "outputs": [
    {
     "name": "stderr",
     "output_type": "stream",
     "text": [
      "Using TensorFlow backend.\n"
     ]
    },
    {
     "name": "stdout",
     "output_type": "stream",
     "text": [
      "Vocabulary Size : 290575\n"
     ]
    }
   ],
   "source": [
    "from keras.preprocessing.text import Tokenizer\n",
    "\n",
    "tokenizer = Tokenizer()\n",
    "tokenizer.fit_on_texts(train_data.text)\n",
    "\n",
    "word_index = tokenizer.word_index\n",
    "vocab_size = len(tokenizer.word_index) + 1\n",
    "print(\"Vocabulary Size :\", vocab_size)"
   ]
  },
  {
   "cell_type": "code",
   "execution_count": 19,
   "metadata": {
    "execution": {
     "iopub.execute_input": "2022-03-23T10:38:37.639148Z",
     "iopub.status.busy": "2022-03-23T10:38:37.638677Z",
     "iopub.status.idle": "2022-03-23T10:39:16.225907Z",
     "shell.execute_reply": "2022-03-23T10:39:16.224681Z",
     "shell.execute_reply.started": "2022-03-23T10:38:37.63907Z"
    },
    "papermill": {
     "duration": 35.233264,
     "end_time": "2022-03-23T13:20:45.063868",
     "exception": false,
     "start_time": "2022-03-23T13:20:09.830604",
     "status": "completed"
    },
    "tags": []
   },
   "outputs": [],
   "source": [
    "from keras.preprocessing.sequence import pad_sequences\n",
    "\n",
    "x_train = pad_sequences(tokenizer.texts_to_sequences(train_data.text),\n",
    "                        maxlen = MAX_SEQUENCE_LENGTH)\n",
    "x_test = pad_sequences(tokenizer.texts_to_sequences(test_data.text),\n",
    "                       maxlen = MAX_SEQUENCE_LENGTH)\n"
   ]
  },
  {
   "cell_type": "code",
   "execution_count": 20,
   "metadata": {
    "execution": {
     "iopub.execute_input": "2022-03-23T10:39:16.228065Z",
     "iopub.status.busy": "2022-03-23T10:39:16.227616Z",
     "iopub.status.idle": "2022-03-23T10:39:16.290823Z",
     "shell.execute_reply": "2022-03-23T10:39:16.289849Z",
     "shell.execute_reply.started": "2022-03-23T10:39:16.228008Z"
    },
    "papermill": {
     "duration": 0.104787,
     "end_time": "2022-03-23T13:20:45.202527",
     "exception": false,
     "start_time": "2022-03-23T13:20:45.097740",
     "status": "completed"
    },
    "tags": []
   },
   "outputs": [],
   "source": [
    "labels = train_data.sentiment.unique().tolist()"
   ]
  },
  {
   "cell_type": "markdown",
   "metadata": {
    "papermill": {
     "duration": 0.033044,
     "end_time": "2022-03-23T13:20:45.269048",
     "exception": false,
     "start_time": "2022-03-23T13:20:45.236004",
     "status": "completed"
    },
    "tags": []
   },
   "source": [
    "### Label Encoding "
   ]
  },
  {
   "cell_type": "code",
   "execution_count": 21,
   "metadata": {
    "execution": {
     "iopub.execute_input": "2022-03-23T10:39:16.293357Z",
     "iopub.status.busy": "2022-03-23T10:39:16.292642Z",
     "iopub.status.idle": "2022-03-23T10:39:17.282334Z",
     "shell.execute_reply": "2022-03-23T10:39:17.280575Z",
     "shell.execute_reply.started": "2022-03-23T10:39:16.293104Z"
    },
    "papermill": {
     "duration": 1.035936,
     "end_time": "2022-03-23T13:20:46.338540",
     "exception": false,
     "start_time": "2022-03-23T13:20:45.302604",
     "status": "completed"
    },
    "tags": []
   },
   "outputs": [
    {
     "name": "stdout",
     "output_type": "stream",
     "text": [
      "y_train shape: (1280000, 1)\n",
      "y_test shape: (320000, 1)\n"
     ]
    }
   ],
   "source": [
    "encoder = LabelEncoder()\n",
    "encoder.fit(train_data.sentiment.to_list())\n",
    "\n",
    "y_train = encoder.transform(train_data.sentiment.to_list())\n",
    "y_test = encoder.transform(test_data.sentiment.to_list())\n",
    "\n",
    "y_train = y_train.reshape(-1,1)\n",
    "y_test = y_test.reshape(-1,1)\n",
    "\n",
    "print(\"y_train shape:\", y_train.shape)\n",
    "print(\"y_test shape:\", y_test.shape)"
   ]
  },
  {
   "cell_type": "markdown",
   "metadata": {
    "papermill": {
     "duration": 0.034717,
     "end_time": "2022-03-23T13:20:46.410097",
     "exception": false,
     "start_time": "2022-03-23T13:20:46.375380",
     "status": "completed"
    },
    "tags": []
   },
   "source": [
    "# Word Emdedding"
   ]
  },
  {
   "cell_type": "code",
   "execution_count": 22,
   "metadata": {
    "execution": {
     "iopub.execute_input": "2022-03-23T10:39:17.286182Z",
     "iopub.status.busy": "2022-03-23T10:39:17.28581Z",
     "iopub.status.idle": "2022-03-23T10:42:24.598182Z",
     "shell.execute_reply": "2022-03-23T10:42:24.596853Z",
     "shell.execute_reply.started": "2022-03-23T10:39:17.28612Z"
    },
    "papermill": {
     "duration": 186.092631,
     "end_time": "2022-03-23T13:23:52.537482",
     "exception": false,
     "start_time": "2022-03-23T13:20:46.444851",
     "status": "completed"
    },
    "tags": []
   },
   "outputs": [
    {
     "name": "stdout",
     "output_type": "stream",
     "text": [
      "--2022-03-23 13:20:47--  http://nlp.stanford.edu/data/glove.6B.zip\r\n",
      "Resolving nlp.stanford.edu (nlp.stanford.edu)... 171.64.67.140\r\n",
      "Connecting to nlp.stanford.edu (nlp.stanford.edu)|171.64.67.140|:80... connected.\r\n",
      "HTTP request sent, awaiting response... 302 Found\r\n",
      "Location: https://nlp.stanford.edu/data/glove.6B.zip [following]\r\n",
      "--2022-03-23 13:20:47--  https://nlp.stanford.edu/data/glove.6B.zip\r\n",
      "Connecting to nlp.stanford.edu (nlp.stanford.edu)|171.64.67.140|:443... connected.\r\n",
      "HTTP request sent, awaiting response... 301 Moved Permanently\r\n",
      "Location: http://downloads.cs.stanford.edu/nlp/data/glove.6B.zip [following]\r\n",
      "--2022-03-23 13:20:48--  http://downloads.cs.stanford.edu/nlp/data/glove.6B.zip\r\n",
      "Resolving downloads.cs.stanford.edu (downloads.cs.stanford.edu)... 171.64.64.22\r\n",
      "Connecting to downloads.cs.stanford.edu (downloads.cs.stanford.edu)|171.64.64.22|:80... connected.\r\n",
      "HTTP request sent, awaiting response... 200 OK\r\n",
      "Length: 862182613 (822M) [application/zip]\r\n",
      "Saving to: ‘glove.6B.zip’\r\n",
      "\r\n",
      "glove.6B.zip        100%[===================>] 822.24M  5.07MB/s    in 2m 41s  \r\n",
      "\r\n",
      "2022-03-23 13:23:30 (5.09 MB/s) - ‘glove.6B.zip’ saved [862182613/862182613]\r\n",
      "\r\n",
      "Archive:  glove.6B.zip\r\n",
      "  inflating: glove.6B.50d.txt        \r\n",
      "  inflating: glove.6B.100d.txt       \r\n",
      "  inflating: glove.6B.200d.txt       \r\n",
      "  inflating: glove.6B.300d.txt       \r\n"
     ]
    }
   ],
   "source": [
    "!wget http://nlp.stanford.edu/data/glove.6B.zip\n",
    "!unzip glove.6B.zip"
   ]
  },
  {
   "cell_type": "code",
   "execution_count": 23,
   "metadata": {
    "execution": {
     "iopub.execute_input": "2022-03-23T10:42:24.603143Z",
     "iopub.status.busy": "2022-03-23T10:42:24.602623Z",
     "iopub.status.idle": "2022-03-23T10:42:24.609582Z",
     "shell.execute_reply": "2022-03-23T10:42:24.608317Z",
     "shell.execute_reply.started": "2022-03-23T10:42:24.603058Z"
    },
    "papermill": {
     "duration": 0.282822,
     "end_time": "2022-03-23T13:23:52.918779",
     "exception": false,
     "start_time": "2022-03-23T13:23:52.635957",
     "status": "completed"
    },
    "tags": []
   },
   "outputs": [],
   "source": [
    "GLOVE_EMB = '/kaggle/working/glove.6B.300d.txt'\n",
    "EMBEDDING_DIM = 300 #dimension of the word embeddings\n",
    "LR = 1e-3 # learning rate\n",
    "BATCH_SIZE = 1024\n",
    "EPOCHS = 10\n",
    "MODEL_PATH = '.../output/kaggle/working/best_model.hdf5'"
   ]
  },
  {
   "cell_type": "code",
   "execution_count": 24,
   "metadata": {
    "execution": {
     "iopub.execute_input": "2022-03-23T10:42:24.611481Z",
     "iopub.status.busy": "2022-03-23T10:42:24.611029Z",
     "iopub.status.idle": "2022-03-23T10:43:16.67457Z",
     "shell.execute_reply": "2022-03-23T10:43:16.673551Z",
     "shell.execute_reply.started": "2022-03-23T10:42:24.611422Z"
    },
    "papermill": {
     "duration": 46.654907,
     "end_time": "2022-03-23T13:24:39.676128",
     "exception": false,
     "start_time": "2022-03-23T13:23:53.021221",
     "status": "completed"
    },
    "tags": []
   },
   "outputs": [],
   "source": [
    "embeddings_index = {}\n",
    "\n",
    "f = open(GLOVE_EMB)\n",
    "for line in f:\n",
    "  values = line.split()\n",
    "  word = value = values[0]\n",
    "  coefs = np.asarray(values[1:], dtype='float32')\n",
    "  embeddings_index[word] = coefs\n",
    "f.close()\n",
    "\n",
    "#print('Found %s word vectors.' %len(embeddings_index))"
   ]
  },
  {
   "cell_type": "code",
   "execution_count": 25,
   "metadata": {
    "execution": {
     "iopub.execute_input": "2022-03-23T10:43:16.676655Z",
     "iopub.status.busy": "2022-03-23T10:43:16.67626Z",
     "iopub.status.idle": "2022-03-23T10:43:17.210993Z",
     "shell.execute_reply": "2022-03-23T10:43:17.20983Z",
     "shell.execute_reply.started": "2022-03-23T10:43:16.676599Z"
    },
    "papermill": {
     "duration": 0.612223,
     "end_time": "2022-03-23T13:24:40.384749",
     "exception": false,
     "start_time": "2022-03-23T13:24:39.772526",
     "status": "completed"
    },
    "tags": []
   },
   "outputs": [],
   "source": [
    "embedding_matrix = np.zeros((vocab_size, EMBEDDING_DIM))\n",
    "for word, i in word_index.items():\n",
    "  embedding_vector = embeddings_index.get(word)\n",
    "  if embedding_vector is not None:\n",
    "    # words not found in embedding index will be all-zeros.\n",
    "    embedding_matrix[i] = embedding_vector"
   ]
  },
  {
   "cell_type": "code",
   "execution_count": 26,
   "metadata": {
    "execution": {
     "iopub.execute_input": "2022-03-23T10:43:17.213712Z",
     "iopub.status.busy": "2022-03-23T10:43:17.213127Z",
     "iopub.status.idle": "2022-03-23T10:43:17.226964Z",
     "shell.execute_reply": "2022-03-23T10:43:17.225387Z",
     "shell.execute_reply.started": "2022-03-23T10:43:17.213504Z"
    },
    "papermill": {
     "duration": 0.181855,
     "end_time": "2022-03-23T13:24:40.729433",
     "exception": false,
     "start_time": "2022-03-23T13:24:40.547578",
     "status": "completed"
    },
    "tags": []
   },
   "outputs": [],
   "source": [
    "embedding_layer = tf.keras.layers.Embedding(vocab_size,\n",
    "                                          EMBEDDING_DIM,\n",
    "                                          weights=[embedding_matrix],\n",
    "                                          input_length=MAX_SEQUENCE_LENGTH,\n",
    "                                          trainable=False)# prevent the weights from being updated during training."
   ]
  },
  {
   "cell_type": "markdown",
   "metadata": {
    "papermill": {
     "duration": 0.142328,
     "end_time": "2022-03-23T13:24:41.030601",
     "exception": false,
     "start_time": "2022-03-23T13:24:40.888273",
     "status": "completed"
    },
    "tags": []
   },
   "source": [
    "# Model Training - LSTM\n",
    "\n",
    "### Sequence Model\n",
    "\n",
    "For model architecture, we use\n",
    "\n",
    "1) **Embedding Layer** - Generates Embedding Vector for each input sequence.\n",
    "\n",
    "2) **Conv1D Layer** - Its using to convolve data into smaller feature vectors. \n",
    "\n",
    "3) **LSTM** - Long Short Term Memory, its a variant of RNN which has memory state cell to learn the context of words which are at further along the text to carry contextual meaning rather than just neighbouring words as in case of RNN.\n",
    "\n",
    "4) **Dense** - Fully Connected Layers for classification\n"
   ]
  },
  {
   "cell_type": "code",
   "execution_count": 27,
   "metadata": {
    "execution": {
     "iopub.execute_input": "2022-03-23T10:43:17.230041Z",
     "iopub.status.busy": "2022-03-23T10:43:17.228942Z",
     "iopub.status.idle": "2022-03-23T10:43:17.253138Z",
     "shell.execute_reply": "2022-03-23T10:43:17.252133Z",
     "shell.execute_reply.started": "2022-03-23T10:43:17.229403Z"
    },
    "papermill": {
     "duration": 0.114098,
     "end_time": "2022-03-23T13:24:41.240073",
     "exception": false,
     "start_time": "2022-03-23T13:24:41.125975",
     "status": "completed"
    },
    "tags": []
   },
   "outputs": [],
   "source": [
    "from tensorflow.keras.layers import Conv1D, Bidirectional, LSTM, Dense, Input, Dropout\n",
    "from tensorflow.keras.layers import SpatialDropout1D\n",
    "from tensorflow.keras.callbacks import ModelCheckpoint"
   ]
  },
  {
   "cell_type": "code",
   "execution_count": 28,
   "metadata": {
    "execution": {
     "iopub.execute_input": "2022-03-23T10:43:17.25644Z",
     "iopub.status.busy": "2022-03-23T10:43:17.255749Z",
     "iopub.status.idle": "2022-03-23T10:43:22.505717Z",
     "shell.execute_reply": "2022-03-23T10:43:22.504723Z",
     "shell.execute_reply.started": "2022-03-23T10:43:17.256375Z"
    },
    "papermill": {
     "duration": 4.366399,
     "end_time": "2022-03-23T13:24:45.702414",
     "exception": false,
     "start_time": "2022-03-23T13:24:41.336015",
     "status": "completed"
    },
    "tags": []
   },
   "outputs": [],
   "source": [
    "sequence_input = Input(shape=(MAX_SEQUENCE_LENGTH,), dtype='int32')\n",
    "embedding_sequences = embedding_layer(sequence_input)\n",
    "x = SpatialDropout1D(0.2)(embedding_sequences)#rate\n",
    "x = Conv1D(64, 5, activation='relu')(x) #filters, kernel\n",
    "x = Bidirectional(LSTM(64, dropout=0.2, recurrent_dropout=0.2))(x) #units\n",
    "x = Dense(512, activation='relu')(x)#units\n",
    "x = Dropout(0.5)(x)\n",
    "x = Dense(512, activation='relu')(x)\n",
    "outputs = Dense(1, activation='sigmoid')(x)\n",
    "model = tf.keras.Model(sequence_input, outputs)"
   ]
  },
  {
   "cell_type": "markdown",
   "metadata": {
    "papermill": {
     "duration": 0.096553,
     "end_time": "2022-03-23T13:24:45.894287",
     "exception": false,
     "start_time": "2022-03-23T13:24:45.797734",
     "status": "completed"
    },
    "tags": []
   },
   "source": [
    "### Optimization Algorithm: Adam optimizer \n",
    "\n",
    "### Callbacks\n",
    "    1.LRScheduler \n",
    "    2.ModelCheckPoint "
   ]
  },
  {
   "cell_type": "code",
   "execution_count": 29,
   "metadata": {
    "execution": {
     "iopub.execute_input": "2022-03-23T10:43:22.507874Z",
     "iopub.status.busy": "2022-03-23T10:43:22.507441Z",
     "iopub.status.idle": "2022-03-23T10:43:22.564528Z",
     "shell.execute_reply": "2022-03-23T10:43:22.563614Z",
     "shell.execute_reply.started": "2022-03-23T10:43:22.507784Z"
    },
    "papermill": {
     "duration": 0.140284,
     "end_time": "2022-03-23T13:24:46.130167",
     "exception": false,
     "start_time": "2022-03-23T13:24:45.989883",
     "status": "completed"
    },
    "tags": []
   },
   "outputs": [],
   "source": [
    "from tensorflow.keras.optimizers import Adam\n",
    "from tensorflow.keras.callbacks import ReduceLROnPlateau\n",
    "#loss function \n",
    "model.compile(optimizer=Adam(learning_rate=LR), loss='binary_crossentropy',metrics=['accuracy'])\n",
    "# to reduce learning rate \n",
    "ReduceLROnPlateau = ReduceLROnPlateau(factor=0.1,\n",
    "                                     min_lr = 0.01,\n",
    "                                     monitor = 'val_loss',\n",
    "                                     verbose = 1)"
   ]
  },
  {
   "cell_type": "code",
   "execution_count": 30,
   "metadata": {
    "execution": {
     "iopub.execute_input": "2022-03-23T10:43:22.567934Z",
     "iopub.status.busy": "2022-03-23T10:43:22.567121Z",
     "iopub.status.idle": "2022-03-23T10:43:22.583097Z",
     "shell.execute_reply": "2022-03-23T10:43:22.580108Z",
     "shell.execute_reply.started": "2022-03-23T10:43:22.567845Z"
    },
    "papermill": {
     "duration": 0.109435,
     "end_time": "2022-03-23T13:24:46.334757",
     "exception": false,
     "start_time": "2022-03-23T13:24:46.225322",
     "status": "completed"
    },
    "tags": []
   },
   "outputs": [
    {
     "name": "stdout",
     "output_type": "stream",
     "text": [
      "Training on GPU...\n"
     ]
    }
   ],
   "source": [
    "print(\"Training on GPU...\") if tf.test.is_gpu_available() else print(\"Training on CPU...\")"
   ]
  },
  {
   "cell_type": "code",
   "execution_count": 31,
   "metadata": {
    "execution": {
     "iopub.execute_input": "2022-03-23T10:43:22.58607Z",
     "iopub.status.busy": "2022-03-23T10:43:22.585512Z",
     "iopub.status.idle": "2022-03-23T11:06:24.006291Z",
     "shell.execute_reply": "2022-03-23T11:06:24.005096Z",
     "shell.execute_reply.started": "2022-03-23T10:43:22.586008Z"
    },
    "papermill": {
     "duration": 1058.871091,
     "end_time": "2022-03-23T13:42:25.302105",
     "exception": false,
     "start_time": "2022-03-23T13:24:46.431014",
     "status": "completed"
    },
    "tags": []
   },
   "outputs": [
    {
     "name": "stdout",
     "output_type": "stream",
     "text": [
      "Train on 1280000 samples, validate on 320000 samples\n",
      "Epoch 1/10\n",
      "1280000/1280000 [==============================] - 112s 88us/sample - loss: 0.5223 - accuracy: 0.7370 - val_loss: 0.4827 - val_accuracy: 0.7652\n",
      "Epoch 2/10\n",
      "1280000/1280000 [==============================] - 106s 83us/sample - loss: 0.4900 - accuracy: 0.7607 - val_loss: 0.4727 - val_accuracy: 0.7721\n",
      "Epoch 3/10\n",
      "1280000/1280000 [==============================] - 104s 81us/sample - loss: 0.4794 - accuracy: 0.7680 - val_loss: 0.4698 - val_accuracy: 0.7749\n",
      "Epoch 4/10\n",
      "1280000/1280000 [==============================] - 106s 83us/sample - loss: 0.4728 - accuracy: 0.7719 - val_loss: 0.4643 - val_accuracy: 0.7775\n",
      "Epoch 5/10\n",
      "1280000/1280000 [==============================] - 105s 82us/sample - loss: 0.4682 - accuracy: 0.7749 - val_loss: 0.4619 - val_accuracy: 0.7782\n",
      "Epoch 6/10\n",
      "1280000/1280000 [==============================] - 104s 81us/sample - loss: 0.4651 - accuracy: 0.7770 - val_loss: 0.4612 - val_accuracy: 0.7793\n",
      "Epoch 7/10\n",
      "1280000/1280000 [==============================] - 104s 82us/sample - loss: 0.4623 - accuracy: 0.7784 - val_loss: 0.4601 - val_accuracy: 0.7803\n",
      "Epoch 8/10\n",
      "1280000/1280000 [==============================] - 104s 82us/sample - loss: 0.4600 - accuracy: 0.7798 - val_loss: 0.4611 - val_accuracy: 0.7796\n",
      "Epoch 9/10\n",
      "1280000/1280000 [==============================] - 102s 80us/sample - loss: 0.4580 - accuracy: 0.7812 - val_loss: 0.4581 - val_accuracy: 0.7811\n",
      "Epoch 10/10\n",
      "1280000/1280000 [==============================] - 101s 79us/sample - loss: 0.4564 - accuracy: 0.7823 - val_loss: 0.4572 - val_accuracy: 0.7819\n"
     ]
    }
   ],
   "source": [
    "history = model.fit(x_train, y_train, batch_size=BATCH_SIZE, epochs=EPOCHS,\n",
    "                    validation_data=(x_test, y_test), callbacks=[ReduceLROnPlateau])"
   ]
  },
  {
   "cell_type": "markdown",
   "metadata": {
    "papermill": {
     "duration": 3.611664,
     "end_time": "2022-03-23T13:42:32.847883",
     "exception": false,
     "start_time": "2022-03-23T13:42:29.236219",
     "status": "completed"
    },
    "tags": []
   },
   "source": [
    "# Model Evaluation"
   ]
  },
  {
   "cell_type": "code",
   "execution_count": 32,
   "metadata": {
    "execution": {
     "iopub.execute_input": "2022-03-23T11:06:24.013959Z",
     "iopub.status.busy": "2022-03-23T11:06:24.013512Z",
     "iopub.status.idle": "2022-03-23T11:06:24.347233Z",
     "shell.execute_reply": "2022-03-23T11:06:24.345994Z",
     "shell.execute_reply.started": "2022-03-23T11:06:24.013871Z"
    },
    "papermill": {
     "duration": 4.145951,
     "end_time": "2022-03-23T13:42:40.699303",
     "exception": false,
     "start_time": "2022-03-23T13:42:36.553352",
     "status": "completed"
    },
    "tags": []
   },
   "outputs": [
    {
     "data": {
      "text/plain": [
       "<matplotlib.legend.Legend at 0x7fe08c0a3890>"
      ]
     },
     "execution_count": 32,
     "metadata": {},
     "output_type": "execute_result"
    },
    {
     "data": {
      "image/png": "[encoded data removed]",
      "text/plain": [
       "<Figure size 432x288 with 2 Axes>"
      ]
     },
     "metadata": {
      "needs_background": "light"
     },
     "output_type": "display_data"
    }
   ],
   "source": [
    "s, (at, al) = plt.subplots(2,1)\n",
    "at.plot(history.history['accuracy'], c= 'b')\n",
    "at.plot(history.history['val_accuracy'], c='r')\n",
    "at.set_title('model accuracy')\n",
    "at.set_ylabel('accuracy')\n",
    "at.set_xlabel('epoch')\n",
    "at.legend(['LSTM_train', 'LSTM_val'], loc='upper left')\n",
    "\n",
    "al.plot(history.history['loss'], c='m')\n",
    "al.plot(history.history['val_loss'], c='c')\n",
    "al.set_title('model loss')\n",
    "al.set_ylabel('loss')\n",
    "al.set_xlabel('epoch')\n",
    "al.legend(['train', 'val'], loc = 'upper left')"
   ]
  },
  {
   "cell_type": "code",
   "execution_count": 33,
   "metadata": {
    "execution": {
     "iopub.execute_input": "2022-03-23T11:06:24.350003Z",
     "iopub.status.busy": "2022-03-23T11:06:24.349224Z",
     "iopub.status.idle": "2022-03-23T11:06:30.980587Z",
     "shell.execute_reply": "2022-03-23T11:06:30.979635Z",
     "shell.execute_reply.started": "2022-03-23T11:06:24.349941Z"
    },
    "papermill": {
     "duration": 8.75758,
     "end_time": "2022-03-23T13:42:53.025134",
     "exception": false,
     "start_time": "2022-03-23T13:42:44.267554",
     "status": "completed"
    },
    "tags": []
   },
   "outputs": [
    {
     "name": "stdout",
     "output_type": "stream",
     "text": [
      "320000/320000 [==============================] - 4s 14us/sample\n"
     ]
    }
   ],
   "source": [
    "def decode_sentiment(score):\n",
    "    return \"Positive\" if score>0.5 else \"Negative\" # threshold = 0.5 \n",
    "\n",
    "\n",
    "scores = model.predict(x_test, verbose=1, batch_size=10000)\n",
    "y_pred_1d = [decode_sentiment(score) for score in scores]"
   ]
  },
  {
   "cell_type": "code",
   "execution_count": 34,
   "metadata": {
    "execution": {
     "iopub.execute_input": "2022-03-23T11:06:30.982468Z",
     "iopub.status.busy": "2022-03-23T11:06:30.982044Z",
     "iopub.status.idle": "2022-03-23T11:06:31.00023Z",
     "shell.execute_reply": "2022-03-23T11:06:30.998762Z",
     "shell.execute_reply.started": "2022-03-23T11:06:30.982412Z"
    },
    "papermill": {
     "duration": 3.895564,
     "end_time": "2022-03-23T13:43:01.020041",
     "exception": false,
     "start_time": "2022-03-23T13:42:57.124477",
     "status": "completed"
    },
    "tags": []
   },
   "outputs": [],
   "source": [
    "import itertools\n",
    "from sklearn.metrics import confusion_matrix, classification_report, accuracy_score\n",
    "def plot_confusion_matrix(cm, classes,\n",
    "                          title='Confusion matrix',\n",
    "                          cmap=plt.cm.Blues):\n",
    "    \"\"\"\n",
    "    prints and plots the confusion matrix.\n",
    "    \"\"\"\n",
    "\n",
    "    cm = cm.astype('float') / cm.sum(axis=1)[:, np.newaxis]\n",
    "\n",
    "    plt.imshow(cm, interpolation='nearest', cmap=cmap)\n",
    "    plt.title(title, fontsize=20)\n",
    "    plt.colorbar()\n",
    "    tick_marks = np.arange(len(classes))\n",
    "    plt.xticks(tick_marks, classes, fontsize=13)\n",
    "    plt.yticks(tick_marks, classes, fontsize=13)\n",
    "\n",
    "    fmt = '.2f'\n",
    "    thresh = cm.max() / 2.\n",
    "    for i, j in itertools.product(range(cm.shape[0]), range(cm.shape[1])):\n",
    "        plt.text(j, i, format(cm[i, j], fmt),\n",
    "                 horizontalalignment=\"center\",\n",
    "                 color=\"white\" if cm[i, j] > thresh else \"black\")\n",
    "\n",
    "    plt.ylabel('True label', fontsize=17)\n",
    "    plt.xlabel('Predicted label', fontsize=17)"
   ]
  },
  {
   "cell_type": "code",
   "execution_count": 35,
   "metadata": {
    "execution": {
     "iopub.execute_input": "2022-03-23T11:06:31.003707Z",
     "iopub.status.busy": "2022-03-23T11:06:31.002616Z",
     "iopub.status.idle": "2022-03-23T11:06:32.383322Z",
     "shell.execute_reply": "2022-03-23T11:06:32.381969Z",
     "shell.execute_reply.started": "2022-03-23T11:06:31.003646Z"
    },
    "papermill": {
     "duration": 4.913022,
     "end_time": "2022-03-23T13:43:09.564211",
     "exception": false,
     "start_time": "2022-03-23T13:43:04.651189",
     "status": "completed"
    },
    "tags": []
   },
   "outputs": [
    {
     "data": {
      "image/png": "[encoded data removed]",
      "text/plain": [
       "<Figure size 432x432 with 2 Axes>"
      ]
     },
     "metadata": {
      "needs_background": "light"
     },
     "output_type": "display_data"
    }
   ],
   "source": [
    "cnf_matrix = confusion_matrix(test_data.sentiment.to_list(), y_pred_1d)\n",
    "plt.figure(figsize=(6,6))\n",
    "plot_confusion_matrix(cnf_matrix, classes=test_data.sentiment.unique(), title=\"Confusion matrix\")\n",
    "plt.show()"
   ]
  },
  {
   "cell_type": "markdown",
   "metadata": {
    "papermill": {
     "duration": 3.611936,
     "end_time": "2022-03-23T13:43:17.051550",
     "exception": false,
     "start_time": "2022-03-23T13:43:13.439614",
     "status": "completed"
    },
    "tags": []
   },
   "source": [
    "### Classification Scores"
   ]
  },
  {
   "cell_type": "code",
   "execution_count": 36,
   "metadata": {
    "execution": {
     "iopub.execute_input": "2022-03-23T11:06:32.385623Z",
     "iopub.status.busy": "2022-03-23T11:06:32.385204Z",
     "iopub.status.idle": "2022-03-23T11:06:36.134715Z",
     "shell.execute_reply": "2022-03-23T11:06:36.13368Z",
     "shell.execute_reply.started": "2022-03-23T11:06:32.385563Z"
    },
    "papermill": {
     "duration": 7.993272,
     "end_time": "2022-03-23T13:43:28.708069",
     "exception": false,
     "start_time": "2022-03-23T13:43:20.714797",
     "status": "completed"
    },
    "tags": []
   },
   "outputs": [
    {
     "name": "stdout",
     "output_type": "stream",
     "text": [
      "              precision    recall  f1-score   support\n",
      "\n",
      "    Negative       0.78      0.79      0.78    160542\n",
      "    Positive       0.78      0.78      0.78    159458\n",
      "\n",
      "    accuracy                           0.78    320000\n",
      "   macro avg       0.78      0.78      0.78    320000\n",
      "weighted avg       0.78      0.78      0.78    320000\n",
      "\n"
     ]
    }
   ],
   "source": [
    "print(classification_report(list(test_data.sentiment), y_pred_1d))"
   ]
  }
 ],
 "metadata": {
  "kernelspec": {
   "display_name": "Python 3",
   "language": "python",
   "name": "python3"
  },
  "language_info": {
   "codemirror_mode": {
    "name": "ipython",
    "version": 3
   },
   "file_extension": ".py",
   "mimetype": "text/x-python",
   "name": "python",
   "nbconvert_exporter": "python",
   "pygments_lexer": "ipython3",
   "version": "3.7.6"
  },
  "papermill": {
   "duration": 1508.264612,
   "end_time": "2022-03-23T13:43:35.212429",
   "environment_variables": {},
   "exception": null,
   "input_path": "__notebook__.ipynb",
   "output_path": "__notebook__.ipynb",
   "parameters": {},
   "start_time": "2022-03-23T13:18:26.947817",
   "version": "1.2.1"
  }
 },
 "nbformat": 4,
 "nbformat_minor": 4
}
